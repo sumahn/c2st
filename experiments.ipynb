{
 "cells": [
  {
   "cell_type": "code",
   "execution_count": 1,
   "metadata": {},
   "outputs": [],
   "source": [
    "%load_ext autoreload \n",
    "%autoreload 2"
   ]
  },
  {
   "cell_type": "code",
   "execution_count": 5,
   "metadata": {},
   "outputs": [],
   "source": [
    "import jax\n",
    "import jax.numpy as jnp\n",
    "import jax.random as random\n",
    "from jax.random import multivariate_normal\n",
    "from util import MMDVar, compute_mmd_sq, compute_K_matrices"
   ]
  },
  {
   "cell_type": "code",
   "execution_count": 6,
   "metadata": {},
   "outputs": [],
   "source": [
    "import os\n",
    "\n",
    "os.environ[\"CUDA_VISIBLE_DEVICES\"] = \"4\""
   ]
  },
  {
   "cell_type": "code",
   "execution_count": 9,
   "metadata": {},
   "outputs": [],
   "source": [
    "def sampler_normal(key, N1, N2, d):\n",
    "    key, subkey = random.split(key)\n",
    "    subkeys = random.split(subkey, num=2)\n",
    "    X = jax.random.multivariate_normal(subkeys[0], jnp.zeros((d, )), jnp.eye(d), shape=(N1,)) \n",
    "    Y = jax.random.multivariate_normal(subkeys[1], 1.1 * jnp.zeros((d, )), jnp.eye(d), shape=(N2,)) \n",
    "    return X, Y"
   ]
  },
  {
   "cell_type": "code",
   "execution_count": 11,
   "metadata": {},
   "outputs": [
    {
     "name": "stdout",
     "output_type": "stream",
     "text": [
      "Estimated Variance of MMD: 8.540801317976095e-05\n",
      "Full Variance Estimate: 0.005245646583268721\n",
      "Incomplete Variance Estimate: 0.005034097172184765\n"
     ]
    }
   ],
   "source": [
    "# Experiment 1\n",
    "\n",
    "# Number of times to estimate MMD\n",
    "num_samples = 10000\n",
    "\n",
    "# Array to store MMD values\n",
    "mmd_samples = jnp.zeros(num_samples)\n",
    "sigma0 = 1\n",
    "\n",
    "# Monte Carlo simulation to estimate MMD values\n",
    "for i in range(num_samples):\n",
    "    key, subkey1, subkey2 = random.split(key, 3)\n",
    "    X, Y = sampler_normal(subkey1, N1= 200, N2=10, d=5)\n",
    "    Kxx, Kyy, Kxy = compute_K_matrices(X, Y, sigma0)\n",
    "    mmd_value = compute_mmd_sq(Kxx, Kyy, Kxy, 200, 10)\n",
    "    mmd_samples = mmd_samples.at[i].set(mmd_value)\n",
    "\n",
    "# Compute estimated variance of MMD\n",
    "mmd_variance = jnp.var(mmd_samples, ddof=1)\n",
    "\n",
    "print(\"Estimated Variance of MMD:\", mmd_variance)\n",
    "\n",
    "# Compare the results\n",
    "print(f\"Full Variance Estimate: {MMDVar(X, Y, sigma0)}\")\n",
    "print(f\"Incomplete Variance Estimate: {MMDVar(X, Y, sigma0, complete=False)}\")"
   ]
  },
  {
   "cell_type": "code",
   "execution_count": 12,
   "metadata": {},
   "outputs": [],
   "source": [
    "# Experiment 2\n",
    "\n",
    "# Seed setting (for reproducible results)\n",
    "key = random.PRNGKey(0)\n",
    "\n",
    "# First dataset\n",
    "mean1 = jnp.zeros(5)\n",
    "cov1 = jnp.eye(5)\n",
    "\n",
    "# Second dataset\n",
    "mean2 = jnp.zeros(5)\n",
    "cov2 = jnp.eye(5)\n",
    "cov2 = cov2.at[3, 4].set(0.3)\n",
    "cov2 = cov2.at[4, 3].set(0.5)\n",
    "\n",
    "# Function to generate samples from multivariate normal distribution\n",
    "def sample_mvn(key, mean, cov, num_samples):\n",
    "    return multivariate_normal(mean=mean, cov=cov, shape=num_samples, key=key)\n",
    "\n",
    "# Number of times to estimate MMD\n",
    "num_samples = 10000\n",
    "\n",
    "# Array to store MMD values\n",
    "mmd_samples = jnp.zeros(num_samples)\n",
    "sigma0 = 1\n",
    "\n",
    "# Monte Carlo simulation to estimate MMD values\n",
    "for i in range(num_samples):\n",
    "    key, subkey1, subkey2 = random.split(key, 3)\n",
    "    X = sample_mvn(subkey1, mean1, cov1, (200,))\n",
    "    Y = sample_mvn(subkey2, mean2, cov2, (10,))\n",
    "\n",
    "    Kxx, Kyy, Kxy = compute_K_matrices(X, Y, sigma0)\n",
    "    mmd_value = compute_mmd_sq(Kxx, Kyy, Kxy, len(X), len(Y))\n",
    "\n",
    "    mmd_samples = mmd_samples.at[i].set(mmd_value)\n",
    "\n",
    "# Compute estimated variance of MMD\n",
    "mmd_variance = jnp.var(mmd_samples, ddof=1)\n",
    "\n",
    "print(\"Estimated Variance of MMD:\", mmd_variance)\n",
    "\n",
    "# Compare the results\n",
    "print(f\"Full Variance Estimate: {MMDVar(X, Y, sigma0)}\")\n",
    "print(f\"Incomplete Variance Estimate: {MMDVar(X, Y, sigma0, complete=False)}\")"
   ]
  }
 ],
 "metadata": {
  "kernelspec": {
   "display_name": "c2st",
   "language": "python",
   "name": "python3"
  },
  "language_info": {
   "codemirror_mode": {
    "name": "ipython",
    "version": 3
   },
   "file_extension": ".py",
   "mimetype": "text/x-python",
   "name": "python",
   "nbconvert_exporter": "python",
   "pygments_lexer": "ipython3",
   "version": "3.9.15"
  },
  "orig_nbformat": 4
 },
 "nbformat": 4,
 "nbformat_minor": 2
}
