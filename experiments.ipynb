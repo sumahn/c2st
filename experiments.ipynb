{
 "cells": [
  {
   "cell_type": "code",
   "execution_count": 1,
   "metadata": {},
   "outputs": [],
   "source": [
    "%load_ext autoreload \n",
    "%autoreload 2"
   ]
  },
  {
   "cell_type": "code",
   "execution_count": 2,
   "metadata": {},
   "outputs": [
    {
     "name": "stderr",
     "output_type": "stream",
     "text": [
      "/home/oldrain123/miniconda3/envs/c2st/lib/python3.9/site-packages/tqdm/auto.py:22: TqdmWarning: IProgress not found. Please update jupyter and ipywidgets. See https://ipywidgets.readthedocs.io/en/stable/user_install.html\n",
      "  from .autonotebook import tqdm as notebook_tqdm\n",
      "<frozen importlib._bootstrap>:228: RuntimeWarning: scipy._lib.messagestream.MessageStream size changed, may indicate binary incompatibility. Expected 56 from C header, got 64 from PyObject\n"
     ]
    }
   ],
   "source": [
    "## Run experiments \n",
    "## https://github.com/antoninschrab/mmdagg-paper/blob/master/experiments.py\n",
    "\n",
    "import numpy as np\n",
    "import itertools \n",
    "import pandas as pd \n",
    "import torch\n",
    "from util import completeMMDVar, compute_mmd_sq, compute_K_matrices"
   ]
  },
  {
   "cell_type": "code",
   "execution_count": 3,
   "metadata": {},
   "outputs": [],
   "source": [
    "sigma0 = 1"
   ]
  },
  {
   "cell_type": "code",
   "execution_count": 11,
   "metadata": {},
   "outputs": [
    {
     "name": "stdout",
     "output_type": "stream",
     "text": [
      "Data 1 Shape: (1000, 5)\n",
      "Data 2 Shape: (1000, 5)\n",
      "Estimated Variance of MMD: 1.2265769314639631e-07\n"
     ]
    }
   ],
   "source": [
    "import jax.numpy as jnp\n",
    "from jax import random\n",
    "\n",
    "def mvn_sample(key, mean, cov, size):\n",
    "    \"\"\"Generate samples from a multivariate normal distribution.\"\"\"\n",
    "    n = mean.shape[0]\n",
    "    chol = jnp.linalg.cholesky(cov)\n",
    "    normal_samples = random.normal(key, (size, n))\n",
    "    return mean + jnp.dot(normal_samples, chol.T)\n",
    "\n",
    "key = random.PRNGKey(0)\n",
    "\n",
    "# First dataset: 5D multivariate normal with no correlation\n",
    "mean1 = jnp.zeros(5)\n",
    "cov1 = jnp.eye(5)\n",
    "\n",
    "# Second dataset: Multivariate normal where the last two dimensions have a correlation of 0.8\n",
    "mean2 = jnp.zeros(5)\n",
    "cov2 = jnp.eye(5)\n",
    "cov2_values = jnp.array(cov2)\n",
    "cov2_values = cov2_values.at[3, 4].set(0.8)\n",
    "cov2_values = cov2_values.at[4, 3].set(0.8)\n",
    "cov2 = cov2_values\n",
    "\n",
    "# Sample data\n",
    "X = mvn_sample(key, mean1, cov1, 1000)\n",
    "Y = mvn_sample(key, mean2, cov2, 1000)\n",
    "\n",
    "print(\"Data 1 Shape:\", X.shape)\n",
    "print(\"Data 2 Shape:\", Y.shape)\n",
    "\n",
    "num_samples = 10000\n",
    "mmd_samples_list = []\n",
    "\n",
    "for i in range(num_samples):\n",
    "    key, subkey1, subkey2 = random.split(key, 3)\n",
    "    \n",
    "    # Sample new data\n",
    "    X = mvn_sample(subkey1, mean1, cov1, 200)\n",
    "    Y = mvn_sample(subkey2, mean2, cov2, 10)\n",
    "    \n",
    "    # Note: You'll have to translate `compute_K_matrices` and `compute_mmd_sq` to use JAX as well\n",
    "    Kxx, Kyy, Kxy = compute_K_matrices(X, Y, sigma0)\n",
    "    mmd_value = compute_mmd_sq(Kxx, Kyy, Kxy, len(X), len(Y))\n",
    "    \n",
    "    mmd_samples_list.append(mmd_value ** 2)\n",
    "\n",
    "mmd_samples = jnp.array(mmd_samples_list)\n",
    "\n",
    "# Calculate the variance\n",
    "mmd_variance = jnp.var(mmd_samples, ddof=1)  # ddof=1 for unbiased variance\n",
    "print(\"Estimated Variance of MMD:\", mmd_variance)"
   ]
  },
  {
   "cell_type": "code",
   "execution_count": 12,
   "metadata": {},
   "outputs": [
    {
     "data": {
      "text/plain": [
       "Array(0.004493, dtype=float64)"
      ]
     },
     "execution_count": 12,
     "metadata": {},
     "output_type": "execute_result"
    }
   ],
   "source": [
    "completeMMDVar(X, Y, sigma0)"
   ]
  },
  {
   "cell_type": "code",
   "execution_count": null,
   "metadata": {},
   "outputs": [],
   "source": []
  }
 ],
 "metadata": {
  "kernelspec": {
   "display_name": "c2st",
   "language": "python",
   "name": "python3"
  },
  "language_info": {
   "codemirror_mode": {
    "name": "ipython",
    "version": 3
   },
   "file_extension": ".py",
   "mimetype": "text/x-python",
   "name": "python",
   "nbconvert_exporter": "python",
   "pygments_lexer": "ipython3",
   "version": "3.9.15"
  },
  "orig_nbformat": 4
 },
 "nbformat": 4,
 "nbformat_minor": 2
}
