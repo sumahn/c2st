{
 "cells": [
  {
   "cell_type": "markdown",
   "id": "fbf73f21-3037-4587-bf31-65d3b29c5322",
   "metadata": {},
   "source": [
    "The code in this notebook replicates the CIFAR-10 vs CIFAR-10.1 experiment of\n",
    "Liu et al.\n",
    "(Learning Deep Kernels for Non-Parametric Two-Sample Tests, \n",
    "ICML 2020). \n",
    "We utilize their code which is under the MIT license:\n",
    "https://github.com/fengliu90/DK-for-TST/blob/master/Deep_Baselines_CIFAR10.py"
   ]
  },
  {
   "cell_type": "markdown",
   "id": "f3e3e4bd",
   "metadata": {},
   "source": [
    "Not multiplying max{n_0, n_1} to denominator of the objective function "
   ]
  },
  {
   "cell_type": "markdown",
   "id": "34cb7fb8-022c-4031-bbb2-b3081701ff04",
   "metadata": {
    "tags": []
   },
   "source": [
    "# Environment mmdfuse-env"
   ]
  },
  {
   "cell_type": "code",
   "execution_count": 1,
   "id": "1969f9ea",
   "metadata": {},
   "outputs": [],
   "source": [
    "%load_ext autoreload \n",
    "%autoreload 2"
   ]
  },
  {
   "cell_type": "code",
   "execution_count": 2,
   "id": "a836cb68",
   "metadata": {},
   "outputs": [],
   "source": [
    "import os\n",
    "\n",
    "os.environ[\"CUDA_VISIBLE_DEVICES\"] = \"7\""
   ]
  },
  {
   "cell_type": "code",
   "execution_count": 3,
   "id": "aa41eb3e-591b-42a1-8b1b-60c517e675be",
   "metadata": {
    "tags": []
   },
   "outputs": [
    {
     "name": "stderr",
     "output_type": "stream",
     "text": [
      "/home/oldrain123/miniconda3/envs/mmdfuse-env/lib/python3.9/site-packages/torchvision/io/image.py:13: UserWarning: Failed to load image Python extension: '/home/oldrain123/miniconda3/envs/mmdfuse-env/lib/python3.9/site-packages/torchvision/image.so: undefined symbol: _ZN3c104warnERKNS_7WarningE'If you don't plan on using image functionality from `torchvision.io`, you can ignore this warning. Otherwise, there might be something wrong with your environment. Did you have `libjpeg` or `libpng` installed before building `torchvision` from source?\n",
      "  warn(\n"
     ]
    }
   ],
   "source": [
    "import numpy as np\n",
    "import torchvision.transforms as transforms\n",
    "from torch.utils.data import DataLoader\n",
    "from torchvision import datasets\n",
    "import torch\n",
    "from jax import random\n",
    "import jax.numpy as jnp\n",
    "from tqdm.auto import tqdm\n",
    "from pathlib import Path\n",
    "from models import MyModel\n",
    "Path(\"results\").mkdir(exist_ok=True)"
   ]
  },
  {
   "cell_type": "code",
   "execution_count": 4,
   "id": "27a16b13-a3a9-457e-be73-1459bb32d9d3",
   "metadata": {
    "tags": []
   },
   "outputs": [
    {
     "name": "stderr",
     "output_type": "stream",
     "text": [
      "WARNING (theano.configdefaults): install mkl with `conda install mkl-service`: No module named 'mkl'\n"
     ]
    }
   ],
   "source": [
    "from all_tests import mmdfuse_test\n",
    "from all_tests import mmd_median_test, mmd_split_test\n",
    "from all_tests import mmdagg_test, mmdagginc_test, deep_mmd_test\n",
    "from all_tests import met_test, scf_test\n",
    "from all_tests import ctt_test, actt_test\n",
    "from tests import c2st_tst"
   ]
  },
  {
   "cell_type": "code",
   "execution_count": 5,
   "id": "fb6c440b-f31b-4c41-afce-40a75363efb6",
   "metadata": {},
   "outputs": [],
   "source": [
    "# parameters\n",
    "N1 = 50\n",
    "img_size = 64\n",
    "batch_size = 100\n",
    "K = 3\n",
    "N = 10"
   ]
  },
  {
   "cell_type": "code",
   "execution_count": 6,
   "id": "1a377f5d-bffa-4649-9c1c-a62693293dec",
   "metadata": {
    "tags": []
   },
   "outputs": [
    {
     "name": "stdout",
     "output_type": "stream",
     "text": [
      "Files already downloaded and verified\n"
     ]
    }
   ],
   "source": [
    "# Load the CIFAR 10 data and CIFAR 10.1\n",
    "\n",
    "# Configure data loader\n",
    "dataset_test = datasets.CIFAR10(root='./cifar_data/cifar10', download=True,train=False,\n",
    "                           transform=transforms.Compose([\n",
    "                               transforms.Resize(img_size),\n",
    "                               transforms.ToTensor(),\n",
    "                               transforms.Normalize((0.5, 0.5, 0.5), (0.5, 0.5, 0.5)),\n",
    "                           ]))\n",
    "\n",
    "dataloader_test = torch.utils.data.DataLoader(dataset_test, batch_size=10000, shuffle=True, num_workers=1)\n",
    "\n",
    "# Obtain CIFAR10 images\n",
    "for i, (imgs, Labels) in enumerate(dataloader_test):\n",
    "    data_all = imgs\n",
    "    label_all = Labels\n",
    "Ind_all = np.arange(len(data_all))\n",
    "\n",
    "# Obtain CIFAR10.1 images\n",
    "data_new = np.load('./cifar_data/cifar10.1_v4_data.npy')\n",
    "data_T = np.transpose(data_new, [0,3,1,2])\n",
    "ind_M = np.random.choice(len(data_T), len(data_T), replace=False)\n",
    "data_T = data_T[ind_M]\n",
    "TT = transforms.Compose([transforms.Resize(img_size),transforms.ToTensor(),\n",
    "                               transforms.Normalize((0.5, 0.5, 0.5), (0.5, 0.5, 0.5))])\n",
    "trans = transforms.ToPILImage()\n",
    "data_trans = torch.zeros([len(data_T),3,img_size,img_size])\n",
    "data_T_tensor = torch.from_numpy(data_T)\n",
    "for i in range(len(data_T)):\n",
    "    d0 = trans(data_T_tensor[i])\n",
    "    data_trans[i] = TT(d0)\n",
    "Ind_v4_all = np.arange(len(data_T))"
   ]
  },
  {
   "cell_type": "code",
   "execution_count": 7,
   "id": "e6349524",
   "metadata": {},
   "outputs": [],
   "source": [
    "# Setting for C2ST\n",
    "device = 'cuda:0'\n",
    "dtype = torch.float \n",
    "lr = 0.001 \n",
    "n_epoch = 25\n",
    "alpha = 0.05"
   ]
  },
  {
   "cell_type": "markdown",
   "id": "72379a7f",
   "metadata": {},
   "source": [
    ", mmd_median_test, mmdagg_test, mmdagginc_test, ctt_test, actt_test, )"
   ]
  },
  {
   "cell_type": "code",
   "execution_count": 8,
   "id": "c3029ce2-541c-4d44-84f7-bcb9769c9e98",
   "metadata": {},
   "outputs": [
    {
     "data": {
      "application/vnd.jupyter.widget-view+json": {
       "model_id": "0e360a8069fc4d0492e6d1733500de05",
       "version_major": 2,
       "version_minor": 0
      },
      "text/plain": [
       "Imbalance Ratio Loop:   0%|          | 0/6 [00:00<?, ?it/s]"
      ]
     },
     "metadata": {},
     "output_type": "display_data"
    },
    {
     "data": {
      "application/vnd.jupyter.widget-view+json": {
       "model_id": "446cd2f2962b4361a849dd12aeb3eb39",
       "version_major": 2,
       "version_minor": 0
      },
      "text/plain": [
       "Trail Loop(K):   0%|          | 0/3 [00:00<?, ?it/s]"
      ]
     },
     "metadata": {},
     "output_type": "display_data"
    },
    {
     "data": {
      "application/vnd.jupyter.widget-view+json": {
       "model_id": "36513c805e904b18bd8328882eb8d939",
       "version_major": 2,
       "version_minor": 0
      },
      "text/plain": [
       "Test Loop(N):   0%|          | 0/10 [00:00<?, ?it/s]"
      ]
     },
     "metadata": {},
     "output_type": "display_data"
    },
    {
     "name": "stdout",
     "output_type": "stream",
     "text": [
      "<function mmdagg_test at 0x7f33306d45e0>\n",
      "<function mmdagg_test at 0x7f33306d45e0>\n",
      "<function mmdagg_test at 0x7f33306d45e0>\n",
      "<function mmdagg_test at 0x7f33306d45e0>\n",
      "<function mmdagg_test at 0x7f33306d45e0>\n",
      "<function mmdagg_test at 0x7f33306d45e0>\n",
      "<function mmdagg_test at 0x7f33306d45e0>\n",
      "<function mmdagg_test at 0x7f33306d45e0>\n",
      "<function mmdagg_test at 0x7f33306d45e0>\n",
      "<function mmdagg_test at 0x7f33306d45e0>\n"
     ]
    },
    {
     "data": {
      "application/vnd.jupyter.widget-view+json": {
       "model_id": "1aba4a51f53c43d7a548c5a7d4911955",
       "version_major": 2,
       "version_minor": 0
      },
      "text/plain": [
       "Test Loop(N):   0%|          | 0/10 [00:00<?, ?it/s]"
      ]
     },
     "metadata": {},
     "output_type": "display_data"
    },
    {
     "name": "stdout",
     "output_type": "stream",
     "text": [
      "<function mmdagg_test at 0x7f33306d45e0>\n",
      "<function mmdagg_test at 0x7f33306d45e0>\n",
      "<function mmdagg_test at 0x7f33306d45e0>\n",
      "<function mmdagg_test at 0x7f33306d45e0>\n",
      "<function mmdagg_test at 0x7f33306d45e0>\n",
      "<function mmdagg_test at 0x7f33306d45e0>\n",
      "<function mmdagg_test at 0x7f33306d45e0>\n",
      "<function mmdagg_test at 0x7f33306d45e0>\n",
      "<function mmdagg_test at 0x7f33306d45e0>\n",
      "<function mmdagg_test at 0x7f33306d45e0>\n"
     ]
    },
    {
     "data": {
      "application/vnd.jupyter.widget-view+json": {
       "model_id": "c3c26d5572bc4ebf8c6b6afc0b493084",
       "version_major": 2,
       "version_minor": 0
      },
      "text/plain": [
       "Test Loop(N):   0%|          | 0/10 [00:00<?, ?it/s]"
      ]
     },
     "metadata": {},
     "output_type": "display_data"
    },
    {
     "name": "stdout",
     "output_type": "stream",
     "text": [
      "<function mmdagg_test at 0x7f33306d45e0>\n",
      "<function mmdagg_test at 0x7f33306d45e0>\n",
      "<function mmdagg_test at 0x7f33306d45e0>\n",
      "<function mmdagg_test at 0x7f33306d45e0>\n",
      "<function mmdagg_test at 0x7f33306d45e0>\n",
      "<function mmdagg_test at 0x7f33306d45e0>\n",
      "<function mmdagg_test at 0x7f33306d45e0>\n",
      "<function mmdagg_test at 0x7f33306d45e0>\n",
      "<function mmdagg_test at 0x7f33306d45e0>\n",
      "<function mmdagg_test at 0x7f33306d45e0>\n"
     ]
    },
    {
     "data": {
      "application/vnd.jupyter.widget-view+json": {
       "model_id": "bdf0ad354d8142ae8d71357b199f7de8",
       "version_major": 2,
       "version_minor": 0
      },
      "text/plain": [
       "Trail Loop(K):   0%|          | 0/3 [00:00<?, ?it/s]"
      ]
     },
     "metadata": {},
     "output_type": "display_data"
    },
    {
     "data": {
      "application/vnd.jupyter.widget-view+json": {
       "model_id": "7e1864d675e844789efb4ca31c372875",
       "version_major": 2,
       "version_minor": 0
      },
      "text/plain": [
       "Test Loop(N):   0%|          | 0/10 [00:00<?, ?it/s]"
      ]
     },
     "metadata": {},
     "output_type": "display_data"
    },
    {
     "name": "stdout",
     "output_type": "stream",
     "text": [
      "<function mmdagg_test at 0x7f33306d45e0>\n",
      "<function mmdagg_test at 0x7f33306d45e0>\n",
      "<function mmdagg_test at 0x7f33306d45e0>\n",
      "<function mmdagg_test at 0x7f33306d45e0>\n",
      "<function mmdagg_test at 0x7f33306d45e0>\n",
      "<function mmdagg_test at 0x7f33306d45e0>\n",
      "<function mmdagg_test at 0x7f33306d45e0>\n",
      "<function mmdagg_test at 0x7f33306d45e0>\n",
      "<function mmdagg_test at 0x7f33306d45e0>\n",
      "<function mmdagg_test at 0x7f33306d45e0>\n"
     ]
    },
    {
     "data": {
      "application/vnd.jupyter.widget-view+json": {
       "model_id": "3b984f8c9be54d1b966d403a95d135e7",
       "version_major": 2,
       "version_minor": 0
      },
      "text/plain": [
       "Test Loop(N):   0%|          | 0/10 [00:00<?, ?it/s]"
      ]
     },
     "metadata": {},
     "output_type": "display_data"
    },
    {
     "name": "stdout",
     "output_type": "stream",
     "text": [
      "<function mmdagg_test at 0x7f33306d45e0>\n",
      "<function mmdagg_test at 0x7f33306d45e0>\n",
      "<function mmdagg_test at 0x7f33306d45e0>\n",
      "<function mmdagg_test at 0x7f33306d45e0>\n",
      "<function mmdagg_test at 0x7f33306d45e0>\n",
      "<function mmdagg_test at 0x7f33306d45e0>\n",
      "<function mmdagg_test at 0x7f33306d45e0>\n",
      "<function mmdagg_test at 0x7f33306d45e0>\n",
      "<function mmdagg_test at 0x7f33306d45e0>\n",
      "<function mmdagg_test at 0x7f33306d45e0>\n"
     ]
    },
    {
     "data": {
      "application/vnd.jupyter.widget-view+json": {
       "model_id": "821dafd591004b4086221e43ca7256e6",
       "version_major": 2,
       "version_minor": 0
      },
      "text/plain": [
       "Test Loop(N):   0%|          | 0/10 [00:00<?, ?it/s]"
      ]
     },
     "metadata": {},
     "output_type": "display_data"
    },
    {
     "name": "stdout",
     "output_type": "stream",
     "text": [
      "<function mmdagg_test at 0x7f33306d45e0>\n",
      "<function mmdagg_test at 0x7f33306d45e0>\n",
      "<function mmdagg_test at 0x7f33306d45e0>\n",
      "<function mmdagg_test at 0x7f33306d45e0>\n",
      "<function mmdagg_test at 0x7f33306d45e0>\n",
      "<function mmdagg_test at 0x7f33306d45e0>\n",
      "<function mmdagg_test at 0x7f33306d45e0>\n",
      "<function mmdagg_test at 0x7f33306d45e0>\n",
      "<function mmdagg_test at 0x7f33306d45e0>\n",
      "<function mmdagg_test at 0x7f33306d45e0>\n"
     ]
    },
    {
     "data": {
      "application/vnd.jupyter.widget-view+json": {
       "model_id": "51ec374b5e7447b4b1b7d640e7dc7788",
       "version_major": 2,
       "version_minor": 0
      },
      "text/plain": [
       "Trail Loop(K):   0%|          | 0/3 [00:00<?, ?it/s]"
      ]
     },
     "metadata": {},
     "output_type": "display_data"
    },
    {
     "data": {
      "application/vnd.jupyter.widget-view+json": {
       "model_id": "9445262b176440fc9e013c39ddd23391",
       "version_major": 2,
       "version_minor": 0
      },
      "text/plain": [
       "Test Loop(N):   0%|          | 0/10 [00:00<?, ?it/s]"
      ]
     },
     "metadata": {},
     "output_type": "display_data"
    },
    {
     "name": "stdout",
     "output_type": "stream",
     "text": [
      "<function mmdagg_test at 0x7f33306d45e0>\n",
      "<function mmdagg_test at 0x7f33306d45e0>\n",
      "<function mmdagg_test at 0x7f33306d45e0>\n",
      "<function mmdagg_test at 0x7f33306d45e0>\n",
      "<function mmdagg_test at 0x7f33306d45e0>\n",
      "<function mmdagg_test at 0x7f33306d45e0>\n",
      "<function mmdagg_test at 0x7f33306d45e0>\n",
      "<function mmdagg_test at 0x7f33306d45e0>\n",
      "<function mmdagg_test at 0x7f33306d45e0>\n",
      "<function mmdagg_test at 0x7f33306d45e0>\n"
     ]
    },
    {
     "data": {
      "application/vnd.jupyter.widget-view+json": {
       "model_id": "e3fb982847df43519463bf50ac8726de",
       "version_major": 2,
       "version_minor": 0
      },
      "text/plain": [
       "Test Loop(N):   0%|          | 0/10 [00:00<?, ?it/s]"
      ]
     },
     "metadata": {},
     "output_type": "display_data"
    },
    {
     "name": "stdout",
     "output_type": "stream",
     "text": [
      "<function mmdagg_test at 0x7f33306d45e0>\n",
      "<function mmdagg_test at 0x7f33306d45e0>\n",
      "<function mmdagg_test at 0x7f33306d45e0>\n",
      "<function mmdagg_test at 0x7f33306d45e0>\n",
      "<function mmdagg_test at 0x7f33306d45e0>\n",
      "<function mmdagg_test at 0x7f33306d45e0>\n",
      "<function mmdagg_test at 0x7f33306d45e0>\n",
      "<function mmdagg_test at 0x7f33306d45e0>\n",
      "<function mmdagg_test at 0x7f33306d45e0>\n",
      "<function mmdagg_test at 0x7f33306d45e0>\n"
     ]
    },
    {
     "data": {
      "application/vnd.jupyter.widget-view+json": {
       "model_id": "670f51ac3ffd484284bac96d49463427",
       "version_major": 2,
       "version_minor": 0
      },
      "text/plain": [
       "Test Loop(N):   0%|          | 0/10 [00:00<?, ?it/s]"
      ]
     },
     "metadata": {},
     "output_type": "display_data"
    },
    {
     "name": "stdout",
     "output_type": "stream",
     "text": [
      "<function mmdagg_test at 0x7f33306d45e0>\n",
      "<function mmdagg_test at 0x7f33306d45e0>\n",
      "<function mmdagg_test at 0x7f33306d45e0>\n",
      "<function mmdagg_test at 0x7f33306d45e0>\n",
      "<function mmdagg_test at 0x7f33306d45e0>\n",
      "<function mmdagg_test at 0x7f33306d45e0>\n",
      "<function mmdagg_test at 0x7f33306d45e0>\n",
      "<function mmdagg_test at 0x7f33306d45e0>\n",
      "<function mmdagg_test at 0x7f33306d45e0>\n",
      "<function mmdagg_test at 0x7f33306d45e0>\n"
     ]
    },
    {
     "data": {
      "application/vnd.jupyter.widget-view+json": {
       "model_id": "dcfa9069b8a946eaafbe483fc0361efe",
       "version_major": 2,
       "version_minor": 0
      },
      "text/plain": [
       "Trail Loop(K):   0%|          | 0/3 [00:00<?, ?it/s]"
      ]
     },
     "metadata": {},
     "output_type": "display_data"
    },
    {
     "data": {
      "application/vnd.jupyter.widget-view+json": {
       "model_id": "f858700c93864fb786f4faa20810f938",
       "version_major": 2,
       "version_minor": 0
      },
      "text/plain": [
       "Test Loop(N):   0%|          | 0/10 [00:00<?, ?it/s]"
      ]
     },
     "metadata": {},
     "output_type": "display_data"
    },
    {
     "name": "stdout",
     "output_type": "stream",
     "text": [
      "<function mmdagg_test at 0x7f33306d45e0>\n",
      "<function mmdagg_test at 0x7f33306d45e0>\n",
      "<function mmdagg_test at 0x7f33306d45e0>\n",
      "<function mmdagg_test at 0x7f33306d45e0>\n",
      "<function mmdagg_test at 0x7f33306d45e0>\n",
      "<function mmdagg_test at 0x7f33306d45e0>\n",
      "<function mmdagg_test at 0x7f33306d45e0>\n",
      "<function mmdagg_test at 0x7f33306d45e0>\n",
      "<function mmdagg_test at 0x7f33306d45e0>\n",
      "<function mmdagg_test at 0x7f33306d45e0>\n"
     ]
    },
    {
     "data": {
      "application/vnd.jupyter.widget-view+json": {
       "model_id": "1f2cd43e096444f08fd1fb13bfdc9756",
       "version_major": 2,
       "version_minor": 0
      },
      "text/plain": [
       "Test Loop(N):   0%|          | 0/10 [00:00<?, ?it/s]"
      ]
     },
     "metadata": {},
     "output_type": "display_data"
    },
    {
     "name": "stdout",
     "output_type": "stream",
     "text": [
      "<function mmdagg_test at 0x7f33306d45e0>\n",
      "<function mmdagg_test at 0x7f33306d45e0>\n",
      "<function mmdagg_test at 0x7f33306d45e0>\n",
      "<function mmdagg_test at 0x7f33306d45e0>\n",
      "<function mmdagg_test at 0x7f33306d45e0>\n",
      "<function mmdagg_test at 0x7f33306d45e0>\n",
      "<function mmdagg_test at 0x7f33306d45e0>\n",
      "<function mmdagg_test at 0x7f33306d45e0>\n",
      "<function mmdagg_test at 0x7f33306d45e0>\n",
      "<function mmdagg_test at 0x7f33306d45e0>\n"
     ]
    },
    {
     "data": {
      "application/vnd.jupyter.widget-view+json": {
       "model_id": "c49c4f22935440eaa4f99dbb57cbdd96",
       "version_major": 2,
       "version_minor": 0
      },
      "text/plain": [
       "Test Loop(N):   0%|          | 0/10 [00:00<?, ?it/s]"
      ]
     },
     "metadata": {},
     "output_type": "display_data"
    },
    {
     "name": "stdout",
     "output_type": "stream",
     "text": [
      "<function mmdagg_test at 0x7f33306d45e0>\n",
      "<function mmdagg_test at 0x7f33306d45e0>\n",
      "<function mmdagg_test at 0x7f33306d45e0>\n",
      "<function mmdagg_test at 0x7f33306d45e0>\n",
      "<function mmdagg_test at 0x7f33306d45e0>\n",
      "<function mmdagg_test at 0x7f33306d45e0>\n",
      "<function mmdagg_test at 0x7f33306d45e0>\n",
      "<function mmdagg_test at 0x7f33306d45e0>\n",
      "<function mmdagg_test at 0x7f33306d45e0>\n",
      "<function mmdagg_test at 0x7f33306d45e0>\n"
     ]
    },
    {
     "data": {
      "application/vnd.jupyter.widget-view+json": {
       "model_id": "e979ba1dcfd44716831120a9f727b5e7",
       "version_major": 2,
       "version_minor": 0
      },
      "text/plain": [
       "Trail Loop(K):   0%|          | 0/3 [00:00<?, ?it/s]"
      ]
     },
     "metadata": {},
     "output_type": "display_data"
    },
    {
     "data": {
      "application/vnd.jupyter.widget-view+json": {
       "model_id": "e0893bdf47744eec865939b46a276890",
       "version_major": 2,
       "version_minor": 0
      },
      "text/plain": [
       "Test Loop(N):   0%|          | 0/10 [00:00<?, ?it/s]"
      ]
     },
     "metadata": {},
     "output_type": "display_data"
    },
    {
     "name": "stdout",
     "output_type": "stream",
     "text": [
      "<function mmdagg_test at 0x7f33306d45e0>\n",
      "<function mmdagg_test at 0x7f33306d45e0>\n",
      "<function mmdagg_test at 0x7f33306d45e0>\n",
      "<function mmdagg_test at 0x7f33306d45e0>\n",
      "<function mmdagg_test at 0x7f33306d45e0>\n",
      "<function mmdagg_test at 0x7f33306d45e0>\n",
      "<function mmdagg_test at 0x7f33306d45e0>\n",
      "<function mmdagg_test at 0x7f33306d45e0>\n",
      "<function mmdagg_test at 0x7f33306d45e0>\n",
      "<function mmdagg_test at 0x7f33306d45e0>\n"
     ]
    },
    {
     "data": {
      "application/vnd.jupyter.widget-view+json": {
       "model_id": "7c8ec44693e34adf8abbb0cea81552f9",
       "version_major": 2,
       "version_minor": 0
      },
      "text/plain": [
       "Test Loop(N):   0%|          | 0/10 [00:00<?, ?it/s]"
      ]
     },
     "metadata": {},
     "output_type": "display_data"
    },
    {
     "name": "stdout",
     "output_type": "stream",
     "text": [
      "<function mmdagg_test at 0x7f33306d45e0>\n",
      "<function mmdagg_test at 0x7f33306d45e0>\n",
      "<function mmdagg_test at 0x7f33306d45e0>\n",
      "<function mmdagg_test at 0x7f33306d45e0>\n",
      "<function mmdagg_test at 0x7f33306d45e0>\n",
      "<function mmdagg_test at 0x7f33306d45e0>\n",
      "<function mmdagg_test at 0x7f33306d45e0>\n",
      "<function mmdagg_test at 0x7f33306d45e0>\n",
      "<function mmdagg_test at 0x7f33306d45e0>\n",
      "<function mmdagg_test at 0x7f33306d45e0>\n"
     ]
    },
    {
     "data": {
      "application/vnd.jupyter.widget-view+json": {
       "model_id": "be82ec2e06244d80bf743f4d396d1298",
       "version_major": 2,
       "version_minor": 0
      },
      "text/plain": [
       "Test Loop(N):   0%|          | 0/10 [00:00<?, ?it/s]"
      ]
     },
     "metadata": {},
     "output_type": "display_data"
    },
    {
     "name": "stdout",
     "output_type": "stream",
     "text": [
      "<function mmdagg_test at 0x7f33306d45e0>\n",
      "<function mmdagg_test at 0x7f33306d45e0>\n",
      "<function mmdagg_test at 0x7f33306d45e0>\n",
      "<function mmdagg_test at 0x7f33306d45e0>\n",
      "<function mmdagg_test at 0x7f33306d45e0>\n",
      "<function mmdagg_test at 0x7f33306d45e0>\n",
      "<function mmdagg_test at 0x7f33306d45e0>\n",
      "<function mmdagg_test at 0x7f33306d45e0>\n",
      "<function mmdagg_test at 0x7f33306d45e0>\n",
      "<function mmdagg_test at 0x7f33306d45e0>\n"
     ]
    },
    {
     "data": {
      "application/vnd.jupyter.widget-view+json": {
       "model_id": "785f5db558b24d8496386381dba44bd6",
       "version_major": 2,
       "version_minor": 0
      },
      "text/plain": [
       "Trail Loop(K):   0%|          | 0/3 [00:00<?, ?it/s]"
      ]
     },
     "metadata": {},
     "output_type": "display_data"
    },
    {
     "data": {
      "application/vnd.jupyter.widget-view+json": {
       "model_id": "49895459f5fc46dc9db90198ad90608c",
       "version_major": 2,
       "version_minor": 0
      },
      "text/plain": [
       "Test Loop(N):   0%|          | 0/10 [00:00<?, ?it/s]"
      ]
     },
     "metadata": {},
     "output_type": "display_data"
    },
    {
     "name": "stdout",
     "output_type": "stream",
     "text": [
      "<function mmdagg_test at 0x7f33306d45e0>\n",
      "<function mmdagg_test at 0x7f33306d45e0>\n",
      "<function mmdagg_test at 0x7f33306d45e0>\n",
      "<function mmdagg_test at 0x7f33306d45e0>\n",
      "<function mmdagg_test at 0x7f33306d45e0>\n",
      "<function mmdagg_test at 0x7f33306d45e0>\n",
      "<function mmdagg_test at 0x7f33306d45e0>\n",
      "<function mmdagg_test at 0x7f33306d45e0>\n",
      "<function mmdagg_test at 0x7f33306d45e0>\n",
      "<function mmdagg_test at 0x7f33306d45e0>\n"
     ]
    },
    {
     "data": {
      "application/vnd.jupyter.widget-view+json": {
       "model_id": "14a89178c57c4a46be3ef8592a2400b3",
       "version_major": 2,
       "version_minor": 0
      },
      "text/plain": [
       "Test Loop(N):   0%|          | 0/10 [00:00<?, ?it/s]"
      ]
     },
     "metadata": {},
     "output_type": "display_data"
    },
    {
     "name": "stdout",
     "output_type": "stream",
     "text": [
      "<function mmdagg_test at 0x7f33306d45e0>\n",
      "<function mmdagg_test at 0x7f33306d45e0>\n",
      "<function mmdagg_test at 0x7f33306d45e0>\n",
      "<function mmdagg_test at 0x7f33306d45e0>\n",
      "<function mmdagg_test at 0x7f33306d45e0>\n",
      "<function mmdagg_test at 0x7f33306d45e0>\n",
      "<function mmdagg_test at 0x7f33306d45e0>\n",
      "<function mmdagg_test at 0x7f33306d45e0>\n",
      "<function mmdagg_test at 0x7f33306d45e0>\n",
      "<function mmdagg_test at 0x7f33306d45e0>\n"
     ]
    },
    {
     "data": {
      "application/vnd.jupyter.widget-view+json": {
       "model_id": "d7fc7b99582543b0a518b0181c010e78",
       "version_major": 2,
       "version_minor": 0
      },
      "text/plain": [
       "Test Loop(N):   0%|          | 0/10 [00:00<?, ?it/s]"
      ]
     },
     "metadata": {},
     "output_type": "display_data"
    },
    {
     "name": "stdout",
     "output_type": "stream",
     "text": [
      "<function mmdagg_test at 0x7f33306d45e0>\n",
      "<function mmdagg_test at 0x7f33306d45e0>\n",
      "<function mmdagg_test at 0x7f33306d45e0>\n",
      "<function mmdagg_test at 0x7f33306d45e0>\n",
      "<function mmdagg_test at 0x7f33306d45e0>\n",
      "<function mmdagg_test at 0x7f33306d45e0>\n",
      "<function mmdagg_test at 0x7f33306d45e0>\n",
      "<function mmdagg_test at 0x7f33306d45e0>\n",
      "<function mmdagg_test at 0x7f33306d45e0>\n",
      "<function mmdagg_test at 0x7f33306d45e0>\n",
      " \n",
      "<function mmdagg_test at 0x7f33306d45e0>\n",
      "[[0.1        0.2        0.        ]\n",
      " [0.90000004 0.3        0.3       ]\n",
      " [1.         1.         1.        ]\n",
      " [1.         1.         1.        ]\n",
      " [1.         1.         1.        ]\n",
      " [1.         1.         1.        ]]\n"
     ]
    }
   ],
   "source": [
    "# Run experiment\n",
    "save = True\n",
    "seed = 0\n",
    "key = random.PRNGKey(42)\n",
    "imbalance_ratios = (1, 10, 30, 50, 70, 100)\n",
    "tests = [mmdagg_test]\n",
    "\n",
    "outputs = jnp.zeros((len(tests), len(imbalance_ratios), K, N))\n",
    "outputs = outputs.tolist()\n",
    "\n",
    "for ir in tqdm(range(len(imbalance_ratios)), desc=\"Imbalance Ratio Loop\"):\n",
    "    N2 = N1 * imbalance_ratios[ir]\n",
    "    for kk in tqdm(range(K), desc=\"Trail Loop(K)\", leave=False):\n",
    "        torch.manual_seed(kk * 19 + N1 + N2)\n",
    "        torch.cuda.manual_seed(kk * 19 + N1 + N2)\n",
    "        np.random.seed(seed=1102 * (kk + 10) + N1 + N2)\n",
    "\n",
    "        # Collect CIFAR10 images\n",
    "        Ind_tr = np.random.choice(len(data_all), N2, replace=False)\n",
    "        Ind_te = np.delete(Ind_all, Ind_tr)\n",
    "        train_data = []\n",
    "        for i in Ind_tr:\n",
    "            train_data.append([data_all[i], label_all[i]])\n",
    "\n",
    "        dataloader = torch.utils.data.DataLoader(\n",
    "            train_data,\n",
    "            batch_size=batch_size,\n",
    "            shuffle=True,\n",
    "        )\n",
    "\n",
    "        # Collect CIFAR10.1 images\n",
    "        np.random.seed(seed=819 * (kk + 9) + N1)\n",
    "        Ind_tr_v4 = np.random.choice(len(data_T), N1, replace=False)\n",
    "        Ind_te_v4 = np.delete(Ind_v4_all, Ind_tr_v4)\n",
    "        New_CIFAR_tr = data_trans[Ind_tr_v4]\n",
    "        New_CIFAR_te = data_trans[Ind_te_v4]\n",
    "        \n",
    "        # Run two-sample test on the training set\n",
    "        # Fetch training data\n",
    "        s1_tr = data_all[Ind_tr]\n",
    "        s2_tr = data_trans[Ind_tr_v4]\n",
    "        model = MyModel(in_channels=3, img_size = 64, device=device, dtype=dtype)\n",
    "        \n",
    "        for k in tqdm(range(N), desc=\"Test Loop(N)\", leave=False):\n",
    "            # Fetch test data\n",
    "            np.random.seed(seed=1102 * (k + 1) + N1 + N2)\n",
    "            data_all_te = data_all[Ind_te]\n",
    "            # N_te = len(data_trans) - N1\n",
    "            N_te = N2\n",
    "            Ind_N_te = np.random.choice(len(Ind_te), N_te, replace=False)\n",
    "            s1_te = data_all_te[Ind_N_te]\n",
    "            s2_te = data_trans[Ind_te_v4]\n",
    "  \n",
    "            # concatenate the split data\n",
    "            X = jnp.array(torch.cat((s1_tr, s1_te)))\n",
    "            Y = jnp.array(torch.cat((s2_tr, s2_te)))\n",
    "            \n",
    "            seed += 1\n",
    "            key, subkey = random.split(key)\n",
    "            for t in range(len(tests)):\n",
    "                test = tests[t]\n",
    "                print(str(test))\n",
    "                if test == c2st_tst:\n",
    "                    outputs[t][ir][kk][k] = c2st_tst(s1_tr, s2_tr, s1_te, s2_te, model, alpha, lr, n_epoch, seed, \n",
    "                                    loss_fn=model.smooth_objective, device=device)\n",
    "                    \n",
    "                elif test == mmdagginc_test:\n",
    "                    X = X.reshape(X.shape[0], -1)  # This will reshape X to have two dimensions\n",
    "                    Y = Y.reshape(Y.shape[0], -1)  # Similarly for Y\n",
    "                    outputs[t][ir][kk][k] = test(X, Y, subkey, seed)\n",
    "                    \n",
    "                else:\n",
    "                    outputs[t][ir][kk][k] = test(X, Y, subkey, seed)\n",
    "\n",
    "\n",
    "output = jnp.mean(jnp.array(outputs), -1)\n",
    "\n",
    "if save:\n",
    "    jnp.save(f\"results/cifar_mmdagg{N1}.npy\", output)\n",
    "\n",
    "for t in range(len(tests)):\n",
    "    print(\" \")\n",
    "    print(tests[t])\n",
    "    print(output[t])"
   ]
  },
  {
   "cell_type": "markdown",
   "id": "c12db38b-056a-40a5-bff8-2d999099c916",
   "metadata": {
    "tags": []
   },
   "source": [
    "# Environment autogluon-env"
   ]
  },
  {
   "cell_type": "code",
   "execution_count": 9,
   "id": "dadd70ba-9f02-4df6-af91-ec32e9155051",
   "metadata": {
    "tags": []
   },
   "outputs": [],
   "source": [
    "import numpy as np\n",
    "import torchvision.transforms as transforms\n",
    "from torch.utils.data import DataLoader\n",
    "from torchvision import datasets\n",
    "import torch\n",
    "from jax import random\n",
    "import jax.numpy as jnp\n",
    "from tqdm.auto import tqdm\n",
    "from pathlib import Path\n",
    "Path(\"results\").mkdir(exist_ok=True)"
   ]
  },
  {
   "cell_type": "code",
   "execution_count": 10,
   "id": "ee938688-9ed5-4679-93b2-a9a2c1818b22",
   "metadata": {
    "tags": []
   },
   "outputs": [
    {
     "ename": "ModuleNotFoundError",
     "evalue": "No module named 'autotst'",
     "output_type": "error",
     "traceback": [
      "\u001b[0;31m---------------------------------------------------------------------------\u001b[0m",
      "\u001b[0;31mModuleNotFoundError\u001b[0m                       Traceback (most recent call last)",
      "\u001b[1;32m/home/oldrain123/C2ST/experiment_cifar3.ipynb 셀 15\u001b[0m line \u001b[0;36m1\n\u001b[0;32m----> <a href='vscode-notebook-cell://ssh-remote%2B165.132.79.140/home/oldrain123/C2ST/experiment_cifar3.ipynb#X16sdnNjb2RlLXJlbW90ZQ%3D%3D?line=0'>1</a>\u001b[0m \u001b[39mimport\u001b[39;00m \u001b[39mautotst\u001b[39;00m\n\u001b[1;32m      <a href='vscode-notebook-cell://ssh-remote%2B165.132.79.140/home/oldrain123/C2ST/experiment_cifar3.ipynb#X16sdnNjb2RlLXJlbW90ZQ%3D%3D?line=1'>2</a>\u001b[0m \u001b[39mfrom\u001b[39;00m \u001b[39mutils\u001b[39;00m \u001b[39mimport\u001b[39;00m HiddenPrints\n\u001b[1;32m      <a href='vscode-notebook-cell://ssh-remote%2B165.132.79.140/home/oldrain123/C2ST/experiment_cifar3.ipynb#X16sdnNjb2RlLXJlbW90ZQ%3D%3D?line=3'>4</a>\u001b[0m \u001b[39mdef\u001b[39;00m \u001b[39mautotst_test\u001b[39m(X, Y, key, seed, time\u001b[39m=\u001b[39m\u001b[39m60\u001b[39m):\n",
      "\u001b[0;31mModuleNotFoundError\u001b[0m: No module named 'autotst'"
     ]
    }
   ],
   "source": [
    "import autotst\n",
    "from utils import HiddenPrints\n",
    "\n",
    "def autotst_test(X, Y, key, seed, time=60):\n",
    "    with HiddenPrints():\n",
    "        tst = autotst.AutoTST(X, Y, split_ratio=0.5, model=autotst.model.AutoGluonTabularPredictor)\n",
    "        tst.split_data()\n",
    "        tst.fit_witness(time_limit=time)  # time limit adjustable to your needs (in seconds)\n",
    "        p_value = tst.p_value_evaluate(permutations=10000)  # control number of permutations in the estimation\n",
    "    return int(p_value <= 0.05)"
   ]
  },
  {
   "cell_type": "code",
   "execution_count": null,
   "id": "132f51b8-dde2-4392-ab00-a8306f35692f",
   "metadata": {},
   "outputs": [],
   "source": [
    "# parameters\n",
    "N1 = 1000\n",
    "img_size = 64\n",
    "batch_size = 100\n",
    "K = 3\n",
    "N = 10"
   ]
  },
  {
   "cell_type": "code",
   "execution_count": null,
   "id": "5d896a9d-b079-439a-a51b-c5ffce6aa95a",
   "metadata": {
    "tags": []
   },
   "outputs": [],
   "source": [
    "# Load the CIFAR 10 data and CIFAR 10.1\n",
    "\n",
    "# Configure data loader\n",
    "dataset_test = datasets.CIFAR10(root='./cifar_data/cifar10', download=True,train=False,\n",
    "                           transform=transforms.Compose([\n",
    "                               transforms.Resize(img_size),\n",
    "                               transforms.ToTensor(),\n",
    "                               transforms.Normalize((0.5, 0.5, 0.5), (0.5, 0.5, 0.5)),\n",
    "                           ]))\n",
    "\n",
    "dataloader_test = torch.utils.data.DataLoader(dataset_test, batch_size=10000, shuffle=True, num_workers=1)\n",
    "\n",
    "# Obtain CIFAR10 images\n",
    "for i, (imgs, Labels) in enumerate(dataloader_test):\n",
    "    data_all = imgs\n",
    "    label_all = Labels\n",
    "Ind_all = np.arange(len(data_all))\n",
    "\n",
    "# Obtain CIFAR10.1 images\n",
    "data_new = np.load('./cifar_data/cifar10.1_v4_data.npy')\n",
    "data_T = np.transpose(data_new, [0,3,1,2])\n",
    "ind_M = np.random.choice(len(data_T), len(data_T), replace=False)\n",
    "data_T = data_T[ind_M]\n",
    "TT = transforms.Compose([transforms.Resize(img_size),transforms.ToTensor(),\n",
    "                               transforms.Normalize((0.5, 0.5, 0.5), (0.5, 0.5, 0.5))])\n",
    "trans = transforms.ToPILImage()\n",
    "data_trans = torch.zeros([len(data_T),3,img_size,img_size])\n",
    "data_T_tensor = torch.from_numpy(data_T)\n",
    "for i in range(len(data_T)):\n",
    "    d0 = trans(data_T_tensor[i])\n",
    "    data_trans[i] = TT(d0)\n",
    "Ind_v4_all = np.arange(len(data_T))"
   ]
  },
  {
   "cell_type": "code",
   "execution_count": null,
   "id": "1a7e673e-0ac4-42ea-b30d-358bf082a519",
   "metadata": {},
   "outputs": [],
   "source": [
    "# Run experiment\n",
    "\n",
    "seed = 0\n",
    "key = random.PRNGKey(42)\n",
    "\n",
    "tests = (autotst_test, )\n",
    "\n",
    "outputs = [[] for _ in range(len(tests))]\n",
    "for kk in tqdm(range(K)):\n",
    "    torch.manual_seed(kk * 19 + N1)\n",
    "    torch.cuda.manual_seed(kk * 19 + N1)\n",
    "    np.random.seed(seed=1102 * (kk + 10) + N1)\n",
    "\n",
    "    # Collect CIFAR10 images\n",
    "    Ind_tr = np.random.choice(len(data_all), N1, replace=False)\n",
    "    Ind_te = np.delete(Ind_all, Ind_tr)\n",
    "    train_data = []\n",
    "    for i in Ind_tr:\n",
    "        train_data.append([data_all[i], label_all[i]])\n",
    "\n",
    "    dataloader = torch.utils.data.DataLoader(\n",
    "        train_data,\n",
    "        batch_size=batch_size,\n",
    "        shuffle=True,\n",
    "    )\n",
    "\n",
    "    # Collect CIFAR10.1 images\n",
    "    np.random.seed(seed=819 * (kk + 9) + N1)\n",
    "    Ind_tr_v4 = np.random.choice(len(data_T), N1, replace=False)\n",
    "    Ind_te_v4 = np.delete(Ind_v4_all, Ind_tr_v4)\n",
    "    New_CIFAR_tr = data_trans[Ind_tr_v4]\n",
    "    New_CIFAR_te = data_trans[Ind_te_v4]\n",
    "    \n",
    "    # Run two-sample test on the training set\n",
    "    # Fetch training data\n",
    "    s1_tr = data_all[Ind_tr]\n",
    "    s2_tr = data_trans[Ind_tr_v4]\n",
    "    \n",
    "    for k in tqdm(range(N)):\n",
    "        # Fetch test data\n",
    "        np.random.seed(seed=1102 * (k + 1) + N1)\n",
    "        data_all_te = data_all[Ind_te]\n",
    "        N_te = len(data_trans) - N1\n",
    "        Ind_N_te = np.random.choice(len(Ind_te), N_te, replace=False)\n",
    "        s1_te = data_all_te[Ind_N_te]\n",
    "        s2_te = data_trans[Ind_te_v4]\n",
    "        \n",
    "        # MMD-FUSE & MMDAgg do not split the data\n",
    "        s1_tr = jnp.array(s1_tr)\n",
    "        s1_te = jnp.array(s1_te)\n",
    "        s2_tr = jnp.array(s2_tr)\n",
    "        s2_te = jnp.array(s2_te)\n",
    "        \n",
    "        # concatenate the split data\n",
    "        X = jnp.concatenate((s1_tr, s1_te))\n",
    "        Y = jnp.concatenate((s2_tr, s2_te))\n",
    "        \n",
    "        seed += 1\n",
    "        key, subkey = random.split(key)\n",
    "        for t in range(len(tests)):\n",
    "            test = tests[t]\n",
    "            outputs[t].append(client.submit(test, X, Y, subkey, seed))\n",
    "\n",
    "output = jnp.mean(jnp.array(outputs), -1)\n",
    "\n",
    "jnp.save(\"results/cifar_autotst.npy\", output)\n",
    "\n",
    "for t in range(len(tests)):\n",
    "    print(\" \")\n",
    "    print(tests[t])\n",
    "    print(output[t])"
   ]
  }
 ],
 "metadata": {
  "kernelspec": {
   "display_name": "Python 3 (ipykernel)",
   "language": "python",
   "name": "python3"
  },
  "language_info": {
   "codemirror_mode": {
    "name": "ipython",
    "version": 3
   },
   "file_extension": ".py",
   "mimetype": "text/x-python",
   "name": "python",
   "nbconvert_exporter": "python",
   "pygments_lexer": "ipython3",
   "version": "3.9.18"
  }
 },
 "nbformat": 4,
 "nbformat_minor": 5
}
