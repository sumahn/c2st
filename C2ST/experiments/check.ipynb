{
 "cells": [
  {
   "cell_type": "code",
   "execution_count": 1,
   "metadata": {},
   "outputs": [
    {
     "name": "stdout",
     "output_type": "stream",
     "text": [
      "gpu\n"
     ]
    }
   ],
   "source": [
    "import jax\n",
    "import jax.numpy as jnp\n",
    "import jax.random as random\n",
    "import os\n",
    "from jax.lib import xla_bridge\n",
    "print(xla_bridge.get_backend().platform)\n",
    "\n",
    "os.environ[\"CUDA_VISIBLE_DEVICES\"] = \"4\""
   ]
  },
  {
   "cell_type": "code",
   "execution_count": 2,
   "metadata": {},
   "outputs": [
    {
     "data": {
      "text/plain": [
       "Array([[4, 1, 6],\n",
       "       [1, 4, 5],\n",
       "       [6, 5, 4]], dtype=int32)"
      ]
     },
     "execution_count": 2,
     "metadata": {},
     "output_type": "execute_result"
    }
   ],
   "source": [
    "Kxx = jnp.array([[4,1,6],[1,4,5,],[6,5,4]])\n",
    "Kxx"
   ]
  },
  {
   "cell_type": "code",
   "execution_count": 3,
   "metadata": {},
   "outputs": [
    {
     "data": {
      "text/plain": [
       "Array([[1, 2],\n",
       "       [2, 1]], dtype=int32)"
      ]
     },
     "execution_count": 3,
     "metadata": {},
     "output_type": "execute_result"
    }
   ],
   "source": [
    "Kyy = jnp.array([[1,2],[2,1]])\n",
    "Kyy"
   ]
  },
  {
   "cell_type": "code",
   "execution_count": 4,
   "metadata": {},
   "outputs": [
    {
     "data": {
      "text/plain": [
       "Array([[1, 2],\n",
       "       [3, 4],\n",
       "       [5, 6]], dtype=int32)"
      ]
     },
     "execution_count": 4,
     "metadata": {},
     "output_type": "execute_result"
    }
   ],
   "source": [
    "Kxy = jnp.array([[1,2],[3,4],[5,6]])\n",
    "Kxy"
   ]
  },
  {
   "cell_type": "code",
   "execution_count": 5,
   "metadata": {},
   "outputs": [
    {
     "data": {
      "text/plain": [
       "Array([[0, 1, 6],\n",
       "       [1, 0, 5],\n",
       "       [6, 5, 0]], dtype=int32)"
      ]
     },
     "execution_count": 5,
     "metadata": {},
     "output_type": "execute_result"
    }
   ],
   "source": [
    "tKxx = Kxx -jnp.diag(jnp.diag(Kxx))\n",
    "tKxx"
   ]
  },
  {
   "cell_type": "code",
   "execution_count": 6,
   "metadata": {},
   "outputs": [
    {
     "data": {
      "text/plain": [
       "Array([[0, 2],\n",
       "       [2, 0]], dtype=int32)"
      ]
     },
     "execution_count": 6,
     "metadata": {},
     "output_type": "execute_result"
    }
   ],
   "source": [
    "tKyy = Kyy -jnp.diag(jnp.diag(Kyy))\n",
    "tKyy"
   ]
  },
  {
   "cell_type": "code",
   "execution_count": 7,
   "metadata": {},
   "outputs": [],
   "source": [
    "m = Kxx.shape[0]\n",
    "n = Kyy.shape[0]"
   ]
  },
  {
   "cell_type": "code",
   "execution_count": 8,
   "metadata": {},
   "outputs": [],
   "source": [
    "def compute_mmd_sq(Kxx, Kyy, Kxy, m, n):\n",
    "    term1 = jnp.sum(Kxx - jnp.diag(jnp.diag(Kxx))) / (m * (m - 1))\n",
    "    term2 = jnp.sum(Kyy - jnp.diag(jnp.diag(Kyy))) / (n * (n - 1))\n",
    "    term3 = -2 * jnp.sum(Kxy) / (m * n)\n",
    "\n",
    "    return term1 + term2 + term3"
   ]
  },
  {
   "cell_type": "code",
   "execution_count": 9,
   "metadata": {},
   "outputs": [
    {
     "data": {
      "text/plain": [
       "Array(-1., dtype=float32)"
      ]
     },
     "execution_count": 9,
     "metadata": {},
     "output_type": "execute_result"
    }
   ],
   "source": [
    "compute_mmd_sq(Kxx, Kyy, Kxy, m, n)"
   ]
  },
  {
   "cell_type": "code",
   "execution_count": 10,
   "metadata": {},
   "outputs": [],
   "source": [
    "def H(i,j,k,l) :\n",
    "    return Kxx[i,j] + Kyy[k,l] - (Kxy[i,k]+Kxy[i,l]+Kxy[j,k]+Kxy[j,l])/2"
   ]
  },
  {
   "cell_type": "code",
   "execution_count": 11,
   "metadata": {},
   "outputs": [],
   "source": [
    "def compute_moments(Kxx, Kyy, Kxy):\n",
    "    m = Kxx.shape[0]\n",
    "    n = Kyy.shape[0]\n",
    "    one_m = jnp.ones(m)\n",
    "    one_n = jnp.ones(n)\n",
    "    \n",
    "    tKxx = Kxx - jnp.diag(jnp.diag(Kxx))\n",
    "    tKyy = Kyy - jnp.diag(jnp.diag(Kyy))\n",
    "    return [\n",
    "        0,\n",
    "        jnp.trace(tKxx.T @ tKxx), # C1\n",
    "        jnp.sum(tKxx.T @ tKxx), # C2\n",
    "        jnp.sum(tKxx) * jnp.sum(tKxx), # C3 \n",
    "        jnp.sum(tKxx) * jnp.sum(tKyy), # C4\n",
    "        jnp.sum(tKxx @ Kxy), # C5\n",
    "        (jnp.sum(Kxx) * jnp.sum(Kxy))\n",
    "        -jnp.sum(jnp.diag(Kxx) * jnp.sum(Kxy))-jnp.sum(Kxx@Kxy)\n",
    "        +jnp.sum(jnp.diag(Kxx)@Kxy@one_n), # C6\n",
    "        jnp.sum(Kxy @ tKyy), # C7\n",
    "        jnp.sum(Kxy @ Kyy), # C8 \n",
    "        jnp.trace(Kxy.T @ Kxy), # C9\n",
    "        jnp.sum((Kxy.T @ Kxy) -jnp.diag(jnp.diag((Kxy.T @ Kxy)))), # C10\n",
    "        jnp.sum((Kxy @ Kxy.T) -jnp.diag(jnp.diag((Kxy @ Kxy.T)))), # C11\n",
    "        (jnp.sum(Kxy) * jnp.sum(Kxy)) - jnp.sum((one_m.T @ Kxy)**2) \n",
    "        - jnp.sum((Kxy @  one_n)**2) + jnp.sum(Kxy ** 2), # C12\n",
    "        jnp.trace(tKyy.T @ tKyy), # C13\n",
    "        jnp.sum(tKyy @ tKyy), # C14\n",
    "        jnp.sum(tKyy) * jnp.sum(tKyy) # C15 \n",
    "    ]"
   ]
  },
  {
   "cell_type": "code",
   "execution_count": 12,
   "metadata": {},
   "outputs": [
    {
     "data": {
      "text/plain": [
       "[0,\n",
       " Array(124, dtype=int32),\n",
       " Array(206, dtype=int32),\n",
       " Array(576, dtype=int32),\n",
       " Array(96, dtype=int32),\n",
       " Array(184, dtype=int32),\n",
       " Array(320., dtype=float32),\n",
       " Array(42, dtype=int32),\n",
       " Array(63, dtype=int32),\n",
       " Array(91, dtype=int32),\n",
       " Array(88, dtype=int32),\n",
       " Array(134, dtype=int32),\n",
       " Array(128., dtype=float32),\n",
       " Array(8, dtype=int32),\n",
       " Array(8, dtype=int32),\n",
       " Array(16, dtype=int32)]"
      ]
     },
     "execution_count": 12,
     "metadata": {},
     "output_type": "execute_result"
    }
   ],
   "source": [
    "C = compute_moments(Kxx, Kyy, Kxy)\n",
    "C"
   ]
  },
  {
   "cell_type": "code",
   "execution_count": 13,
   "metadata": {},
   "outputs": [
    {
     "name": "stdout",
     "output_type": "stream",
     "text": [
      "Result: 824.0\n",
      "824\n"
     ]
    }
   ],
   "source": [
    "# \n",
    "result = 0.0\n",
    "\n",
    "for i in range(m):\n",
    "    for j in range(m):\n",
    "        if i != j:\n",
    "            for v in range(m):\n",
    "                if i != v:\n",
    "                    for k in range(n):\n",
    "                        for l in range(n):\n",
    "                            if k != l:\n",
    "                                for u in range(n):\n",
    "                                    for t in range(n):\n",
    "                                        if u != t:\n",
    "                                            result += Kxx[i, j] * Kxx[i, v]\n",
    "\n",
    "print(\"Result:\", result)\n",
    "print(C[2] * (n**2) * ((n-1)**2))"
   ]
  },
  {
   "cell_type": "code",
   "execution_count": 16,
   "metadata": {},
   "outputs": [
    {
     "name": "stdout",
     "output_type": "stream",
     "text": [
      "640.0\n",
      "640.0\n"
     ]
    }
   ],
   "source": [
    "result = 0.0\n",
    "for i in range(m):\n",
    "    for j in range(m):\n",
    "        if i != j:\n",
    "            for v in range(m):\n",
    "                if i != v:\n",
    "                    for k in range(n):\n",
    "                        for l in range(n):\n",
    "                            if k != l:\n",
    "                                for u in range(n):\n",
    "                                    for t in range(n):\n",
    "                                        if u != t:\n",
    "                                            result += Kxx[i, j] * Kxy[v, k]\n",
    "\n",
    "print(result)\n",
    "print(C[6] * n * (n-1) ** 2)"
   ]
  },
  {
   "cell_type": "code",
   "execution_count": 20,
   "metadata": {},
   "outputs": [
    {
     "name": "stdout",
     "output_type": "stream",
     "text": [
      "Result: 1152.0\n",
      "1152\n"
     ]
    }
   ],
   "source": [
    "result = 0.0\n",
    "for i in range(m):\n",
    "    for j in range(m):\n",
    "        if i != j:\n",
    "            for v in range(m):\n",
    "                for q in range(m):\n",
    "                    if v != q:\n",
    "                        for k in range(n):\n",
    "                            for l in range(n):\n",
    "                                if k != l:\n",
    "                                    for u in range(n):\n",
    "                                        if u != k:\n",
    "                                            result += Kxx[i, j] * Kxx[v, q]\n",
    "\n",
    "print(\"Result:\", result)\n",
    "print(C[3] * n * (n-1)**2)"
   ]
  },
  {
   "cell_type": "code",
   "execution_count": 21,
   "metadata": {},
   "outputs": [
    {
     "name": "stdout",
     "output_type": "stream",
     "text": [
      "Result: 576.0\n",
      "576\n"
     ]
    }
   ],
   "source": [
    "result = 0.0\n",
    "for i in range(m):\n",
    "    for j in range(m):\n",
    "        if i != j:\n",
    "            for v in range(m):\n",
    "                for q in range(m):\n",
    "                    if v != q:\n",
    "                        for k in range(n):\n",
    "                            for l in range(n):\n",
    "                                if k != l:\n",
    "                                    for u in range(n):\n",
    "                                        if u != k:\n",
    "                                            result += Kxx[i, j] * Kyy[k, l]\n",
    "\n",
    "print(\"Result:\", result)\n",
    "print(C[4] * m * (m-1))"
   ]
  },
  {
   "cell_type": "code",
   "execution_count": 43,
   "metadata": {},
   "outputs": [
    {
     "name": "stdout",
     "output_type": "stream",
     "text": [
      "Result: 864.0\n",
      "640.0\n"
     ]
    }
   ],
   "source": [
    "result = 0.0\n",
    "for i in range(m):\n",
    "    for j in range(m):\n",
    "        for v in range(m):\n",
    "            for q in range(m):\n",
    "                if i != j and v != q:\n",
    "                    for k in range(n):\n",
    "                        for l in range(n):\n",
    "                            if (k != l) & (k != u):\n",
    "                                for u in range(n):\n",
    "                                     result += Kxx[v, q] * Kxy[j, k]\n",
    "\n",
    "print(\"Result:\", result)\n",
    "print(C[6] * (m-1) * (n-1)**2)"
   ]
  },
  {
   "cell_type": "code",
   "execution_count": 25,
   "metadata": {},
   "outputs": [
    {
     "name": "stdout",
     "output_type": "stream",
     "text": [
      "Result: 504.0\n",
      "504\n"
     ]
    }
   ],
   "source": [
    "result = 0.0\n",
    "for i in range(m):\n",
    "    for j in range(m):\n",
    "        if i != j:\n",
    "            for v in range(m):\n",
    "                for q in range(m):\n",
    "                    if v != q:\n",
    "                        for k in range(n):\n",
    "                            for l in range(n):\n",
    "                                if k != l:\n",
    "                                    for u in range(n):\n",
    "                                        if u != k:\n",
    "                                            result += Kxy[i, l] * Kyy[k, l]\n",
    "\n",
    "print(\"Result:\", result)\n",
    "print(C[7] * m * (m-1) **2 * (n-1))"
   ]
  },
  {
   "cell_type": "code",
   "execution_count": 34,
   "metadata": {},
   "outputs": [
    {
     "name": "stdout",
     "output_type": "stream",
     "text": [
      "Result: 320.0\n",
      "320.0\n"
     ]
    }
   ],
   "source": [
    "result = 0.0\n",
    "for i in range(m):\n",
    "    for j in range(m):\n",
    "        for v in range(m):\n",
    "            if i != j and i != v:\n",
    "                for k in range(n):\n",
    "                    for l in range(n):\n",
    "                        for u in range(n):\n",
    "                            if k != l and k != u:\n",
    "                                result += Kxx[i, j] * Kxy[v, k]\n",
    "\n",
    "print(\"Result:\", result)\n",
    "print(C[6] * (n-1)**2)"
   ]
  },
  {
   "cell_type": "code",
   "execution_count": 35,
   "metadata": {},
   "outputs": [
    {
     "name": "stdout",
     "output_type": "stream",
     "text": [
      "Result: 1008.0\n",
      "640.0\n"
     ]
    }
   ],
   "source": [
    "result = 0.0\n",
    "for i in range(m):\n",
    "    for j in range(m):\n",
    "        for v in range(m):\n",
    "            for q in range(m):\n",
    "                if i != j and v != q:\n",
    "                    for k in range(n):  \n",
    "                        for l in range(n):\n",
    "                            if k != l:\n",
    "                                result += Kxx[i, j] * Kxy[v, k]\n",
    "\n",
    "print(\"Result:\", result)\n",
    "print(C[6] * (m-1) * (n-1))"
   ]
  },
  {
   "cell_type": "code",
   "execution_count": 37,
   "metadata": {},
   "outputs": [
    {
     "data": {
      "text/plain": [
       "1.575"
      ]
     },
     "execution_count": 37,
     "metadata": {},
     "output_type": "execute_result"
    }
   ],
   "source": [
    "1008 / 640"
   ]
  },
  {
   "cell_type": "code",
   "execution_count": 36,
   "metadata": {},
   "outputs": [
    {
     "name": "stdout",
     "output_type": "stream",
     "text": [
      "Result: 320.0\n",
      "320.0\n"
     ]
    }
   ],
   "source": [
    "result = 0.0\n",
    "for i in range(m):\n",
    "    for j in range(m):\n",
    "        for v in range(m):\n",
    "            if i != j and i != v:\n",
    "                for k in range(n):  \n",
    "                    for l in range(n):\n",
    "                        if k != l:\n",
    "                            result += Kxx[i, j] * Kxy[v, k]\n",
    "\n",
    "print(\"Result:\", result)\n",
    "print(C[6] * (n-1))"
   ]
  },
  {
   "cell_type": "code",
   "execution_count": null,
   "metadata": {},
   "outputs": [],
   "source": [
    "# C4 = 96\n",
    "result = 0.0\n",
    "for i in range(m) :\n",
    "    for j in range(m) :\n",
    "        if i != j :\n",
    "            for k in range(n) :\n",
    "                for l in range(n) :\n",
    "                    if k != l :\n",
    "                        result += Kxx[i,j] * Kyy[k,l]\n",
    "result"
   ]
  },
  {
   "cell_type": "code",
   "execution_count": null,
   "metadata": {},
   "outputs": [],
   "source": [
    "# c5 184\n",
    "result = 0.0\n",
    "for i in range(m) :\n",
    "    for j in range(m) :\n",
    "        if i != j :\n",
    "            for k in range(n) :\n",
    "                        result += Kxx[i,j] * Kxy[i,k]\n",
    "result"
   ]
  },
  {
   "cell_type": "code",
   "execution_count": null,
   "metadata": {},
   "outputs": [],
   "source": [
    "# c6 504\n",
    "result = 0.0\n",
    "for i in range(m) :\n",
    "    for v in range(m) :\n",
    "        for j in range(m) :\n",
    "            if i != j :\n",
    "                for k in range(n) :\n",
    "                            result += Kxx[i,j] * Kxy[v,k]\n",
    "result"
   ]
  },
  {
   "cell_type": "code",
   "execution_count": null,
   "metadata": {},
   "outputs": [],
   "source": [
    "# c7 42\n",
    "result = 0.0\n",
    "for i in range(m) :\n",
    "    for k in range(n) :\n",
    "        for l in range(n) :\n",
    "            if k != l:\n",
    "                result += Kxy[i,l] * Kyy[k,l]\n",
    "result"
   ]
  },
  {
   "cell_type": "code",
   "execution_count": null,
   "metadata": {},
   "outputs": [],
   "source": [
    "# C8 63\n",
    "result = 0.0\n",
    "for i in range(m) :\n",
    "    for k in range(n) :\n",
    "        for u in range(n) :\n",
    "            for l in range(n) :\n",
    "                if k != l :\n",
    "                    result += Kxy[i,k] * Kyy[l,u]\n",
    "result"
   ]
  },
  {
   "cell_type": "code",
   "execution_count": null,
   "metadata": {},
   "outputs": [],
   "source": [
    "# c9 91\n",
    "result = 0.0\n",
    "for i in range(m) :\n",
    "    for k in range(n) :\n",
    "        result += Kxy[i,k] * Kxy[i,k]\n",
    "result"
   ]
  },
  {
   "cell_type": "code",
   "execution_count": null,
   "metadata": {},
   "outputs": [],
   "source": [
    "# c10 88\n",
    "result = 0.0\n",
    "for i in range(m) :\n",
    "    for k in range(n) :\n",
    "        for l in range(n) :\n",
    "            if k != l :\n",
    "                result += Kxy[i,k] * Kxy[i,l]\n",
    "result"
   ]
  },
  {
   "cell_type": "code",
   "execution_count": null,
   "metadata": {},
   "outputs": [],
   "source": [
    "# c11 134\n",
    "result = 0.0\n",
    "for i in range(m) :\n",
    "    for j in range(m) :\n",
    "        if i != j :\n",
    "            for k in range(n) :\n",
    "                result += Kxy[i,k] * Kxy[j,k]\n",
    "result"
   ]
  },
  {
   "cell_type": "code",
   "execution_count": null,
   "metadata": {},
   "outputs": [],
   "source": [
    "# c12 128\n",
    "result = 0.0\n",
    "for i in range(m) :\n",
    "    for j in range(m) :\n",
    "        if i != j :\n",
    "            for k in range(n) :\n",
    "                for l in range(n) :\n",
    "                    if k != l :\n",
    "                        result += Kxy[i,k] * Kxy[j,l]\n",
    "result"
   ]
  },
  {
   "cell_type": "code",
   "execution_count": null,
   "metadata": {},
   "outputs": [],
   "source": [
    "# c13 8\n",
    "result = 0.0\n",
    "for k in range(n) :\n",
    "    for l in range(n) :\n",
    "        if k != l :\n",
    "            result += Kyy[k,l] * Kyy[k,l]\n",
    "result"
   ]
  },
  {
   "cell_type": "code",
   "execution_count": null,
   "metadata": {},
   "outputs": [],
   "source": [
    "# c14 8\n",
    "result = 0.0\n",
    "for k in range(n) :\n",
    "    for u in range(n) :\n",
    "        for l in range(n) :\n",
    "            if k != l and k != u :\n",
    "                result += Kyy[k,l] * Kyy[k,u]\n",
    "result"
   ]
  },
  {
   "cell_type": "code",
   "execution_count": null,
   "metadata": {},
   "outputs": [],
   "source": [
    "# c15 16\n",
    "result = 0.0\n",
    "for k in range(n) :\n",
    "    for l in range(n) :\n",
    "        if k != l :\n",
    "            for u in range(n) :\n",
    "                for t in range(n) :\n",
    "                    if u != t  :\n",
    "                        result += Kyy[k,l] * Kyy[u,t]\n",
    "result"
   ]
  },
  {
   "cell_type": "code",
   "execution_count": null,
   "metadata": {},
   "outputs": [],
   "source": []
  },
  {
   "cell_type": "code",
   "execution_count": null,
   "metadata": {},
   "outputs": [],
   "source": [
    "def calc_xi(coefficients, mmd2):\n",
    "    xi_value = sum(coefficients)\n",
    "    return xi_value - mmd2 "
   ]
  },
  {
   "cell_type": "code",
   "execution_count": null,
   "metadata": {},
   "outputs": [],
   "source": [
    "mm = m * (m-1) \n",
    "nn = n * (n-1)\n",
    "mn = m * (n-1)\n",
    "nm = n * (m-1)"
   ]
  },
  {
   "cell_type": "code",
   "execution_count": null,
   "metadata": {},
   "outputs": [],
   "source": [
    "[C[2]/(mm*(m-1)), 2*C[4]/(mm * nn), -2*C[5]/(mm * n), -2*C[6]/(mm*(m-1)*n), \n",
    "        -4*C[8]/(m*n*nn), C[10]/(m*nn), 3*C[12]/(mm * nn), C[15]/(nn * nn)]"
   ]
  },
  {
   "cell_type": "code",
   "execution_count": null,
   "metadata": {},
   "outputs": [],
   "source": [
    "result = 0.0\n",
    "for i in range(m) :\n",
    "    for j in range(m) :\n",
    "        for v in range(m) :\n",
    "            if i != j and i != v :\n",
    "                for k in range(n) :\n",
    "                    for u in range(n) :\n",
    "                        for l in range(n) :\n",
    "                            for t in range(n) :\n",
    "                                if k != l and u != t :\n",
    "                                    result += Kyy[k,l] * Kyy[u,t]\n",
    "result/(mm*(m-1)*nn*nn)"
   ]
  },
  {
   "cell_type": "code",
   "execution_count": null,
   "metadata": {},
   "outputs": [],
   "source": [
    "C[3] * nn * nn"
   ]
  },
  {
   "cell_type": "code",
   "execution_count": null,
   "metadata": {},
   "outputs": [],
   "source": []
  },
  {
   "cell_type": "code",
   "execution_count": null,
   "metadata": {},
   "outputs": [],
   "source": []
  },
  {
   "cell_type": "code",
   "execution_count": null,
   "metadata": {},
   "outputs": [],
   "source": []
  },
  {
   "cell_type": "code",
   "execution_count": null,
   "metadata": {},
   "outputs": [],
   "source": []
  },
  {
   "cell_type": "code",
   "execution_count": null,
   "metadata": {},
   "outputs": [],
   "source": [
    "def compute_Xi_values(C, m, n, mmd_sq, complete=True):\n",
    "    mmd2 = mmd_sq ** 2 \n",
    "    \n",
    "    mm = m * (m-1) \n",
    "    nn = n * (n-1)\n",
    "    mn = m * (n-1)\n",
    "    nm = n * (m-1)\n",
    "\n",
    "    Xi = [\n",
    "        # Xi_01\n",
    "        calc_xi([C[3]/(mm**2), 2*C[4]/(mm * nn * (n-1)), -4*C[6]/(m*mm*n), -2*C[7]/(m * nn), \n",
    "                -2*C[8]/(m*nn*(n-1)), C[11]/(mm * n), 3*C[12]/(mm * nn), C[14]/(nn * (n-1))], mmd2),\n",
    "        \n",
    "        # Xi_02\n",
    "        calc_xi([C[3]/(mm**2), 2*C[4]/(mm*nn), -4*C[6]/(m * mm * nn), -4*C[7]/(m * nn), \n",
    "                2*C[11]/(mm * n), 2*C[12]/(mm * nn), C[13]/nn], mmd2),\n",
    "        \n",
    "        # Xi_10 \n",
    "        calc_xi([C[2]/(mm*(m-1)), 2*C[4]/(mm * nn), -2*C[5]/(mm * n), -2*C[6]/(mm*(m-1)*n), \n",
    "                -4*C[8]/(m*n*nn), C[10]/(m*nn), 3*C[12]/(mm * nn), C[15]/(nn * nn)], mmd2), \n",
    "        \n",
    "        # Xi_11 \n",
    "        calc_xi([C[2]/(mm*(m-1)), 2*C[4]/(mm * nn), -2*C[5]/(mm * n), -2*C[6]/(mm * nm), \n",
    "                 -2*C[7]/(m * nn), -2*C[8]/(mn * nn), 0.25*C[9]/mn, 0.75*C[10]/(m*nn), 0.75*C[11]/(mm * n), \n",
    "                 2.25*C[12]/(mm * nn), C[14] / (nn * (n-1))], mmd2), \n",
    "        \n",
    "        # Xi_12 \n",
    "        calc_xi([C[1]/(mm * (m-1)), 2*C[4]/(mm*nn), -2*C[5]/(mm * n), -2*C[6]/(mm * nm), \n",
    "                 -4*C[7]/(m*nn), 0.5*C[9]/(mn), 0.5*C[10]/(m * nn), 1.5*C[11]/(mm*n), 1.5*C[12]/(mm * nn), \n",
    "                 C[13] / (nn)], mmd2), \n",
    "        \n",
    "        # Xi_20 \n",
    "        calc_xi([C[1]/mm , 2*C[4]/(mm * nn), -4*C[5]/(mm * n), -4*C[8]/(m*n*n), 2*C[10]/(m * nn),\n",
    "                 2*C[12]/(mm * nn), C[15]/(nn * nn)], mmd2), \n",
    "        \n",
    "        # Xi_21 \n",
    "        calc_xi([C[1]/mm, 2*C[4]/(mm * nn), -4*C[5]/(mm * n), -2*C[7]/(nn * (n-1)), -2*C[8]/(mn * nn), \n",
    "                 0.5*C[9]/(mn), 1.5*C[10]/(m * nn), 0.5*C[11]/(mm * n), 1.5*C[12]/(mm * nn), C[14]/(nn * (n-1))], mmd2), \n",
    "        \n",
    "        # Xi_22 \n",
    "        calc_xi([C[1]/mm, 2*C[4]/(mm * nn), -4*C[5]/(mm * n), -4*C[7]/(m * nn), C[9]/(mn), C[10]/(m * nn),\n",
    "                 C[11]/(mm * n), C[12]/(mm * nn), C[13]/nn], mmd2)\n",
    "        ]\n",
    "\n",
    "    if complete == False:\n",
    "        Xi = [Xi[0], Xi[2]]\n",
    "\n",
    "\n",
    "    return Xi"
   ]
  },
  {
   "cell_type": "code",
   "execution_count": null,
   "metadata": {},
   "outputs": [],
   "source": [
    "calc_xi([C[3]/(mm**2), 2*C[4]/(mm * nn * (n-1)), -4*C[6]/(m*mm*n), -2*C[7]/(m * nn), \n",
    "                -2*C[8]/(m*nn*(n-1)), C[11]/(mm * n), 3*C[12]/(mm * nn), C[14]/(nn * (n-1))], -1)"
   ]
  },
  {
   "cell_type": "code",
   "execution_count": null,
   "metadata": {},
   "outputs": [],
   "source": [
    "calc_xi([C[2]/(mm*(m-1)), 2*C[4]/(mm * nn), -2*C[5]/(mm * n), -2*C[6]/(mm*(m-1)*n), \n",
    "        -4*C[8]/(m*n*nn), C[10]/(m*nn), 3*C[12]/(mm * nn), C[15]/(nn * nn)], -1), \n"
   ]
  },
  {
   "cell_type": "code",
   "execution_count": null,
   "metadata": {},
   "outputs": [],
   "source": [
    "C[3]/(mm**2)"
   ]
  },
  {
   "cell_type": "code",
   "execution_count": null,
   "metadata": {},
   "outputs": [],
   "source": [
    "result = 0.0\n",
    "for i in range(m) :\n",
    "    for j in range(m) :\n",
    "        for v in range(m) :\n",
    "            if i != j and i != v :\n",
    "                for k in range(n) :\n",
    "                    for u in range(n) :\n",
    "                        for l in range(n) :\n",
    "                            for t in range(n) :\n",
    "                                if k != l and u != t :\n",
    "                                    result += Kyy[k,l] * Kyy[u,t]\n",
    "result/(mm*(m-1)*nn*nn)"
   ]
  },
  {
   "cell_type": "markdown",
   "metadata": {},
   "source": [
    "1. C1"
   ]
  },
  {
   "cell_type": "code",
   "execution_count": null,
   "metadata": {},
   "outputs": [],
   "source": [
    "result = 0.0\n",
    "for i in range(m) :\n",
    "    for j in range(m) :\n",
    "        if j != i :\n",
    "            result += Kxx[i,j] * Kxx[i,j]\n",
    "result"
   ]
  },
  {
   "cell_type": "code",
   "execution_count": null,
   "metadata": {},
   "outputs": [],
   "source": [
    "jnp.trace(tKxx.T @ tKxx)"
   ]
  },
  {
   "cell_type": "markdown",
   "metadata": {},
   "source": [
    "2. C2"
   ]
  },
  {
   "cell_type": "code",
   "execution_count": null,
   "metadata": {},
   "outputs": [],
   "source": [
    "result = 0.0\n",
    "for i in range(m) :\n",
    "    for j in range(m) :\n",
    "        for v in range(m) :\n",
    "            if j != i and v!= i :\n",
    "                print(\"i,j,v : \",i,j,v)\n",
    "                result += Kxx[i,j] * Kxx[i,v]\n",
    "result"
   ]
  },
  {
   "cell_type": "code",
   "execution_count": null,
   "metadata": {},
   "outputs": [],
   "source": [
    "jnp.sum(tKxx.T @ tKxx)"
   ]
  },
  {
   "cell_type": "code",
   "execution_count": null,
   "metadata": {},
   "outputs": [],
   "source": [
    "one_3 = jnp.ones(3)"
   ]
  },
  {
   "cell_type": "code",
   "execution_count": null,
   "metadata": {},
   "outputs": [],
   "source": [
    "one_3.T @ tKxx.T @ tKxx @ one_3"
   ]
  },
  {
   "cell_type": "code",
   "execution_count": null,
   "metadata": {},
   "outputs": [],
   "source": []
  }
 ],
 "metadata": {
  "kernelspec": {
   "display_name": "mmdenv",
   "language": "python",
   "name": "python3"
  },
  "language_info": {
   "codemirror_mode": {
    "name": "ipython",
    "version": 3
   },
   "file_extension": ".py",
   "mimetype": "text/x-python",
   "name": "python",
   "nbconvert_exporter": "python",
   "pygments_lexer": "ipython3",
   "version": "3.9.15"
  }
 },
 "nbformat": 4,
 "nbformat_minor": 2
}
