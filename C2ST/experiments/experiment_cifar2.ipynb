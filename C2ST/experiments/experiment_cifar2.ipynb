{
 "cells": [
  {
   "cell_type": "markdown",
   "id": "fbf73f21-3037-4587-bf31-65d3b29c5322",
   "metadata": {},
   "source": [
    "The code in this notebook replicates the CIFAR-10 vs CIFAR-10.1 experiment of\n",
    "Liu et al.\n",
    "(Learning Deep Kernels for Non-Parametric Two-Sample Tests, \n",
    "ICML 2020). \n",
    "We utilize their code which is under the MIT license:\n",
    "https://github.com/fengliu90/DK-for-TST/blob/master/Deep_Baselines_CIFAR10.py"
   ]
  },
  {
   "cell_type": "markdown",
   "id": "34cb7fb8-022c-4031-bbb2-b3081701ff04",
   "metadata": {
    "tags": []
   },
   "source": [
    "# Environment mmdfuse-env"
   ]
  },
  {
   "cell_type": "code",
   "execution_count": 1,
   "id": "1969f9ea",
   "metadata": {},
   "outputs": [],
   "source": [
    "%load_ext autoreload \n",
    "%autoreload 2"
   ]
  },
  {
   "cell_type": "code",
   "execution_count": 2,
   "id": "aa41eb3e-591b-42a1-8b1b-60c517e675be",
   "metadata": {
    "tags": []
   },
   "outputs": [
    {
     "name": "stderr",
     "output_type": "stream",
     "text": [
      "/home/oldrain123/miniconda3/envs/mmdfuse-env/lib/python3.9/site-packages/torchvision/io/image.py:13: UserWarning: Failed to load image Python extension: '/home/oldrain123/miniconda3/envs/mmdfuse-env/lib/python3.9/site-packages/torchvision/image.so: undefined symbol: _ZN3c104warnERKNS_7WarningE'If you don't plan on using image functionality from `torchvision.io`, you can ignore this warning. Otherwise, there might be something wrong with your environment. Did you have `libjpeg` or `libpng` installed before building `torchvision` from source?\n",
      "  warn(\n"
     ]
    }
   ],
   "source": [
    "import numpy as np\n",
    "import torchvision.transforms as transforms\n",
    "from torch.utils.data import DataLoader\n",
    "from torchvision import datasets\n",
    "import torch\n",
    "from jax import random\n",
    "import jax.numpy as jnp\n",
    "from tqdm.auto import tqdm\n",
    "from pathlib import Path\n",
    "from models import MyModel\n",
    "Path(\"results\").mkdir(exist_ok=True)"
   ]
  },
  {
   "cell_type": "code",
   "execution_count": 3,
   "id": "fb3e7d2d",
   "metadata": {},
   "outputs": [],
   "source": [
    "import os\n",
    "import jax\n",
    "\n",
    "os.environ[\"CUDA_VISIBLE_DEVICES\"] = \"3\""
   ]
  },
  {
   "cell_type": "code",
   "execution_count": 4,
   "id": "27a16b13-a3a9-457e-be73-1459bb32d9d3",
   "metadata": {
    "tags": []
   },
   "outputs": [
    {
     "name": "stderr",
     "output_type": "stream",
     "text": [
      "WARNING (theano.configdefaults): install mkl with `conda install mkl-service`: No module named 'mkl'\n"
     ]
    }
   ],
   "source": [
    "from all_tests import mmdfuse_test\n",
    "from all_tests import mmd_median_test, mmd_split_test\n",
    "from all_tests import mmdagg_test, mmdagginc_test, deep_mmd_test\n",
    "from all_tests import met_test, scf_test\n",
    "from all_tests import ctt_test, actt_test\n",
    "from tests import c2st_tst"
   ]
  },
  {
   "cell_type": "code",
   "execution_count": 5,
   "id": "fb6c440b-f31b-4c41-afce-40a75363efb6",
   "metadata": {},
   "outputs": [],
   "source": [
    "# parameters\n",
    "N1 = 50\n",
    "img_size = 64\n",
    "batch_size = 100\n",
    "K = 5\n",
    "N = 10"
   ]
  },
  {
   "cell_type": "code",
   "execution_count": 6,
   "id": "1a377f5d-bffa-4649-9c1c-a62693293dec",
   "metadata": {
    "tags": []
   },
   "outputs": [
    {
     "name": "stdout",
     "output_type": "stream",
     "text": [
      "Files already downloaded and verified\n"
     ]
    }
   ],
   "source": [
    "# Load the CIFAR 10 data and CIFAR 10.1\n",
    "\n",
    "# Configure data loader\n",
    "dataset_test = datasets.CIFAR10(root='./cifar_data/cifar10', download=True,train=False,\n",
    "                           transform=transforms.Compose([\n",
    "                               transforms.Resize(img_size),\n",
    "                               transforms.ToTensor(),\n",
    "                               transforms.Normalize((0.5, 0.5, 0.5), (0.5, 0.5, 0.5)),\n",
    "                           ]))\n",
    "\n",
    "dataloader_test = torch.utils.data.DataLoader(dataset_test, batch_size=10000, shuffle=True, num_workers=1)\n",
    "\n",
    "# Obtain CIFAR10 images\n",
    "for i, (imgs, Labels) in enumerate(dataloader_test):\n",
    "    data_all = imgs\n",
    "    label_all = Labels\n",
    "Ind_all = np.arange(len(data_all))\n",
    "\n",
    "# Obtain CIFAR10.1 images\n",
    "data_new = np.load('./cifar_data/cifar10.1_v4_data.npy')\n",
    "data_T = np.transpose(data_new, [0,3,1,2])\n",
    "ind_M = np.random.choice(len(data_T), len(data_T), replace=False)\n",
    "data_T = data_T[ind_M]\n",
    "TT = transforms.Compose([transforms.Resize(img_size),transforms.ToTensor(),\n",
    "                               transforms.Normalize((0.5, 0.5, 0.5), (0.5, 0.5, 0.5))])\n",
    "trans = transforms.ToPILImage()\n",
    "data_trans = torch.zeros([len(data_T),3,img_size,img_size])\n",
    "data_T_tensor = torch.from_numpy(data_T)\n",
    "for i in range(len(data_T)):\n",
    "    d0 = trans(data_T_tensor[i])\n",
    "    data_trans[i] = TT(d0)\n",
    "Ind_v4_all = np.arange(len(data_T))"
   ]
  },
  {
   "cell_type": "code",
   "execution_count": 7,
   "id": "e6349524",
   "metadata": {},
   "outputs": [],
   "source": [
    "# Setting for C2ST\n",
    "device = 'cuda:0'\n",
    "dtype = torch.float \n",
    "lr = 0.001 \n",
    "n_epoch = 100\n",
    "alpha = 0.05"
   ]
  },
  {
   "cell_type": "markdown",
   "id": "72379a7f",
   "metadata": {},
   "source": [
    ", mmd_median_test, mmdagg_test, mmdagginc_test, ctt_test, actt_test, )"
   ]
  },
  {
   "cell_type": "code",
   "execution_count": 8,
   "id": "c3029ce2-541c-4d44-84f7-bcb9769c9e98",
   "metadata": {},
   "outputs": [
    {
     "data": {
      "application/vnd.jupyter.widget-view+json": {
       "model_id": "a6aa78c4ed924206938baabeb8905912",
       "version_major": 2,
       "version_minor": 0
      },
      "text/plain": [
       "Imbalance Ratio Loop:   0%|          | 0/6 [00:00<?, ?it/s]"
      ]
     },
     "metadata": {},
     "output_type": "display_data"
    },
    {
     "data": {
      "application/vnd.jupyter.widget-view+json": {
       "model_id": "a227d582842d4e5cbea14c22e21d7922",
       "version_major": 2,
       "version_minor": 0
      },
      "text/plain": [
       "Trail Loop(K):   0%|          | 0/5 [00:00<?, ?it/s]"
      ]
     },
     "metadata": {},
     "output_type": "display_data"
    },
    {
     "data": {
      "application/vnd.jupyter.widget-view+json": {
       "model_id": "3988cf69a0a142b8af42003ee3eb5277",
       "version_major": 2,
       "version_minor": 0
      },
      "text/plain": [
       "Test Loop(N):   0%|          | 0/10 [00:00<?, ?it/s]"
      ]
     },
     "metadata": {},
     "output_type": "display_data"
    },
    {
     "name": "stdout",
     "output_type": "stream",
     "text": [
      "<function c2st_tst at 0x7fa79bc39430>\n",
      "stats: -1.1494, tau0: 0.0104, tau1: 0.9924, accuracy: 0.7119495050925262\n",
      "<function c2st_tst at 0x7fa79bc39430>\n",
      "stats: -0.6685, tau0: 0.0092, tau1: 0.9924, accuracy: 0.7128102137426481\n",
      "<function c2st_tst at 0x7fa79bc39430>\n",
      "stats: -0.2846, tau0: 0.0172, tau1: 0.9838, accuracy: 0.7095108305838473\n",
      "<function c2st_tst at 0x7fa79bc39430>\n",
      "stats: -0.1322, tau0: 0.0074, tau1: 0.9929, accuracy: 0.713957825276144\n",
      "<function c2st_tst at 0x7fa79bc39430>\n",
      "stats: -1.0667, tau0: 0.0096, tau1: 0.9929, accuracy: 0.7123798594175872\n",
      "<function c2st_tst at 0x7fa79bc39430>\n",
      "stats: 0.7184, tau0: 0.006, tau1: 0.9924, accuracy: 0.7151054368096399\n",
      "<function c2st_tst at 0x7fa79bc39430>\n",
      "stats: -0.0136, tau0: 0.0112, tau1: 0.9888, accuracy: 0.7123798594175872\n",
      "<function c2st_tst at 0x7fa79bc39430>\n",
      "stats: 0.0524, tau0: 0.009, tau1: 0.9909, accuracy: 0.7133840195093961\n",
      "<function c2st_tst at 0x7fa79bc39430>\n",
      "stats: -1.6246, tau0: 0.011, tau1: 0.9929, accuracy: 0.7113756993257783\n",
      "<function c2st_tst at 0x7fa79bc39430>\n",
      "stats: -0.3385, tau0: 0.0068, tau1: 0.9939, accuracy: 0.714101276717831\n"
     ]
    },
    {
     "data": {
      "application/vnd.jupyter.widget-view+json": {
       "model_id": "9200591b2be146179bcc18cbd002fb65",
       "version_major": 2,
       "version_minor": 0
      },
      "text/plain": [
       "Test Loop(N):   0%|          | 0/10 [00:00<?, ?it/s]"
      ]
     },
     "metadata": {},
     "output_type": "display_data"
    },
    {
     "name": "stdout",
     "output_type": "stream",
     "text": [
      "<function c2st_tst at 0x7fa79bc39430>\n",
      "stats: 2.742, tau0: 0.0146, tau1: 0.9746, accuracy: 0.713957825276144\n",
      "<function c2st_tst at 0x7fa79bc39430>\n",
      "stats: 2.5754, tau0: 0.006, tau1: 0.9868, accuracy: 0.7166834026681969\n",
      "<function c2st_tst at 0x7fa79bc39430>\n",
      "stats: 1.141, tau0: 0.0068, tau1: 0.9904, accuracy: 0.7151054368096399\n",
      "<function c2st_tst at 0x7fa79bc39430>\n",
      "stats: 1.1548, tau0: 0.017, tau1: 0.9787, accuracy: 0.7110887964424042\n",
      "<function c2st_tst at 0x7fa79bc39430>\n",
      "stats: 2.8317, tau0: 0.004, tau1: 0.9888, accuracy: 0.7175441113183187\n",
      "<function c2st_tst at 0x7fa79bc39430>\n",
      "stats: 2.6083, tau0: 0.007, tau1: 0.9853, accuracy: 0.7163964997848228\n",
      "<function c2st_tst at 0x7fa79bc39430>\n",
      "stats: 2.1774, tau0: 0.0248, tau1: 0.965, accuracy: 0.7093673791421604\n",
      "<function c2st_tst at 0x7fa79bc39430>\n",
      "stats: 0.5151, tau0: 0.0088, tau1: 0.9899, accuracy: 0.713814373834457\n",
      "<function c2st_tst at 0x7fa79bc39430>\n",
      "stats: 3.241, tau0: 0.0166, tau1: 0.9696, accuracy: 0.713957825276144\n",
      "<function c2st_tst at 0x7fa79bc39430>\n",
      "stats: 1.2686, tau0: 0.0082, tau1: 0.9883, accuracy: 0.714675082484579\n"
     ]
    },
    {
     "data": {
      "application/vnd.jupyter.widget-view+json": {
       "model_id": "740080b71f7142c1b3b8bb243d5529f7",
       "version_major": 2,
       "version_minor": 0
      },
      "text/plain": [
       "Test Loop(N):   0%|          | 0/10 [00:00<?, ?it/s]"
      ]
     },
     "metadata": {},
     "output_type": "display_data"
    },
    {
     "name": "stdout",
     "output_type": "stream",
     "text": [
      "<function c2st_tst at 0x7fa79bc39430>\n",
      "stats: 0.868, tau0: 0.0048, tau1: 0.9934, accuracy: 0.7156792425763879\n",
      "<function c2st_tst at 0x7fa79bc39430>\n",
      "stats: 0.9422, tau0: 0.0038, tau1: 0.9944, accuracy: 0.7161095969014488\n",
      "<function c2st_tst at 0x7fa79bc39430>\n",
      "stats: 0.8316, tau0: 0.0062, tau1: 0.9919, accuracy: 0.7151054368096399\n",
      "<function c2st_tst at 0x7fa79bc39430>\n",
      "stats: 0.1403, tau0: 0.0058, tau1: 0.9939, accuracy: 0.7148185339262659\n",
      "<function c2st_tst at 0x7fa79bc39430>\n",
      "stats: 0.8318, tau0: 0.004, tau1: 0.9944, accuracy: 0.7159661454597619\n",
      "<function c2st_tst at 0x7fa79bc39430>\n",
      "stats: 1.3863, tau0: 0.0054, tau1: 0.9914, accuracy: 0.7158226940180749\n",
      "<function c2st_tst at 0x7fa79bc39430>\n",
      "stats: 0.5078, tau0: 0.0046, tau1: 0.9944, accuracy: 0.7155357911347009\n",
      "<function c2st_tst at 0x7fa79bc39430>\n",
      "stats: -1.0496, tau0: 0.0034, tau1: 0.998, accuracy: 0.715392339693014\n",
      "<function c2st_tst at 0x7fa79bc39430>\n",
      "stats: 0.4021, tau0: 0.0048, tau1: 0.9944, accuracy: 0.715392339693014\n",
      "<function c2st_tst at 0x7fa79bc39430>\n",
      "stats: 0.2976, tau0: 0.005, tau1: 0.9944, accuracy: 0.7152488882513269\n"
     ]
    },
    {
     "data": {
      "application/vnd.jupyter.widget-view+json": {
       "model_id": "e7a04daf31f34f98bf961c99611971a9",
       "version_major": 2,
       "version_minor": 0
      },
      "text/plain": [
       "Test Loop(N):   0%|          | 0/10 [00:00<?, ?it/s]"
      ]
     },
     "metadata": {},
     "output_type": "display_data"
    },
    {
     "name": "stdout",
     "output_type": "stream",
     "text": [
      "<function c2st_tst at 0x7fa79bc39430>\n",
      "stats: 0.3908, tau0: 0.0072, tau1: 0.9919, accuracy: 0.714388179601205\n",
      "<function c2st_tst at 0x7fa79bc39430>\n",
      "stats: 0.5358, tau0: 0.0064, tau1: 0.9924, accuracy: 0.7148185339262659\n",
      "<function c2st_tst at 0x7fa79bc39430>\n",
      "stats: -0.3642, tau0: 0.009, tau1: 0.9919, accuracy: 0.713097116626022\n",
      "<function c2st_tst at 0x7fa79bc39430>\n",
      "stats: 0.0914, tau0: 0.0074, tau1: 0.9924, accuracy: 0.714101276717831\n",
      "<function c2st_tst at 0x7fa79bc39430>\n",
      "stats: 0.376, tau0: 0.0058, tau1: 0.9934, accuracy: 0.714961985367953\n",
      "<function c2st_tst at 0x7fa79bc39430>\n",
      "stats: 0.1652, tau0: 0.0112, tau1: 0.9883, accuracy: 0.7125233108592741\n",
      "<function c2st_tst at 0x7fa79bc39430>\n",
      "stats: 0.599, tau0: 0.0058, tau1: 0.9929, accuracy: 0.7151054368096399\n",
      "<function c2st_tst at 0x7fa79bc39430>\n",
      "stats: -0.0433, tau0: 0.0072, tau1: 0.9929, accuracy: 0.714101276717831\n",
      "<function c2st_tst at 0x7fa79bc39430>\n",
      "stats: -0.4275, tau0: 0.0048, tau1: 0.9959, accuracy: 0.714961985367953\n",
      "<function c2st_tst at 0x7fa79bc39430>\n",
      "stats: -0.11, tau0: 0.0058, tau1: 0.9944, accuracy: 0.714675082484579\n"
     ]
    },
    {
     "data": {
      "application/vnd.jupyter.widget-view+json": {
       "model_id": "1bc36eeff5504b2a9bcee68997097b5f",
       "version_major": 2,
       "version_minor": 0
      },
      "text/plain": [
       "Test Loop(N):   0%|          | 0/10 [00:00<?, ?it/s]"
      ]
     },
     "metadata": {},
     "output_type": "display_data"
    },
    {
     "name": "stdout",
     "output_type": "stream",
     "text": [
      "<function c2st_tst at 0x7fa79bc39430>\n",
      "stats: 0.4384, tau0: 0.0052, tau1: 0.9939, accuracy: 0.7152488882513269\n",
      "<function c2st_tst at 0x7fa79bc39430>\n",
      "stats: 0.7455, tau0: 0.0046, tau1: 0.9939, accuracy: 0.7156792425763879\n",
      "<function c2st_tst at 0x7fa79bc39430>\n",
      "stats: -2.1121, tau0: 0.0042, tau1: 0.9985, accuracy: 0.714675082484579\n",
      "<function c2st_tst at 0x7fa79bc39430>\n",
      "stats: 1.0573, tau0: 0.007, tau1: 0.9904, accuracy: 0.714961985367953\n",
      "<function c2st_tst at 0x7fa79bc39430>\n",
      "stats: 0.2387, tau0: 0.0056, tau1: 0.9939, accuracy: 0.714961985367953\n",
      "<function c2st_tst at 0x7fa79bc39430>\n",
      "stats: 0.7184, tau0: 0.006, tau1: 0.9924, accuracy: 0.7151054368096399\n",
      "<function c2st_tst at 0x7fa79bc39430>\n",
      "stats: -0.4453, tau0: 0.0092, tau1: 0.9919, accuracy: 0.7129536651843351\n",
      "<function c2st_tst at 0x7fa79bc39430>\n",
      "stats: -0.11, tau0: 0.0058, tau1: 0.9944, accuracy: 0.714675082484579\n",
      "<function c2st_tst at 0x7fa79bc39430>\n",
      "stats: 0.8318, tau0: 0.004, tau1: 0.9944, accuracy: 0.7159661454597619\n",
      "<function c2st_tst at 0x7fa79bc39430>\n",
      "stats: -0.3142, tau0: 0.0046, tau1: 0.9959, accuracy: 0.7151054368096399\n"
     ]
    },
    {
     "data": {
      "application/vnd.jupyter.widget-view+json": {
       "model_id": "176b353b1d4d4672942af06d6c3c835f",
       "version_major": 2,
       "version_minor": 0
      },
      "text/plain": [
       "Trail Loop(K):   0%|          | 0/5 [00:00<?, ?it/s]"
      ]
     },
     "metadata": {},
     "output_type": "display_data"
    },
    {
     "data": {
      "application/vnd.jupyter.widget-view+json": {
       "model_id": "98d428d0635e48acb8f7455e8e6ae633",
       "version_major": 2,
       "version_minor": 0
      },
      "text/plain": [
       "Test Loop(N):   0%|          | 0/10 [00:00<?, ?it/s]"
      ]
     },
     "metadata": {},
     "output_type": "display_data"
    },
    {
     "name": "stdout",
     "output_type": "stream",
     "text": [
      "<function c2st_tst at 0x7fa79bc39430>\n",
      "stats: 0.7722, tau0: 0.0117, tau1: 0.9858, accuracy: 0.6373606287698775\n",
      "<function c2st_tst at 0x7fa79bc39430>\n",
      "stats: -0.5494, tau0: 0.0123, tau1: 0.9893, accuracy: 0.6357155912995796\n",
      "<function c2st_tst at 0x7fa79bc39430>\n",
      "stats: -0.3968, tau0: 0.0091, tau1: 0.9919, accuracy: 0.6368122829464449\n",
      "<function c2st_tst at 0x7fa79bc39430>\n",
      "stats: 1.0391, tau0: 0.01, tau1: 0.9868, accuracy: 0.6380917565344544\n",
      "<function c2st_tst at 0x7fa79bc39430>\n",
      "stats: 1.0231, tau0: 0.0123, tau1: 0.9843, accuracy: 0.6375434107110217\n",
      "<function c2st_tst at 0x7fa79bc39430>\n",
      "stats: 0.6299, tau0: 0.0103, tau1: 0.9878, accuracy: 0.6375434107110217\n",
      "<function c2st_tst at 0x7fa79bc39430>\n",
      "stats: 0.7124, tau0: 0.0194, tau1: 0.9777, accuracy: 0.6353500274172912\n",
      "<function c2st_tst at 0x7fa79bc39430>\n"
     ]
    }
   ],
   "source": [
    "# Run experiment\n",
    "save = True\n",
    "seed = 0\n",
    "key = random.PRNGKey(42)\n",
    "imbalance_ratios = (100, 70, 50, 30, 10, 1)\n",
    "tests = [c2st_tst]\n",
    "\n",
    "outputs = jnp.zeros((len(tests), len(imbalance_ratios), K, N))\n",
    "outputs = outputs.tolist()\n",
    "\n",
    "for ir in tqdm(range(len(imbalance_ratios)), desc=\"Imbalance Ratio Loop\"):\n",
    "    N2 = N1 * imbalance_ratios[ir]\n",
    "    # n_epoch = imbalance_ratios[ir]\n",
    "    # if n_epoch >= 25:\n",
    "    #     n_epoch = 25\n",
    "    for kk in tqdm(range(K), desc=\"Trail Loop(K)\", leave=False):\n",
    "        torch.manual_seed(kk * 19 + N1 + N2)\n",
    "        torch.cuda.manual_seed(kk * 19 + N1 + N2)\n",
    "        np.random.seed(seed=1102 * (kk + 10) + N1 + N2)\n",
    "\n",
    "        # Collect CIFAR10 images\n",
    "        Ind_tr = np.random.choice(len(data_all), N2, replace=False)\n",
    "        Ind_te = np.delete(Ind_all, Ind_tr)\n",
    "        train_data = []\n",
    "        for i in Ind_tr:\n",
    "            train_data.append([data_all[i], label_all[i]])\n",
    "\n",
    "        dataloader = torch.utils.data.DataLoader(\n",
    "            train_data,\n",
    "            batch_size=batch_size,\n",
    "            shuffle=True,\n",
    "        )\n",
    "\n",
    "        # Collect CIFAR10.1 images\n",
    "        np.random.seed(seed=819 * (kk + 9) + N1)\n",
    "        Ind_tr_v4 = np.random.choice(len(data_T), N1, replace=False)\n",
    "        Ind_te_v4 = np.delete(Ind_v4_all, Ind_tr_v4)\n",
    "        New_CIFAR_tr = data_trans[Ind_tr_v4]\n",
    "        New_CIFAR_te = data_trans[Ind_te_v4]\n",
    "        \n",
    "        # Run two-sample test on the training set\n",
    "        # Fetch training data\n",
    "        s1_tr = data_all[Ind_tr]\n",
    "        s2_tr = data_trans[Ind_tr_v4]\n",
    "        \n",
    "        for k in tqdm(range(N), desc=\"Test Loop(N)\", leave=False):\n",
    "            # Fetch test data\n",
    "            np.random.seed(seed=1102 * (k + 1) + N1 + N2)\n",
    "            data_all_te = data_all[Ind_te]\n",
    "            # N_te = len(data_trans) - N1\n",
    "            N_te = N2\n",
    "            Ind_N_te = np.random.choice(len(Ind_te), N_te, replace=False)\n",
    "            s1_te = data_all_te[Ind_N_te]\n",
    "            s2_te = data_trans[Ind_te_v4]\n",
    "  \n",
    "            # concatenate the split data\n",
    "            X = jnp.array(torch.cat((s1_tr, s1_te)))\n",
    "            Y = jnp.array(torch.cat((s2_tr, s2_te)))\n",
    "\n",
    "            seed += 1\n",
    "            key, subkey = random.split(key)\n",
    "            for t in range(len(tests)):\n",
    "                test = tests[t]\n",
    "                print(str(test))\n",
    "                if test == c2st_tst:\n",
    "                    model = MyModel(in_channels=3, img_size = 64, device=device, dtype=dtype)\n",
    "                    outputs[t][ir][kk][k] = c2st_tst(s1_tr, s2_tr, s1_te, s2_te, model, alpha, lr, n_epoch, seed, \n",
    "                                    loss_fn=model.smooth_objective, device=device)\n",
    "                    \n",
    "                elif test == mmdagginc_test:\n",
    "                    X = X.reshape(X.shape[0], -1)  # This will reshape X to have two dimensions\n",
    "                    Y = Y.reshape(Y.shape[0], -1)  # Similarly for Y\n",
    "                    outputs[t][ir][kk][k] = test(X, Y, subkey, seed)\n",
    "                    \n",
    "                else:\n",
    "                    outputs[t][ir][kk][k] = test(X, Y, subkey, seed)\n",
    "\n",
    "\n",
    "output = jnp.mean(jnp.array(outputs), -1)\n",
    "\n",
    "if save:\n",
    "    jnp.save(f\"results/cifarN{N1}.npy\", output)\n",
    "\n",
    "for t in range(len(tests)):\n",
    "    print(\" \")\n",
    "    print(tests[t])\n",
    "    print(output[t])"
   ]
  },
  {
   "cell_type": "markdown",
   "id": "c12db38b-056a-40a5-bff8-2d999099c916",
   "metadata": {
    "tags": []
   },
   "source": [
    "# Environment autogluon-env"
   ]
  },
  {
   "cell_type": "code",
   "execution_count": null,
   "id": "dadd70ba-9f02-4df6-af91-ec32e9155051",
   "metadata": {
    "tags": []
   },
   "outputs": [],
   "source": [
    "import numpy as np\n",
    "import torchvision.transforms as transforms\n",
    "from torch.utils.data import DataLoader\n",
    "from torchvision import datasets\n",
    "import torch\n",
    "from jax import random\n",
    "import jax.numpy as jnp\n",
    "from tqdm.auto import tqdm\n",
    "from pathlib import Path\n",
    "Path(\"results\").mkdir(exist_ok=True)"
   ]
  },
  {
   "cell_type": "code",
   "execution_count": null,
   "id": "ee938688-9ed5-4679-93b2-a9a2c1818b22",
   "metadata": {
    "tags": []
   },
   "outputs": [
    {
     "ename": "ModuleNotFoundError",
     "evalue": "No module named 'autotst'",
     "output_type": "error",
     "traceback": [
      "\u001b[0;31m---------------------------------------------------------------------------\u001b[0m",
      "\u001b[0;31mModuleNotFoundError\u001b[0m                       Traceback (most recent call last)",
      "\u001b[1;32m/home/oldrain123/C2ST/experiment_cifar2.ipynb 셀 14\u001b[0m line \u001b[0;36m1\n\u001b[0;32m----> <a href='vscode-notebook-cell://ssh-remote%2B165.132.79.140/home/oldrain123/C2ST/experiment_cifar2.ipynb#X16sdnNjb2RlLXJlbW90ZQ%3D%3D?line=0'>1</a>\u001b[0m \u001b[39mimport\u001b[39;00m \u001b[39mautotst\u001b[39;00m\n\u001b[1;32m      <a href='vscode-notebook-cell://ssh-remote%2B165.132.79.140/home/oldrain123/C2ST/experiment_cifar2.ipynb#X16sdnNjb2RlLXJlbW90ZQ%3D%3D?line=1'>2</a>\u001b[0m \u001b[39mfrom\u001b[39;00m \u001b[39mutils\u001b[39;00m \u001b[39mimport\u001b[39;00m HiddenPrints\n\u001b[1;32m      <a href='vscode-notebook-cell://ssh-remote%2B165.132.79.140/home/oldrain123/C2ST/experiment_cifar2.ipynb#X16sdnNjb2RlLXJlbW90ZQ%3D%3D?line=3'>4</a>\u001b[0m \u001b[39mdef\u001b[39;00m \u001b[39mautotst_test\u001b[39m(X, Y, key, seed, time\u001b[39m=\u001b[39m\u001b[39m60\u001b[39m):\n",
      "\u001b[0;31mModuleNotFoundError\u001b[0m: No module named 'autotst'"
     ]
    }
   ],
   "source": [
    "import autotst\n",
    "from utils import HiddenPrints\n",
    "\n",
    "def autotst_test(X, Y, key, seed, time=60):\n",
    "    with HiddenPrints():\n",
    "        tst = autotst.AutoTST(X, Y, split_ratio=0.5, model=autotst.model.AutoGluonTabularPredictor)\n",
    "        tst.split_data()\n",
    "        tst.fit_witness(time_limit=time)  # time limit adjustable to your needs (in seconds)\n",
    "        p_value = tst.p_value_evaluate(permutations=10000)  # control number of permutations in the estimation\n",
    "    return int(p_value <= 0.05)"
   ]
  },
  {
   "cell_type": "code",
   "execution_count": null,
   "id": "132f51b8-dde2-4392-ab00-a8306f35692f",
   "metadata": {},
   "outputs": [],
   "source": [
    "# parameters\n",
    "N1 = 1000\n",
    "img_size = 64\n",
    "batch_size = 100\n",
    "K = 10\n",
    "N = 100"
   ]
  },
  {
   "cell_type": "code",
   "execution_count": null,
   "id": "5d896a9d-b079-439a-a51b-c5ffce6aa95a",
   "metadata": {
    "tags": []
   },
   "outputs": [],
   "source": [
    "# Load the CIFAR 10 data and CIFAR 10.1\n",
    "\n",
    "# Configure data loader\n",
    "dataset_test = datasets.CIFAR10(root='./cifar_data/cifar10', download=True,train=False,\n",
    "                           transform=transforms.Compose([\n",
    "                               transforms.Resize(img_size),\n",
    "                               transforms.ToTensor(),\n",
    "                               transforms.Normalize((0.5, 0.5, 0.5), (0.5, 0.5, 0.5)),\n",
    "                           ]))\n",
    "\n",
    "dataloader_test = torch.utils.data.DataLoader(dataset_test, batch_size=10000, shuffle=True, num_workers=1)\n",
    "\n",
    "# Obtain CIFAR10 images\n",
    "for i, (imgs, Labels) in enumerate(dataloader_test):\n",
    "    data_all = imgs\n",
    "    label_all = Labels\n",
    "Ind_all = np.arange(len(data_all))\n",
    "\n",
    "# Obtain CIFAR10.1 images\n",
    "data_new = np.load('./cifar_data/cifar10.1_v4_data.npy')\n",
    "data_T = np.transpose(data_new, [0,3,1,2])\n",
    "ind_M = np.random.choice(len(data_T), len(data_T), replace=False)\n",
    "data_T = data_T[ind_M]\n",
    "TT = transforms.Compose([transforms.Resize(img_size),transforms.ToTensor(),\n",
    "                               transforms.Normalize((0.5, 0.5, 0.5), (0.5, 0.5, 0.5))])\n",
    "trans = transforms.ToPILImage()\n",
    "data_trans = torch.zeros([len(data_T),3,img_size,img_size])\n",
    "data_T_tensor = torch.from_numpy(data_T)\n",
    "for i in range(len(data_T)):\n",
    "    d0 = trans(data_T_tensor[i])\n",
    "    data_trans[i] = TT(d0)\n",
    "Ind_v4_all = np.arange(len(data_T))"
   ]
  },
  {
   "cell_type": "code",
   "execution_count": null,
   "id": "1a7e673e-0ac4-42ea-b30d-358bf082a519",
   "metadata": {},
   "outputs": [],
   "source": [
    "# Run experiment\n",
    "\n",
    "seed = 0\n",
    "key = random.PRNGKey(42)\n",
    "\n",
    "tests = (autotst_test, )\n",
    "\n",
    "outputs = [[] for _ in range(len(tests))]\n",
    "for kk in tqdm(range(K)):\n",
    "    torch.manual_seed(kk * 19 + N1)\n",
    "    torch.cuda.manual_seed(kk * 19 + N1)\n",
    "    np.random.seed(seed=1102 * (kk + 10) + N1)\n",
    "\n",
    "    # Collect CIFAR10 images\n",
    "    Ind_tr = np.random.choice(len(data_all), N1, replace=False)\n",
    "    Ind_te = np.delete(Ind_all, Ind_tr)\n",
    "    train_data = []\n",
    "    for i in Ind_tr:\n",
    "        train_data.append([data_all[i], label_all[i]])\n",
    "\n",
    "    dataloader = torch.utils.data.DataLoader(\n",
    "        train_data,\n",
    "        batch_size=batch_size,\n",
    "        shuffle=True,\n",
    "    )\n",
    "\n",
    "    # Collect CIFAR10.1 images\n",
    "    np.random.seed(seed=819 * (kk + 9) + N1)\n",
    "    Ind_tr_v4 = np.random.choice(len(data_T), N1, replace=False)\n",
    "    Ind_te_v4 = np.delete(Ind_v4_all, Ind_tr_v4)\n",
    "    New_CIFAR_tr = data_trans[Ind_tr_v4]\n",
    "    New_CIFAR_te = data_trans[Ind_te_v4]\n",
    "    \n",
    "    # Run two-sample test on the training set\n",
    "    # Fetch training data\n",
    "    s1_tr = data_all[Ind_tr]\n",
    "    s2_tr = data_trans[Ind_tr_v4]\n",
    "    \n",
    "    for k in tqdm(range(N)):\n",
    "        # Fetch test data\n",
    "        np.random.seed(seed=1102 * (k + 1) + N1)\n",
    "        data_all_te = data_all[Ind_te]\n",
    "        N_te = len(data_trans) - N1\n",
    "        Ind_N_te = np.random.choice(len(Ind_te), N_te, replace=False)\n",
    "        s1_te = data_all_te[Ind_N_te]\n",
    "        s2_te = data_trans[Ind_te_v4]\n",
    "        \n",
    "        # MMD-FUSE & MMDAgg do not split the data\n",
    "        s1_tr = jnp.array(s1_tr)\n",
    "        s1_te = jnp.array(s1_te)\n",
    "        s2_tr = jnp.array(s2_tr)\n",
    "        s2_te = jnp.array(s2_te)\n",
    "        \n",
    "        # concatenate the split data\n",
    "        X = jnp.concatenate((s1_tr, s1_te))\n",
    "        Y = jnp.concatenate((s2_tr, s2_te))\n",
    "        \n",
    "        seed += 1\n",
    "        key, subkey = random.split(key)\n",
    "        for t in range(len(tests)):\n",
    "            test = tests[t]\n",
    "            outputs[t].append(client.submit(test, X, Y, subkey, seed))\n",
    "\n",
    "output = jnp.mean(jnp.array(outputs), -1)\n",
    "\n",
    "jnp.save(\"results/cifar_autotst.npy\", output)\n",
    "\n",
    "for t in range(len(tests)):\n",
    "    print(\" \")\n",
    "    print(tests[t])\n",
    "    print(output[t])"
   ]
  }
 ],
 "metadata": {
  "kernelspec": {
   "display_name": "Python 3 (ipykernel)",
   "language": "python",
   "name": "python3"
  },
  "language_info": {
   "codemirror_mode": {
    "name": "ipython",
    "version": 3
   },
   "file_extension": ".py",
   "mimetype": "text/x-python",
   "name": "python",
   "nbconvert_exporter": "python",
   "pygments_lexer": "ipython3",
   "version": "3.9.18"
  }
 },
 "nbformat": 4,
 "nbformat_minor": 5
}
