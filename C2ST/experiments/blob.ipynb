{
 "cells": [
  {
   "cell_type": "code",
   "execution_count": 1,
   "metadata": {},
   "outputs": [],
   "source": [
    "%load_ext autoreload \n",
    "%autoreload 2"
   ]
  },
  {
   "cell_type": "code",
   "execution_count": 2,
   "metadata": {},
   "outputs": [
    {
     "name": "stderr",
     "output_type": "stream",
     "text": [
      "/home/oldrain123/miniconda3/envs/mmdenv/lib/python3.9/site-packages/tqdm/auto.py:22: TqdmWarning: IProgress not found. Please update jupyter and ipywidgets. See https://ipywidgets.readthedocs.io/en/stable/user_install.html\n",
      "  from .autonotebook import tqdm as notebook_tqdm\n"
     ]
    }
   ],
   "source": [
    "import jax\n",
    "import jax.numpy as jnp\n",
    "import jax.random as random\n",
    "from utils import MMDVar, compute_mmd_sq, compute_K_matrices, h1_mean_var_gram, MMDu_var\n",
    "import matplotlib.pyplot as plt\n",
    "import json\n",
    "from tqdm.auto import tqdm"
   ]
  },
  {
   "cell_type": "code",
   "execution_count": 3,
   "metadata": {},
   "outputs": [],
   "source": [
    "import os\n",
    "\n",
    "os.environ[\"CUDA_VISIBLE_DEVICES\"] = \"4\""
   ]
  },
  {
   "cell_type": "code",
   "execution_count": 4,
   "metadata": {},
   "outputs": [],
   "source": [
    "def sample_blobs_Q(N1, sigma_mx_2, rows=3, cols=3, key=None):\n",
    "    \"\"\"Generate Blob-D for testing type-II error (or test power).\"\"\"\n",
    "    if key is None:\n",
    "        key = random.PRNGKey(0)\n",
    "    \n",
    "    mu = jnp.zeros(2)\n",
    "    sigma = jnp.eye(2) * 0.03\n",
    "    \n",
    "    key, subkey1, subkey2, subkey3, subkey4 = random.split(key, 5)\n",
    "    \n",
    "    X = random.multivariate_normal(subkey1, mean=mu, cov=sigma, shape=(N1,))\n",
    "    Y = random.multivariate_normal(subkey2, mean=mu, cov=jnp.eye(2), shape=(N1,))\n",
    "    \n",
    "    X = X.at[:, 0].add(random.randint(subkey3, (N1,), 0, rows))\n",
    "    X = X.at[:, 1].add(random.randint(subkey4, (N1,), 0, cols))\n",
    "    \n",
    "    key, subkey5, subkey6 = random.split(key, 3)\n",
    "    Y_row = random.randint(subkey5, (N1,), 0, rows)\n",
    "    Y_col = random.randint(subkey6, (N1,), 0, cols)\n",
    "    \n",
    "    locs = jnp.array([[0,0],[0,1],[0,2],[1,0],[1,1],[1,2],[2,0],[2,1],[2,2]])\n",
    "    \n",
    "    for i in range(9):\n",
    "        corr_sigma = sigma_mx_2[i]\n",
    "        L = jnp.linalg.cholesky(corr_sigma)\n",
    "        ind = jnp.expand_dims((Y_row == locs[i][0]) & (Y_col == locs[i][1]), 1)\n",
    "        ind2 = jnp.concatenate((ind, ind), 1)\n",
    "        Y = jnp.where(ind2, jnp.matmul(Y,L) + locs[i], Y)\n",
    "    \n",
    "    return X, Y"
   ]
  },
  {
   "cell_type": "code",
   "execution_count": 5,
   "metadata": {},
   "outputs": [],
   "source": [
    "# Generate variance and co-variance matrix of Q\n",
    "sigma_mx_2_standard = jnp.array([[0.03, 0], [0, 0.03]])\n",
    "sigma_mx_2 = jnp.zeros((9, 2, 2))\n",
    "for i in range(9):\n",
    "    sigma_mx_2 = sigma_mx_2.at[i].set(sigma_mx_2_standard)\n",
    "    if i < 4:\n",
    "        sigma_mx_2 = sigma_mx_2.at[i, 0, 1].set(-0.02 - 0.002 * i)\n",
    "        sigma_mx_2 = sigma_mx_2.at[i, 1, 0].set(-0.02 - 0.002 * i)\n",
    "    if i == 4:\n",
    "        sigma_mx_2 = sigma_mx_2.at[i, 0, 1].set(0.00)\n",
    "        sigma_mx_2 = sigma_mx_2.at[i, 1, 0].set(0.00)\n",
    "    if i > 4:\n",
    "        sigma_mx_2 = sigma_mx_2.at[i, 1, 0].set(0.02 + 0.002 * (i - 5))\n",
    "        sigma_mx_2 = sigma_mx_2.at[i, 0, 1].set(0.02 + 0.002 * (i - 5))"
   ]
  },
  {
   "cell_type": "code",
   "execution_count": null,
   "metadata": {},
   "outputs": [],
   "source": [
    "def simulate_mmd(sigma_mx_2, ratio, num_samples, sigma0):\n",
    "    mmd_samples = jnp.zeros(100)\n",
    "    full_vars, complete_vars, incomplete_vars = [], [], []\n",
    "\n",
    "    key = random.PRNGKey(42) # Set random seed\n",
    "    for i in range(100):\n",
    "        key, subkey = random.split(key)\n",
    "        \n",
    "        # Use the sample_blobs_Q function to generate your datasets\n",
    "        X, Y = sample_blobs_Q(num_samples * ratio, sigma_mx_2, key=subkey)\n",
    "\n",
    "        Kxx, Kyy, Kxy = compute_K_matrices(X, Y, sigma0)\n",
    "        mmd_value = compute_mmd_sq(Kxx, Kyy, Kxy, len(X), len(Y))\n",
    "        mmd_samples = mmd_samples.at[i].set(mmd_value)\n",
    "\n",
    "        full_vars.append(MMDVar(X, Y, sigma0))\n",
    "        complete_vars.append(MMDVar(X, Y, sigma0, complete=False))\n",
    "        incomplete_vars.append(h1_mean_var_gram(Kxx, Kyy, Kxy, is_var_computed=True, use_1sample_U=True)[1])\n",
    "\n",
    "    return mmd_samples, full_vars, complete_vars, incomplete_vars"
   ]
  },
  {
   "cell_type": "code",
   "execution_count": 7,
   "metadata": {},
   "outputs": [],
   "source": [
    "# ratios = jnp.array([1, 2, 3, 4, 5])  \n",
    "# num_samples = 10 \n",
    "# results = {}\n",
    "# print(\"Running...\")\n",
    "# for ratio in tqdm(ratios):\n",
    "#     N1 = num_samples * ratio * 9\n",
    "#     # Use the sample_blobs_Q function to generate your datasets\n",
    "#     X, Y = sample_blobs_Q(N1, sigma_mx_2)\n",
    "#     mmd_samples, full_vars, complete_vars, incomplete_vars = simulate_mmd(sigma_mx_2, ratio, N1, sigma0=1.0)\n",
    "#     true_variance = jnp.var(mmd_samples, ddof=1)\n",
    "#     results[str(ratio)] = {\n",
    "#             'MMDu': jnp.mean(jnp.array(mmd_samples)),\n",
    "#             'true_variance': true_variance,\n",
    "#             'full_variance_estimate': jnp.mean(jnp.array(full_vars)),\n",
    "#             'complete_variance_estimate': jnp.mean(jnp.array(complete_vars)),\n",
    "#             'incomplete_variance_estimate': jnp.mean(jnp.array(incomplete_vars))\n",
    "#         }\n",
    "\n",
    "# for ratio, vals in results.items():\n",
    "#     print(f\"Ratio: {ratio}\")\n",
    "#     print(f\"MMDu: {vals['MMDu']}\")\n",
    "#     print(f\"True Variance of MMD: {vals['true_variance']}\")\n",
    "#     print(f\"Full Variance Estimate (Ours 8): {vals['full_variance_estimate']}\")\n",
    "#     print(f\"Complete Variance Estimate (Ours 2): {vals['complete_variance_estimate']}\")\n",
    "#     print(f\"Incomplete Variance Estimate (Liu et al. 2): {vals['incomplete_variance_estimate']}\")\n",
    "#     print(\"-----\"*10)"
   ]
  },
  {
   "cell_type": "code",
   "execution_count": 9,
   "metadata": {},
   "outputs": [
    {
     "name": "stdout",
     "output_type": "stream",
     "text": [
      "Running...\n"
     ]
    },
    {
     "name": "stderr",
     "output_type": "stream",
     "text": [
      "  0%|          | 0/5 [00:00<?, ?it/s]"
     ]
    },
    {
     "name": "stderr",
     "output_type": "stream",
     "text": [
      " 20%|██        | 1/5 [03:14<12:58, 194.70s/it]"
     ]
    },
    {
     "name": "stdout",
     "output_type": "stream",
     "text": [
      "{'MMDu': Array(9.19976127e-05, dtype=float64), 'true_variance': Array(6.87780158e-07, dtype=float64), 'full_variance_estimate': Array(2.41551235e-06, dtype=float64), 'complete_variance_estimate': Array(1.27157332e-06, dtype=float64), 'incomplete_variance_estimate': Array(1.28013743e-06, dtype=float64)}\n"
     ]
    },
    {
     "name": "stderr",
     "output_type": "stream",
     "text": [
      " 20%|██        | 1/5 [13:40<54:41, 820.42s/it]\n"
     ]
    },
    {
     "ename": "KeyboardInterrupt",
     "evalue": "",
     "output_type": "error",
     "traceback": [
      "\u001b[0;31m---------------------------------------------------------------------------\u001b[0m",
      "\u001b[0;31mKeyboardInterrupt\u001b[0m                         Traceback (most recent call last)",
      "\u001b[1;32m/home/oldrain123/C2ST/blob.ipynb 셀 8\u001b[0m line \u001b[0;36m2\n\u001b[1;32m     <a href='vscode-notebook-cell://ssh-remote%2B165.132.79.140/home/oldrain123/C2ST/blob.ipynb#X10sdnNjb2RlLXJlbW90ZQ%3D%3D?line=25'>26</a>\u001b[0m X \u001b[39m=\u001b[39m sample_mixture_of_gaussians(N1, key1)\n\u001b[1;32m     <a href='vscode-notebook-cell://ssh-remote%2B165.132.79.140/home/oldrain123/C2ST/blob.ipynb#X10sdnNjb2RlLXJlbW90ZQ%3D%3D?line=26'>27</a>\u001b[0m Y \u001b[39m=\u001b[39m sample_exponential_shift(N1, key2)\n\u001b[0;32m---> <a href='vscode-notebook-cell://ssh-remote%2B165.132.79.140/home/oldrain123/C2ST/blob.ipynb#X10sdnNjb2RlLXJlbW90ZQ%3D%3D?line=28'>29</a>\u001b[0m mmd_samples, full_vars, complete_vars, incomplete_vars \u001b[39m=\u001b[39m simulate_mmd(sigma_mx_2, ratio, N1, sigma0\u001b[39m=\u001b[39;49m\u001b[39m1.0\u001b[39;49m)\n\u001b[1;32m     <a href='vscode-notebook-cell://ssh-remote%2B165.132.79.140/home/oldrain123/C2ST/blob.ipynb#X10sdnNjb2RlLXJlbW90ZQ%3D%3D?line=29'>30</a>\u001b[0m true_variance \u001b[39m=\u001b[39m jnp\u001b[39m.\u001b[39mvar(mmd_samples, ddof\u001b[39m=\u001b[39m\u001b[39m1\u001b[39m)\n\u001b[1;32m     <a href='vscode-notebook-cell://ssh-remote%2B165.132.79.140/home/oldrain123/C2ST/blob.ipynb#X10sdnNjb2RlLXJlbW90ZQ%3D%3D?line=30'>31</a>\u001b[0m results[\u001b[39mstr\u001b[39m(ratio)] \u001b[39m=\u001b[39m {\n\u001b[1;32m     <a href='vscode-notebook-cell://ssh-remote%2B165.132.79.140/home/oldrain123/C2ST/blob.ipynb#X10sdnNjb2RlLXJlbW90ZQ%3D%3D?line=31'>32</a>\u001b[0m         \u001b[39m'\u001b[39m\u001b[39mMMDu\u001b[39m\u001b[39m'\u001b[39m: jnp\u001b[39m.\u001b[39mmean(jnp\u001b[39m.\u001b[39marray(mmd_samples)),\n\u001b[1;32m     <a href='vscode-notebook-cell://ssh-remote%2B165.132.79.140/home/oldrain123/C2ST/blob.ipynb#X10sdnNjb2RlLXJlbW90ZQ%3D%3D?line=32'>33</a>\u001b[0m         \u001b[39m'\u001b[39m\u001b[39mtrue_variance\u001b[39m\u001b[39m'\u001b[39m: true_variance,\n\u001b[0;32m   (...)\u001b[0m\n\u001b[1;32m     <a href='vscode-notebook-cell://ssh-remote%2B165.132.79.140/home/oldrain123/C2ST/blob.ipynb#X10sdnNjb2RlLXJlbW90ZQ%3D%3D?line=35'>36</a>\u001b[0m         \u001b[39m'\u001b[39m\u001b[39mincomplete_variance_estimate\u001b[39m\u001b[39m'\u001b[39m: jnp\u001b[39m.\u001b[39mmean(jnp\u001b[39m.\u001b[39marray(incomplete_vars))\n\u001b[1;32m     <a href='vscode-notebook-cell://ssh-remote%2B165.132.79.140/home/oldrain123/C2ST/blob.ipynb#X10sdnNjb2RlLXJlbW90ZQ%3D%3D?line=36'>37</a>\u001b[0m     }\n",
      "\u001b[1;32m/home/oldrain123/C2ST/blob.ipynb 셀 8\u001b[0m line \u001b[0;36m1\n\u001b[1;32m     <a href='vscode-notebook-cell://ssh-remote%2B165.132.79.140/home/oldrain123/C2ST/blob.ipynb#X10sdnNjb2RlLXJlbW90ZQ%3D%3D?line=12'>13</a>\u001b[0m mmd_value \u001b[39m=\u001b[39m compute_mmd_sq(Kxx, Kyy, Kxy, \u001b[39mlen\u001b[39m(X), \u001b[39mlen\u001b[39m(Y))\n\u001b[1;32m     <a href='vscode-notebook-cell://ssh-remote%2B165.132.79.140/home/oldrain123/C2ST/blob.ipynb#X10sdnNjb2RlLXJlbW90ZQ%3D%3D?line=13'>14</a>\u001b[0m mmd_samples \u001b[39m=\u001b[39m mmd_samples\u001b[39m.\u001b[39mat[i]\u001b[39m.\u001b[39mset(mmd_value)\n\u001b[0;32m---> <a href='vscode-notebook-cell://ssh-remote%2B165.132.79.140/home/oldrain123/C2ST/blob.ipynb#X10sdnNjb2RlLXJlbW90ZQ%3D%3D?line=15'>16</a>\u001b[0m full_vars\u001b[39m.\u001b[39mappend(MMDVar(X, Y, sigma0))\n\u001b[1;32m     <a href='vscode-notebook-cell://ssh-remote%2B165.132.79.140/home/oldrain123/C2ST/blob.ipynb#X10sdnNjb2RlLXJlbW90ZQ%3D%3D?line=16'>17</a>\u001b[0m complete_vars\u001b[39m.\u001b[39mappend(MMDVar(X, Y, sigma0, complete\u001b[39m=\u001b[39m\u001b[39mFalse\u001b[39;00m))\n\u001b[1;32m     <a href='vscode-notebook-cell://ssh-remote%2B165.132.79.140/home/oldrain123/C2ST/blob.ipynb#X10sdnNjb2RlLXJlbW90ZQ%3D%3D?line=17'>18</a>\u001b[0m incomplete_vars\u001b[39m.\u001b[39mappend(h1_mean_var_gram(Kxx, Kyy, Kxy, is_var_computed\u001b[39m=\u001b[39m\u001b[39mTrue\u001b[39;00m, use_1sample_U\u001b[39m=\u001b[39m\u001b[39mTrue\u001b[39;00m)[\u001b[39m1\u001b[39m])\n",
      "File \u001b[0;32m~/C2ST/utils.py:199\u001b[0m, in \u001b[0;36mMMDVar\u001b[0;34m(X, Y, sigma0, complete)\u001b[0m\n\u001b[1;32m    197\u001b[0m mmd_sq \u001b[39m=\u001b[39m Vstat_MMD(Kxx, Kyy, Kxy, m, n)\n\u001b[1;32m    198\u001b[0m C \u001b[39m=\u001b[39m compute_moments(Kxx, Kyy, Kxy)\n\u001b[0;32m--> 199\u001b[0m Xi \u001b[39m=\u001b[39m compute_Xi_values(C, m, n, mmd_sq, complete)\n\u001b[1;32m    200\u001b[0m \u001b[39m# print(Xi)\u001b[39;00m\n\u001b[1;32m    201\u001b[0m var \u001b[39m=\u001b[39m compute_var(Xi, m, n, complete)\n",
      "File \u001b[0;32m~/C2ST/utils.py:110\u001b[0m, in \u001b[0;36mcompute_Xi_values\u001b[0;34m(C, m, n, mmd_sq, complete)\u001b[0m\n\u001b[1;32m    105\u001b[0m     xi_value \u001b[39m=\u001b[39m jnp\u001b[39m.\u001b[39mexp(log_numerator \u001b[39m-\u001b[39m log_denominator)\n\u001b[1;32m    106\u001b[0m     \u001b[39mreturn\u001b[39;00m xi_value \u001b[39m-\u001b[39m mmd2\n\u001b[1;32m    108\u001b[0m Xi \u001b[39m=\u001b[39m [\n\u001b[1;32m    109\u001b[0m     \u001b[39m# xi_01\u001b[39;00m\n\u001b[0;32m--> 110\u001b[0m     calc_xi([n3 \u001b[39m*\u001b[39m C[\u001b[39m3\u001b[39m], \u001b[39m2\u001b[39;49m \u001b[39m*\u001b[39;49m m2 \u001b[39m*\u001b[39;49m n1 \u001b[39m*\u001b[39;49m C[\u001b[39m4\u001b[39;49m], \u001b[39m-\u001b[39m\u001b[39m4\u001b[39m \u001b[39m*\u001b[39m m1 \u001b[39m*\u001b[39m n2 \u001b[39m*\u001b[39m C[\u001b[39m6\u001b[39m], \u001b[39m-\u001b[39m\u001b[39m2\u001b[39m \u001b[39m*\u001b[39m m3 \u001b[39m*\u001b[39m n1 \u001b[39m*\u001b[39m C[\u001b[39m7\u001b[39m], \u001b[39m-\u001b[39m\u001b[39m2\u001b[39m \u001b[39m*\u001b[39m m3 \u001b[39m*\u001b[39m C[\u001b[39m8\u001b[39m], m2 \u001b[39m*\u001b[39m n2 \u001b[39m*\u001b[39m C[\u001b[39m11\u001b[39m], \n\u001b[1;32m    111\u001b[0m              \u001b[39m3\u001b[39m \u001b[39m*\u001b[39m m2 \u001b[39m*\u001b[39m n1 \u001b[39m*\u001b[39m C[\u001b[39m12\u001b[39m], m4 \u001b[39m*\u001b[39m C[\u001b[39m14\u001b[39m]], [\u001b[39m4\u001b[39m, \u001b[39m3\u001b[39m]),\n\u001b[1;32m    112\u001b[0m     \n\u001b[1;32m    113\u001b[0m     \u001b[39m# xi_02\u001b[39;00m\n\u001b[1;32m    114\u001b[0m     calc_xi([n2 \u001b[39m*\u001b[39m C[\u001b[39m3\u001b[39m], \u001b[39m2\u001b[39m \u001b[39m*\u001b[39m m2 \u001b[39m*\u001b[39m C[\u001b[39m4\u001b[39m], \u001b[39m-\u001b[39m\u001b[39m4\u001b[39m \u001b[39m*\u001b[39m m1 \u001b[39m*\u001b[39m n1 \u001b[39m*\u001b[39m C[\u001b[39m6\u001b[39m], \u001b[39m-\u001b[39m\u001b[39m4\u001b[39m \u001b[39m*\u001b[39m m3 \u001b[39m*\u001b[39m C[\u001b[39m7\u001b[39m], \u001b[39m2\u001b[39m \u001b[39m*\u001b[39m m2 \u001b[39m*\u001b[39m n1 \u001b[39m*\u001b[39m C[\u001b[39m11\u001b[39m], \u001b[39m2\u001b[39m \u001b[39m*\u001b[39m m2 \u001b[39m*\u001b[39m C[\u001b[39m12\u001b[39m], \n\u001b[1;32m    115\u001b[0m              m4 \u001b[39m*\u001b[39m C[\u001b[39m13\u001b[39m]], [\u001b[39m4\u001b[39m, \u001b[39m2\u001b[39m]),\n\u001b[1;32m    116\u001b[0m     \n\u001b[1;32m    117\u001b[0m     \u001b[39m# xi_10\u001b[39;00m\n\u001b[1;32m    118\u001b[0m     calc_xi([n4 \u001b[39m*\u001b[39m C[\u001b[39m2\u001b[39m], \u001b[39m2\u001b[39m \u001b[39m*\u001b[39m m1 \u001b[39m*\u001b[39m n2 \u001b[39m*\u001b[39m C[\u001b[39m4\u001b[39m], \u001b[39m-\u001b[39m\u001b[39m2\u001b[39m \u001b[39m*\u001b[39m m1 \u001b[39m*\u001b[39m n3 \u001b[39m*\u001b[39m C[\u001b[39m5\u001b[39m], \u001b[39m-\u001b[39m\u001b[39m2\u001b[39m \u001b[39m*\u001b[39m n3 \u001b[39m*\u001b[39m C[\u001b[39m6\u001b[39m], \u001b[39m-\u001b[39m\u001b[39m4\u001b[39m \u001b[39m*\u001b[39m m2 \u001b[39m*\u001b[39m n1 \u001b[39m*\u001b[39m C[\u001b[39m8\u001b[39m], \n\u001b[1;32m    119\u001b[0m              m2 \u001b[39m*\u001b[39m n2 \u001b[39m*\u001b[39m C[\u001b[39m10\u001b[39m], \u001b[39m3\u001b[39m \u001b[39m*\u001b[39m m1 \u001b[39m*\u001b[39m n2 \u001b[39m*\u001b[39m C[\u001b[39m12\u001b[39m], m3 \u001b[39m*\u001b[39m C[\u001b[39m15\u001b[39m]], [\u001b[39m3\u001b[39m, \u001b[39m4\u001b[39m]),\n\u001b[1;32m    120\u001b[0m     \n\u001b[1;32m    121\u001b[0m     \u001b[39m# xi_11\u001b[39;00m\n\u001b[1;32m    122\u001b[0m     calc_xi([n3 \u001b[39m*\u001b[39m C[\u001b[39m2\u001b[39m], \u001b[39m2\u001b[39m \u001b[39m*\u001b[39m m1 \u001b[39m*\u001b[39m n1 \u001b[39m*\u001b[39m C[\u001b[39m4\u001b[39m], \u001b[39m-\u001b[39m\u001b[39m2\u001b[39m \u001b[39m*\u001b[39m m1 \u001b[39m*\u001b[39m n2 \u001b[39m*\u001b[39m C[\u001b[39m5\u001b[39m], \u001b[39m-\u001b[39m\u001b[39m2\u001b[39m \u001b[39m*\u001b[39m n2 \u001b[39m*\u001b[39m C[\u001b[39m6\u001b[39m], \u001b[39m-\u001b[39m\u001b[39m2\u001b[39m \u001b[39m*\u001b[39m m2 \u001b[39m*\u001b[39m n1 \u001b[39m*\u001b[39m C[\u001b[39m7\u001b[39m], \u001b[39m-\u001b[39m\u001b[39m2\u001b[39m \u001b[39m*\u001b[39m m2 \u001b[39m*\u001b[39m C[\u001b[39m8\u001b[39m], \n\u001b[1;32m    123\u001b[0m              \u001b[39m0.25\u001b[39m \u001b[39m*\u001b[39m m2 \u001b[39m*\u001b[39m n2 \u001b[39m*\u001b[39m C[\u001b[39m9\u001b[39m], \u001b[39m0.75\u001b[39m \u001b[39m*\u001b[39m m2 \u001b[39m*\u001b[39m n1 \u001b[39m*\u001b[39m C[\u001b[39m10\u001b[39m], \u001b[39m0.75\u001b[39m \u001b[39m*\u001b[39m m1 \u001b[39m*\u001b[39m n2 \u001b[39m*\u001b[39m C[\u001b[39m11\u001b[39m], \u001b[39m2.25\u001b[39m \u001b[39m*\u001b[39m m1 \u001b[39m*\u001b[39m n1 \u001b[39m*\u001b[39m C[\u001b[39m12\u001b[39m], m3 \u001b[39m*\u001b[39m C[\u001b[39m14\u001b[39m]], [\u001b[39m3\u001b[39m, \u001b[39m3\u001b[39m]),\n\u001b[1;32m    124\u001b[0m     \n\u001b[1;32m    125\u001b[0m     \u001b[39m# xi_12\u001b[39;00m\n\u001b[1;32m    126\u001b[0m     calc_xi([m1 \u001b[39m*\u001b[39m n2 \u001b[39m*\u001b[39m C[\u001b[39m2\u001b[39m], \u001b[39m2\u001b[39m \u001b[39m*\u001b[39m m1 \u001b[39m*\u001b[39m C[\u001b[39m4\u001b[39m], \u001b[39m-\u001b[39m\u001b[39m2\u001b[39m \u001b[39m*\u001b[39m m1 \u001b[39m*\u001b[39m n1 \u001b[39m*\u001b[39m C[\u001b[39m5\u001b[39m], \u001b[39m-\u001b[39m\u001b[39m2\u001b[39m \u001b[39m*\u001b[39m n1 \u001b[39m*\u001b[39m C[\u001b[39m6\u001b[39m], \u001b[39m-\u001b[39m\u001b[39m4\u001b[39m \u001b[39m*\u001b[39m m2 \u001b[39m*\u001b[39m C[\u001b[39m7\u001b[39m], \u001b[39m0.5\u001b[39m \u001b[39m*\u001b[39m m2 \u001b[39m*\u001b[39m n1 \u001b[39m*\u001b[39m C[\u001b[39m9\u001b[39m], \n\u001b[1;32m    127\u001b[0m              \u001b[39m0.5\u001b[39m \u001b[39m*\u001b[39m m2 \u001b[39m*\u001b[39m C[\u001b[39m10\u001b[39m], \u001b[39m1.5\u001b[39m \u001b[39m*\u001b[39m m1 \u001b[39m*\u001b[39m n1 \u001b[39m*\u001b[39m C[\u001b[39m11\u001b[39m], \u001b[39m1.5\u001b[39m \u001b[39m*\u001b[39m m \u001b[39m*\u001b[39m C[\u001b[39m12\u001b[39m], m3 \u001b[39m*\u001b[39m C[\u001b[39m13\u001b[39m]], [\u001b[39m3\u001b[39m, \u001b[39m2\u001b[39m]),\n\u001b[1;32m    128\u001b[0m     \n\u001b[1;32m    129\u001b[0m     \u001b[39m# xi_20\u001b[39;00m\n\u001b[1;32m    130\u001b[0m     calc_xi([n4 \u001b[39m*\u001b[39m C[\u001b[39m1\u001b[39m], \u001b[39m2\u001b[39m \u001b[39m*\u001b[39m n2 \u001b[39m*\u001b[39m C[\u001b[39m4\u001b[39m], \u001b[39m-\u001b[39m\u001b[39m4\u001b[39m \u001b[39m*\u001b[39m n3 \u001b[39m*\u001b[39m C[\u001b[39m5\u001b[39m], \u001b[39m-\u001b[39m\u001b[39m4\u001b[39m \u001b[39m*\u001b[39m m1 \u001b[39m*\u001b[39m n1 \u001b[39m*\u001b[39m C[\u001b[39m8\u001b[39m], \u001b[39m2\u001b[39m \u001b[39m*\u001b[39m m1 \u001b[39m*\u001b[39m n2 \u001b[39m*\u001b[39m C[\u001b[39m10\u001b[39m], \u001b[39m2\u001b[39m \u001b[39m*\u001b[39m n2 \u001b[39m*\u001b[39m C[\u001b[39m12\u001b[39m], \n\u001b[1;32m    131\u001b[0m              m2 \u001b[39m*\u001b[39m C[\u001b[39m15\u001b[39m]], [\u001b[39m2\u001b[39m, \u001b[39m4\u001b[39m]),\n\u001b[1;32m    132\u001b[0m     \n\u001b[1;32m    133\u001b[0m     \u001b[39m# xi_21\u001b[39;00m\n\u001b[1;32m    134\u001b[0m     calc_xi([n3 \u001b[39m*\u001b[39m C[\u001b[39m1\u001b[39m], \u001b[39m2\u001b[39m \u001b[39m*\u001b[39m n1 \u001b[39m*\u001b[39m C[\u001b[39m4\u001b[39m], \u001b[39m-\u001b[39m\u001b[39m4\u001b[39m \u001b[39m*\u001b[39m n2 \u001b[39m*\u001b[39m C[\u001b[39m5\u001b[39m], \u001b[39m-\u001b[39m\u001b[39m2\u001b[39m \u001b[39m*\u001b[39m m1 \u001b[39m*\u001b[39m n1 \u001b[39m*\u001b[39m C[\u001b[39m7\u001b[39m], \u001b[39m-\u001b[39m\u001b[39m2\u001b[39m \u001b[39m*\u001b[39m m1 \u001b[39m*\u001b[39m C[\u001b[39m8\u001b[39m], \u001b[39m0.5\u001b[39m \u001b[39m*\u001b[39m m1 \u001b[39m*\u001b[39m n2 \u001b[39m*\u001b[39m C[\u001b[39m9\u001b[39m], \n\u001b[1;32m    135\u001b[0m              \u001b[39m1.5\u001b[39m \u001b[39m*\u001b[39m m1 \u001b[39m*\u001b[39m n1 \u001b[39m*\u001b[39m C[\u001b[39m10\u001b[39m], \u001b[39m0.5\u001b[39m \u001b[39m*\u001b[39m n2 \u001b[39m*\u001b[39m C[\u001b[39m11\u001b[39m], \u001b[39m1.5\u001b[39m \u001b[39m*\u001b[39m n1 \u001b[39m*\u001b[39m C[\u001b[39m12\u001b[39m], m2 \u001b[39m*\u001b[39m C[\u001b[39m14\u001b[39m]], [\u001b[39m2\u001b[39m, \u001b[39m3\u001b[39m]),\n\u001b[1;32m    136\u001b[0m     \n\u001b[1;32m    137\u001b[0m     \u001b[39m# xi_22\u001b[39;00m\n\u001b[1;32m    138\u001b[0m     calc_xi([n2 \u001b[39m*\u001b[39m C[\u001b[39m1\u001b[39m], \u001b[39m2\u001b[39m \u001b[39m*\u001b[39m C[\u001b[39m4\u001b[39m], \u001b[39m-\u001b[39m\u001b[39m4\u001b[39m \u001b[39m*\u001b[39m n1 \u001b[39m*\u001b[39m C[\u001b[39m5\u001b[39m], \u001b[39m-\u001b[39m\u001b[39m4\u001b[39m \u001b[39m*\u001b[39m m1 \u001b[39m*\u001b[39m C[\u001b[39m7\u001b[39m], m1 \u001b[39m*\u001b[39m n1 \u001b[39m*\u001b[39m C[\u001b[39m9\u001b[39m], m1 \u001b[39m*\u001b[39m C[\u001b[39m10\u001b[39m], n1 \u001b[39m*\u001b[39m C[\u001b[39m11\u001b[39m], \n\u001b[1;32m    139\u001b[0m              C[\u001b[39m12\u001b[39m], m2 \u001b[39m*\u001b[39m C[\u001b[39m13\u001b[39m]], [\u001b[39m2\u001b[39m, \u001b[39m2\u001b[39m])\n\u001b[1;32m    140\u001b[0m ]\n\u001b[1;32m    142\u001b[0m \u001b[39mif\u001b[39;00m complete \u001b[39m==\u001b[39m \u001b[39mFalse\u001b[39;00m:\n\u001b[1;32m    143\u001b[0m     Xi \u001b[39m=\u001b[39m [Xi[\u001b[39m0\u001b[39m], Xi[\u001b[39m2\u001b[39m]]\n",
      "File \u001b[0;32m~/miniconda3/envs/mmdenv/lib/python3.9/site-packages/jax/_src/numpy/array_methods.py:256\u001b[0m, in \u001b[0;36m_defer_to_unrecognized_arg.<locals>.deferring_binary_op\u001b[0;34m(self, other)\u001b[0m\n\u001b[1;32m    254\u001b[0m args \u001b[39m=\u001b[39m (other, \u001b[39mself\u001b[39m) \u001b[39mif\u001b[39;00m swap \u001b[39melse\u001b[39;00m (\u001b[39mself\u001b[39m, other)\n\u001b[1;32m    255\u001b[0m \u001b[39mif\u001b[39;00m \u001b[39misinstance\u001b[39m(other, _accepted_binop_types):\n\u001b[0;32m--> 256\u001b[0m   \u001b[39mreturn\u001b[39;00m binary_op(\u001b[39m*\u001b[39;49margs)\n\u001b[1;32m    257\u001b[0m \u001b[39m# Note: don't use isinstance here, because we don't want to raise for\u001b[39;00m\n\u001b[1;32m    258\u001b[0m \u001b[39m# subclasses, e.g. NamedTuple objects that may override operators.\u001b[39;00m\n\u001b[1;32m    259\u001b[0m \u001b[39mif\u001b[39;00m \u001b[39mtype\u001b[39m(other) \u001b[39min\u001b[39;00m _rejected_binop_types:\n",
      "\u001b[0;31mKeyboardInterrupt\u001b[0m: "
     ]
    }
   ],
   "source": [
    "from jax.scipy.stats import norm, expon\n",
    "\n",
    "def sample_mixture_of_gaussians(N, key):\n",
    "    \"\"\"Generate samples from a mixture of two Gaussian distributions.\"\"\"\n",
    "    key1, key2 = random.split(key, 2)\n",
    "    gaussian1 = random.normal(key1, shape=(N//2,))  # Standard normal\n",
    "    gaussian2 = random.normal(key2, shape=(N-N//2,)) + 5  # Normal with mean 5\n",
    "    return jnp.concatenate([gaussian1, gaussian2])\n",
    "\n",
    "def sample_exponential_shift(N, key, shift=5):\n",
    "    \"\"\"Generate samples from an exponential distribution with a shift.\"\"\"\n",
    "    samples = random.exponential(key, shape=(N,))\n",
    "    return samples + shift\n",
    "\n",
    "\n",
    "ratios = jnp.array([1, 2, 3, 4, 5])\n",
    "num_samples = 1000\n",
    "results = {}\n",
    "print(\"Running...\")\n",
    "for ratio in tqdm(ratios):\n",
    "    N1 = num_samples * ratio\n",
    "    \n",
    "    # Use the sample_mixture_of_gaussians and sample_exponential_shift functions to generate your datasets\n",
    "    key = random.PRNGKey(42)\n",
    "    key1, key2 = random.split(key, 2)\n",
    "    X = sample_mixture_of_gaussians(N1, key1)\n",
    "    Y = sample_exponential_shift(N1, key2)\n",
    "    \n",
    "    mmd_samples, full_vars, complete_vars, incomplete_vars = simulate_mmd(sigma_mx_2, ratio, N1, sigma0=1.0)\n",
    "    true_variance = jnp.var(mmd_samples, ddof=1)\n",
    "    results[str(ratio)] = {\n",
    "            'MMDu': jnp.mean(jnp.array(mmd_samples)),\n",
    "            'true_variance': true_variance,\n",
    "            'full_variance_estimate': jnp.mean(jnp.array(full_vars)),\n",
    "            'complete_variance_estimate': jnp.mean(jnp.array(complete_vars)),\n",
    "            'incomplete_variance_estimate': jnp.mean(jnp.array(incomplete_vars))\n",
    "        }\n",
    "    print(results[str(ratio)])\n",
    "\n",
    "for ratio, vals in results.items():\n",
    "    print(f\"Ratio: {ratio}\")\n",
    "    print(f\"MMDu: {vals['MMDu']}\")\n",
    "    print(f\"True Variance of MMD: {vals['true_variance']}\")\n",
    "    print(f\"Full Variance Estimate (Ours 8): {vals['full_variance_estimate']}\")\n",
    "    print(f\"Complete Variance Estimate (Ours 2): {vals['complete_variance_estimate']}\")\n",
    "    print(f\"Incomplete Variance Estimate (Liu et al. 2): {vals['incomplete_variance_estimate']}\")\n",
    "    print(\"-----\"*10)\n"
   ]
  },
  {
   "cell_type": "code",
   "execution_count": null,
   "metadata": {},
   "outputs": [],
   "source": []
  }
 ],
 "metadata": {
  "kernelspec": {
   "display_name": "mmdenv",
   "language": "python",
   "name": "python3"
  },
  "language_info": {
   "codemirror_mode": {
    "name": "ipython",
    "version": 3
   },
   "file_extension": ".py",
   "mimetype": "text/x-python",
   "name": "python",
   "nbconvert_exporter": "python",
   "pygments_lexer": "ipython3",
   "version": "3.9.15"
  },
  "orig_nbformat": 4
 },
 "nbformat": 4,
 "nbformat_minor": 2
}
