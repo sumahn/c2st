{
 "cells": [
  {
   "cell_type": "code",
   "execution_count": 1,
   "id": "7a693719",
   "metadata": {},
   "outputs": [],
   "source": [
    "import torch"
   ]
  },
  {
   "cell_type": "code",
   "execution_count": 2,
   "id": "732d0092",
   "metadata": {},
   "outputs": [
    {
     "name": "stdout",
     "output_type": "stream",
     "text": [
      "tensor(598)\n"
     ]
    }
   ],
   "source": [
    "# Tensor porduct와 모든 element를 한번에 더하기 Toy example\n",
    "\n",
    "# 두 개의 텐서 A와 B 생성\n",
    "X = torch.tensor([[1, 2], [3, 4],[5,8]])\n",
    "Y = torch.tensor([[5, 6], [7, 8]])\n",
    "\n",
    "# Kronecker product 계산\n",
    "kron_Xi_10 = torch.kron(X, Y)\n",
    "\n",
    "# Kronecker product의 모든 요소를 합산\n",
    "result = torch.sum(kron_result)\n",
    "\n",
    "print(result)  # 결과 출력"
   ]
  },
  {
   "cell_type": "code",
   "execution_count": 3,
   "id": "6b7e7fc0",
   "metadata": {},
   "outputs": [
    {
     "name": "stdout",
     "output_type": "stream",
     "text": [
      "Data 1 Shape: torch.Size([1000, 5])\n",
      "Data 2 Shape: torch.Size([1000, 5])\n"
     ]
    }
   ],
   "source": [
    "import torch.distributions as dist\n",
    "\n",
    "# 시드 설정 (재현 가능한 결과를 위해)\n",
    "torch.manual_seed(0)\n",
    "\n",
    "# 첫 번째 데이터셋: 상관관계 없는 5차원 다변량 정규 분포\n",
    "mean1 = torch.zeros(5)\n",
    "cov1 = torch.eye(5)\n",
    "\n",
    "# 두 번째 데이터셋: 마지막 두 차원 간의 상관관계가 0.8인 다변량 정규 분포\n",
    "mean2 = torch.zeros(5)\n",
    "cov2 = torch.eye(5)\n",
    "cov2[3, 4] = cov2[4, 3] = 0.8\n",
    "\n",
    "# 데이터 생성 (radom forest 논문과 같은 세팅)\n",
    "X = dist.MultivariateNormal(mean1, cov1).sample((1000,))\n",
    "Y = dist.MultivariateNormal(mean2, cov2).sample((1000,))\n",
    "\n",
    "print(\"Data 1 Shape:\", X.shape)  # (300, 5)\n",
    "print(\"Data 2 Shape:\", Y.shape)  # (300, 5)\n"
   ]
  },
  {
   "cell_type": "code",
   "execution_count": 4,
   "id": "623784b2",
   "metadata": {},
   "outputs": [],
   "source": [
    "def Pdist2(x, y):\n",
    "    \"\"\"compute the paired distance between x and y.\"\"\"\n",
    "    x_norm = (x ** 2).sum(1).view(-1, 1)\n",
    "    if y is not None:\n",
    "        y_norm = (y ** 2).sum(1).view(1, -1)\n",
    "    else:\n",
    "        y = x\n",
    "        y_norm = x_norm.view(1, -1)\n",
    "    Pdist = x_norm + y_norm - 2.0 * torch.mm(x, torch.transpose(y, 0, 1))\n",
    "    Pdist[Pdist<0]=0\n",
    "    return Pdist"
   ]
  },
  {
   "cell_type": "code",
   "execution_count": 5,
   "id": "5374d2ee",
   "metadata": {},
   "outputs": [],
   "source": [
    "Dxx = Pdist2(X, X)\n",
    "Dyy = Pdist2(Y, Y)\n",
    "Dxy = Pdist2(X, Y)\n",
    "sigma0 = 1.0"
   ]
  },
  {
   "cell_type": "code",
   "execution_count": 6,
   "id": "98882a40",
   "metadata": {},
   "outputs": [],
   "source": [
    "Kxx = torch.exp(-(Dxx / sigma0))\n",
    "Kyy = torch.exp(-(Dyy / sigma0))\n",
    "Kxy = torch.exp(-(Dxy / sigma0))"
   ]
  },
  {
   "cell_type": "code",
   "execution_count": 7,
   "id": "31e4a28e",
   "metadata": {},
   "outputs": [
    {
     "name": "stdout",
     "output_type": "stream",
     "text": [
      "m :  1000\n",
      "n :  1000\n"
     ]
    }
   ],
   "source": [
    "m,n = Kxy.shape #smaple size\n",
    "print(\"m : \",m)\n",
    "print(\"n : \",n)"
   ]
  },
  {
   "cell_type": "markdown",
   "id": "ed2da2c1",
   "metadata": {},
   "source": [
    "MMD 구하기"
   ]
  },
  {
   "cell_type": "code",
   "execution_count": 8,
   "id": "17d4df2e",
   "metadata": {},
   "outputs": [
    {
     "data": {
      "text/plain": [
       "tensor(0.0030)"
      ]
     },
     "execution_count": 8,
     "metadata": {},
     "output_type": "execute_result"
    }
   ],
   "source": [
    "def mmd() :\n",
    "    Dxx = Pdist2(X, X)\n",
    "    Dyy = Pdist2(Y, Y)\n",
    "    Dxy = Pdist2(X, Y)\n",
    "    Kxx = torch.exp(-(Dxx / sigma0))\n",
    "    Kyy = torch.exp(-(Dyy / sigma0))\n",
    "    Kxy = torch.exp(-(Dxy / sigma0))\n",
    "    term1 = torch.sum(Kxx - torch.diag(torch.diag(Kxx))) / (m * (m - 1))\n",
    "    term2 = torch.sum(Kyy - torch.diag(torch.diag(Kyy))) / (n * (n - 1))\n",
    "    term3 = -2 * torch.sum(Kxy) / (m * n)\n",
    "\n",
    "    mmd_sq = term1 + term2 + term3\n",
    "    return mmd_sq\n",
    "    \n",
    "mmd()"
   ]
  },
  {
   "cell_type": "code",
   "execution_count": 9,
   "id": "1c86292e",
   "metadata": {},
   "outputs": [
    {
     "ename": "RuntimeError",
     "evalue": "[enforce fail at alloc_cpu.cpp:75] err == 0. DefaultCPUAllocator: can't allocate memory: you tried to allocate 4000000000000 bytes. Error code 12 (Cannot allocate memory)",
     "output_type": "error",
     "traceback": [
      "\u001b[0;31m---------------------------------------------------------------------------\u001b[0m",
      "\u001b[0;31mRuntimeError\u001b[0m                              Traceback (most recent call last)",
      "\u001b[1;32m/home/oldrain123/C2ST/Variance Matrix form(ver.2).ipynb 셀 10\u001b[0m line \u001b[0;36m3\n\u001b[1;32m      <a href='vscode-notebook-cell://ssh-remote%2B165.132.79.140/home/oldrain123/C2ST/Variance%20Matrix%20form%28ver.2%29.ipynb#X12sdnNjb2RlLXJlbW90ZQ%3D%3D?line=0'>1</a>\u001b[0m C1 \u001b[39m=\u001b[39m torch\u001b[39m.\u001b[39mtrace(Kxx\u001b[39m.\u001b[39mT\u001b[39m@Kxx\u001b[39m)\n\u001b[1;32m      <a href='vscode-notebook-cell://ssh-remote%2B165.132.79.140/home/oldrain123/C2ST/Variance%20Matrix%20form%28ver.2%29.ipynb#X12sdnNjb2RlLXJlbW90ZQ%3D%3D?line=1'>2</a>\u001b[0m C2 \u001b[39m=\u001b[39m torch\u001b[39m.\u001b[39msum(Kxx\u001b[39m@Kxx\u001b[39m)\n\u001b[0;32m----> <a href='vscode-notebook-cell://ssh-remote%2B165.132.79.140/home/oldrain123/C2ST/Variance%20Matrix%20form%28ver.2%29.ipynb#X12sdnNjb2RlLXJlbW90ZQ%3D%3D?line=2'>3</a>\u001b[0m C3 \u001b[39m=\u001b[39m torch\u001b[39m.\u001b[39msum(torch\u001b[39m.\u001b[39;49mkron(Kxx, Kxx))\n\u001b[1;32m      <a href='vscode-notebook-cell://ssh-remote%2B165.132.79.140/home/oldrain123/C2ST/Variance%20Matrix%20form%28ver.2%29.ipynb#X12sdnNjb2RlLXJlbW90ZQ%3D%3D?line=3'>4</a>\u001b[0m C4 \u001b[39m=\u001b[39m torch\u001b[39m.\u001b[39msum(torch\u001b[39m.\u001b[39mkron(Kxx, Kyy))\n\u001b[1;32m      <a href='vscode-notebook-cell://ssh-remote%2B165.132.79.140/home/oldrain123/C2ST/Variance%20Matrix%20form%28ver.2%29.ipynb#X12sdnNjb2RlLXJlbW90ZQ%3D%3D?line=4'>5</a>\u001b[0m C5 \u001b[39m=\u001b[39m torch\u001b[39m.\u001b[39msum(Kxx \u001b[39m@\u001b[39m Kxy)\n",
      "\u001b[0;31mRuntimeError\u001b[0m: [enforce fail at alloc_cpu.cpp:75] err == 0. DefaultCPUAllocator: can't allocate memory: you tried to allocate 4000000000000 bytes. Error code 12 (Cannot allocate memory)"
     ]
    }
   ],
   "source": [
    "C1 = torch.trace(Kxx.T@Kxx)\n",
    "C2 = torch.sum(Kxx@Kxx)\n",
    "C3 = torch.sum(torch.kron(Kxx, Kxx))\n",
    "C4 = torch.sum(torch.kron(Kxx, Kyy))\n",
    "C5 = torch.sum(Kxx @ Kxy)\n",
    "C6 = torch.sum(torch.kron(Kxx,Kxy))\n",
    "C7 = torch.sum(Kxy@Kyy)\n",
    "C8 = torch.sum(torch.kron(Kxy,Kyy))\n",
    "C9 = torch.trace(Kxy.T @ Kxy)\n",
    "C10 = torch.sum(Kxy.T @ Kxy)\n",
    "C11 = torch.sum(Kxy @ Kxy.T)\n",
    "C12 = torch.sum(torch.kron(Kxy,Kxy))\n",
    "C13 = torch.trace(Kyy.T @ Kyy)\n",
    "C14 = torch.sum(Kyy@Kyy)\n",
    "C15 = torch.sum(torch.kron(Kyy,Kyy))"
   ]
  },
  {
   "cell_type": "code",
   "execution_count": null,
   "id": "d259a64e",
   "metadata": {},
   "outputs": [],
   "source": [
    "# 2개\n",
    "n2 = n**2\n",
    "mn = m*n\n",
    "m2 = m**2\n",
    "# 3개\n",
    "m3 = m**3\n",
    "m2n = m**2 * n\n",
    "mn2 = m * (n**2)\n",
    "n3 = n**3\n",
    "# 4개\n",
    "m4 = m**4\n",
    "m3n = (m**3) * n\n",
    "m2n2 = (m**2) * (n**2)\n",
    "mn3 = m* (n**3)\n",
    "n4 = n**4"
   ]
  },
  {
   "cell_type": "code",
   "execution_count": null,
   "id": "b4cc2805",
   "metadata": {},
   "outputs": [],
   "source": [
    "mmd2 = mmd() **2"
   ]
  },
  {
   "cell_type": "code",
   "execution_count": null,
   "id": "666b48fd",
   "metadata": {},
   "outputs": [
    {
     "data": {
      "text/plain": [
       "tensor(0.0765)"
      ]
     },
     "execution_count": 148,
     "metadata": {},
     "output_type": "execute_result"
    }
   ],
   "source": [
    "def Xi_10() :\n",
    "    result = n4 * C2\n",
    "    result += 2 * mn * n2 * C4\n",
    "    result -= 2 * mn * n3 * C5\n",
    "    result -= 2 * n3 * C6\n",
    "    result -= 4 * m2n * C8\n",
    "    result += m2n * n2 * C10\n",
    "    result += 3 * mn * n2 * C12\n",
    "    result += m3 * C15\n",
    "    return result/((m**3)*(n**4))-mmd2\n",
    "Xi_10()"
   ]
  },
  {
   "cell_type": "code",
   "execution_count": null,
   "id": "276efa89",
   "metadata": {},
   "outputs": [
    {
     "data": {
      "text/plain": [
       "tensor(0.0246)"
      ]
     },
     "execution_count": 149,
     "metadata": {},
     "output_type": "execute_result"
    }
   ],
   "source": [
    "def Xi_01() :\n",
    "    result = n3 * C3\n",
    "    result += 2 * m2n * C4\n",
    "    result -= 4 * mn2 * C6\n",
    "    result -= 2 * m3n * C7\n",
    "    result -= -2 * m3 * C8\n",
    "    result += m2n2 * C11\n",
    "    result += 3 * m2n * C12\n",
    "    result += m4 * C14 \n",
    "    \n",
    "    return result/((m**4)*(n**3))-mmd2\n",
    "\n",
    "Xi_01()"
   ]
  },
  {
   "cell_type": "code",
   "execution_count": null,
   "id": "34a8d289",
   "metadata": {},
   "outputs": [
    {
     "data": {
      "text/plain": [
       "tensor(0.0134)"
      ]
     },
     "execution_count": 150,
     "metadata": {},
     "output_type": "execute_result"
    }
   ],
   "source": [
    "def Xi_11() :\n",
    "    result =  n3 * C2\n",
    "    result += 2 * mn * C4\n",
    "    result -= 2 * mn2 * C5\n",
    "    result -= 2 * n2 * C6\n",
    "    result -= 2 * m2n *  C7\n",
    "    result -= 2 * m2 *  C8\n",
    "    result += (1/4) * m2n2 * C9\n",
    "    result += (3/4) * m2n * C10\n",
    "    result += (3/4) * mn2 * C11\n",
    "    result += (9/4) * mn *C12\n",
    "    result +=  m3 *C14\n",
    "    \n",
    "    return result/((m**3)*(n**3))-mmd2\n",
    "\n",
    "Xi_11()"
   ]
  },
  {
   "cell_type": "code",
   "execution_count": null,
   "id": "64fd3608",
   "metadata": {},
   "outputs": [
    {
     "data": {
      "text/plain": [
       "tensor(0.0204)"
      ]
     },
     "execution_count": 151,
     "metadata": {},
     "output_type": "execute_result"
    }
   ],
   "source": [
    "def Xi_20() :\n",
    "    result =  n4 * C1\n",
    "    result += 2 * n2 * C4\n",
    "    result -= 4 * n3 * C5\n",
    "    result -= 4 * mn * C8\n",
    "    result += 2 * mn2 *  C10\n",
    "    result += 2 * n2 *  C12\n",
    "    result +=  m2 * C15\n",
    "    \n",
    "    return result/((m**2)*(n**4))-mmd2\n",
    "Xi_20()"
   ]
  },
  {
   "cell_type": "code",
   "execution_count": null,
   "id": "1c161efa",
   "metadata": {},
   "outputs": [
    {
     "data": {
      "text/plain": [
       "tensor(0.1040)"
      ]
     },
     "execution_count": 152,
     "metadata": {},
     "output_type": "execute_result"
    }
   ],
   "source": [
    "def Xi_02() :\n",
    "    result =  n2 * C3\n",
    "    result += 2 * m2 * C4\n",
    "    result -= 4 * mn * C6\n",
    "    result -= 4 * m3 * C7\n",
    "    result += 2 * m2n *  C11\n",
    "    result += 2 * m2 *  C12\n",
    "    result +=  m4 * C13\n",
    "    \n",
    "    return result/((m**4)*(n**2))-mmd2\n",
    "Xi_02()"
   ]
  },
  {
   "cell_type": "code",
   "execution_count": null,
   "id": "8a961f07",
   "metadata": {},
   "outputs": [
    {
     "data": {
      "text/plain": [
       "tensor(0.2368)"
      ]
     },
     "execution_count": 153,
     "metadata": {},
     "output_type": "execute_result"
    }
   ],
   "source": [
    "def Xi_12() :\n",
    "    result =  mn2 * C2\n",
    "    result += 2 * m * C4\n",
    "    result -= 2 * mn * C5\n",
    "    result -= 2 * n * C6\n",
    "    result -= 4 * m2 *  C7\n",
    "    result += (1/2) * m2n *  C9\n",
    "    result += (1/2) * m2 * C10\n",
    "    result += (3/2) * mn *  C11\n",
    "    result += (3/2) * m *  C12\n",
    "    result +=  m3 * C13\n",
    "    \n",
    "    return result/((m**3)*(n**2))-mmd2\n",
    "Xi_12()"
   ]
  },
  {
   "cell_type": "code",
   "execution_count": null,
   "id": "0bc14486",
   "metadata": {},
   "outputs": [
    {
     "data": {
      "text/plain": [
       "tensor(0.0226)"
      ]
     },
     "execution_count": 154,
     "metadata": {},
     "output_type": "execute_result"
    }
   ],
   "source": [
    "def Xi_21() :\n",
    "    result =  n3 * C1\n",
    "    result += 2 * n * C4\n",
    "    result -= 4 * n2 * C5\n",
    "    result -= 2 * mn * C7\n",
    "    result -= 2 * m *  C8\n",
    "    result += (1/2) * mn2 *  C9\n",
    "    result += (3/2) * mn * C10\n",
    "    result += (1/2) * n2 *  C11\n",
    "    result += (3/2) * n *  C12\n",
    "    result +=  m2 * C14\n",
    "    \n",
    "    return result/((m**2)*(n**3))-mmd2\n",
    "Xi_21()"
   ]
  },
  {
   "cell_type": "code",
   "execution_count": null,
   "id": "6a33eefe",
   "metadata": {},
   "outputs": [
    {
     "data": {
      "text/plain": [
       "tensor(0.1164)"
      ]
     },
     "execution_count": 155,
     "metadata": {},
     "output_type": "execute_result"
    }
   ],
   "source": [
    "def Xi_22() :\n",
    "    result =  n2 * C1\n",
    "    result += 2 * C4\n",
    "    result -= 4 * n * C5\n",
    "    result -= 4 * m * C7\n",
    "    result += mn * C9\n",
    "    result += m * C10\n",
    "    result += n * C11\n",
    "    result += C12\n",
    "    result += m2 * C13\n",
    "\n",
    "    \n",
    "    return result/((m**2)*(n**2))-mmd2\n",
    "Xi_22()"
   ]
  },
  {
   "cell_type": "code",
   "execution_count": null,
   "id": "424a4f53",
   "metadata": {},
   "outputs": [],
   "source": []
  },
  {
   "cell_type": "markdown",
   "id": "cfc54616",
   "metadata": {},
   "source": [
    "Variance estimator\n",
    "$$\n",
    "\\begin{align*}\n",
    "\\therefore \n",
    "\\text{Var}(U_{mn}) = &\n",
    "{4(m-2)(m-3)(n-2)\\over m(m-1)n(n-1)}\\xi_{0,1} + {2(n-2)(n-3)\\over m(m-1)n(n-1)}\\xi_{0,2} \\\\\n",
    "&+\n",
    "{4(m-2)(n-2)(n-3)\\over m(m-1)n(n-1)}\\xi_{1,0} + \n",
    "{16(n-2)(m-2)\\over m(m-1)n(n-1)}\\xi_{1,1} \\\\\n",
    "&+ {8(m-2)\\over m(m-1)n(n-1)}\\xi_{1,2} +\n",
    "{2(n-2)(n-3) \\over m(m-1)n(n-1)}\\xi_{2,0} \\\\\n",
    "&+ {2(n-2) \\over m(m-1)n(n-1)} \\xi_{2,1} + {4\\over m(m-1)n(n-1)}\\xi_{2,2}\n",
    "\\end{align*}\n",
    "$$"
   ]
  },
  {
   "cell_type": "code",
   "execution_count": null,
   "id": "b7d6b3b1",
   "metadata": {},
   "outputs": [
    {
     "data": {
      "text/plain": [
       "tensor(0.0075)"
      ]
     },
     "execution_count": 156,
     "metadata": {},
     "output_type": "execute_result"
    }
   ],
   "source": [
    "def mmd(X,Y) :\n",
    "    Dxx = Pdist2(X, X)\n",
    "    Dyy = Pdist2(Y, Y)\n",
    "    Dxy = Pdist2(X, Y)\n",
    "    Kxx = torch.exp(-(Dxx / sigma0))\n",
    "    Kyy = torch.exp(-(Dyy / sigma0))\n",
    "    Kxy = torch.exp(-(Dxy / sigma0))\n",
    "    term1 = torch.sum(Kxx - torch.diag(torch.diag(Kxx))) / (m * (m - 1))\n",
    "    term2 = torch.sum(Kyy - torch.diag(torch.diag(Kyy))) / (n * (n - 1))\n",
    "    term3 = -2 * torch.sum(Kxy) / (m * n)\n",
    "\n",
    "    mmd_sq = term1 + term2 + term3\n",
    "    return mmd_sq\n",
    "    \n",
    "mmd(X,Y)"
   ]
  },
  {
   "cell_type": "code",
   "execution_count": null,
   "id": "c003dc15",
   "metadata": {},
   "outputs": [
    {
     "data": {
      "text/plain": [
       "tensor(0.0097)"
      ]
     },
     "execution_count": 159,
     "metadata": {},
     "output_type": "execute_result"
    }
   ],
   "source": [
    "def est_var():\n",
    "    term1 = (4 * (m - 2) * (m - 3) * (n - 2) / (m * (m - 1) * n * (n - 1))) * Xi_01()\n",
    "    term2 = (4 * (m - 2) * (n - 2) * (n - 3) / (m * (m - 1) * n * (n - 1))) * Xi_10()\n",
    "    term3 = (16 * (n - 2) * (m - 2) / (m * (m - 1) * n * (n - 1))) * Xi_11()\n",
    "    term4 = (2 * (n - 2) * (n - 3) / (m * (m - 1) * n * (n - 1))) * Xi_02()\n",
    "    term5 = (2 * (n - 2) * (n - 3) / (m * (m - 1) * n * (n - 1))) * Xi_20()\n",
    "    term6 = (8 * (m - 2) / (m * (m - 1) * n * (n - 1))) * Xi_12()\n",
    "    term7 = (2 * (n - 2) / (m * (m - 1) * n * (n - 1))) * Xi_21()\n",
    "    term8 = (4 / (m * (m - 1) * n * (n - 1))) * Xi_22()\n",
    "\n",
    "    var = term1 + term2 + term3 + term4 + term5 + term6 + term7 + term8\n",
    "\n",
    "    return var\n",
    "\n",
    "est_var()\n"
   ]
  },
  {
   "cell_type": "code",
   "execution_count": null,
   "id": "d1e5868f",
   "metadata": {},
   "outputs": [
    {
     "name": "stdout",
     "output_type": "stream",
     "text": [
      "Estimated Variance of MMD: tensor(0.0001)\n"
     ]
    }
   ],
   "source": [
    "# MMD를 추정할 횟수\n",
    "num_samples = 10000\n",
    "\n",
    "# MMD 값들을 저장할 배열\n",
    "mmd_samples = torch.zeros(num_samples)\n",
    "\n",
    "\n",
    "# Monte Carlo 시뮬레이션을 수행하여 MMD 값을 추정합니다.\n",
    "for i in range(num_samples):\n",
    "    # 새로운 데이터를 생성하고\n",
    "    X = dist.MultivariateNormal(mean1, cov1).sample((200,))\n",
    "    Y = dist.MultivariateNormal(mean2, cov2).sample((10,))\n",
    "\n",
    "    \n",
    "    # MMD 값을 계산하고 결과를 리스트에 추가합니다.\n",
    "    mmd_value = mmd(X,Y)\n",
    "    mmd_samples[i] = mmd_value\n",
    "\n",
    "# MMD의 추정된 분산 계산\n",
    "mmd_variance = torch.var(mmd_samples, unbiased=True)\n",
    "\n",
    "print(\"Estimated Variance of MMD:\", mmd_variance)\n"
   ]
  }
 ],
 "metadata": {
  "kernelspec": {
   "display_name": "base",
   "language": "python",
   "name": "python3"
  },
  "language_info": {
   "codemirror_mode": {
    "name": "ipython",
    "version": 3
   },
   "file_extension": ".py",
   "mimetype": "text/x-python",
   "name": "python",
   "nbconvert_exporter": "python",
   "pygments_lexer": "ipython3",
   "version": "3.9.18"
  }
 },
 "nbformat": 4,
 "nbformat_minor": 5
}
