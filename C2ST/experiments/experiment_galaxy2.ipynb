{
 "cells": [
  {
   "cell_type": "markdown",
   "id": "d3babb17-0037-4d68-b72f-0fff1ea6bf0b",
   "metadata": {
    "tags": []
   },
   "source": [
    "# Environment mmdfuse-env"
   ]
  },
  {
   "cell_type": "markdown",
   "id": "e72924c9",
   "metadata": {},
   "source": [
    "Not multiplying max{n_0, n_1} to denominator of the objective function "
   ]
  },
  {
   "cell_type": "code",
   "execution_count": 13,
   "id": "bf557300",
   "metadata": {},
   "outputs": [
    {
     "data": {
      "image/png": "[encoded data removed]",
      "text/plain": [
       "<Figure size 1200x600 with 1 Axes>"
      ]
     },
     "metadata": {},
     "output_type": "display_data"
    }
   ],
   "source": [
    "import matplotlib.pyplot as plt\n",
    "import numpy as np\n",
    "\n",
    "# Number of samples\n",
    "n_samples = 10000\n",
    "\n",
    "# Sample X from Unif[0,1]\n",
    "X = np.random.uniform(0, 1, n_samples)\n",
    "\n",
    "# Sample U from Unif[0,1] and then get Y by inverting the CDF of Y\n",
    "U = np.random.uniform(0, 1, n_samples)\n",
    "Y = np.cbrt(U)\n",
    "\n",
    "# Flip f(y) based on x = 1/sqrt(3)\n",
    "flip_threshold = 1 / np.sqrt(3)\n",
    "Y[X > flip_threshold] = 1 - Y[X > flip_threshold]\n",
    "\n",
    "# Plot\n",
    "plt.figure(figsize=(12, 6))\n",
    "\n",
    "plt.hist(X, bins=30, alpha=0.5, label='X ~ Unif[0,1]', edgecolor='blue')\n",
    "plt.hist(Y, bins=30, alpha=0.5, label='Y with pdf f(y)=3y^2', edgecolor='orange')\n",
    "\n",
    "plt.title('Histogram of X and Y')\n",
    "plt.xlabel('Value')\n",
    "plt.ylabel('Frequency')\n",
    "plt.legend()\n",
    "\n",
    "plt.show()\n"
   ]
  },
  {
   "cell_type": "code",
   "execution_count": null,
   "id": "ec20b44f-a25e-4721-9100-cbe5c05c9087",
   "metadata": {
    "tags": []
   },
   "outputs": [],
   "source": [
    "%load_ext autoreload \n",
    "%autoreload 2\n",
    "\n",
    "from sampler_galaxy import load_images_list, sampler_galaxy\n",
    "import jax\n",
    "import jax.numpy as jnp\n",
    "from jax import random\n",
    "from tqdm.auto import tqdm\n",
    "from pathlib import Path\n",
    "\n",
    "import torch \n",
    "import numpy as np\n",
    "Path(\"results\").mkdir(exist_ok=True)"
   ]
  },
  {
   "cell_type": "code",
   "execution_count": null,
   "id": "c4d8637a",
   "metadata": {},
   "outputs": [],
   "source": [
    "import os\n",
    "import jax\n",
    "\n",
    "os.environ[\"CUDA_VISIBLE_DEVICES\"] = \"2\""
   ]
  },
  {
   "cell_type": "code",
   "execution_count": null,
   "id": "f7a2adc0-1b65-45f7-baec-e7c90a2c5a2d",
   "metadata": {
    "tags": []
   },
   "outputs": [],
   "source": [
    "from all_tests import mmdfuse_test\n",
    "from all_tests import mmd_median_test, mmd_split_test\n",
    "from all_tests import mmdagg_test, mmdagginc_test\n",
    "from all_tests import deep_mmd_test, deep_mmd_image_test\n",
    "from all_tests import met_test, scf_test\n",
    "from all_tests import ctt_test, actt_test\n",
    "from tests import c2st_tst\n",
    "from models import MyModel"
   ]
  },
  {
   "cell_type": "code",
   "execution_count": null,
   "id": "a16ce72b-ded0-43e1-843f-370c3080acff",
   "metadata": {
    "tags": []
   },
   "outputs": [],
   "source": [
    "images_list = load_images_list(highres=False)"
   ]
  },
  {
   "cell_type": "markdown",
   "id": "2517ce95-93bc-4973-b580-1355fd47cb1c",
   "metadata": {
    "tags": []
   },
   "source": [
    "## Vary difficulty"
   ]
  },
  {
   "cell_type": "code",
   "execution_count": null,
   "id": "53a0e613-358b-42da-a702-5903221ef154",
   "metadata": {
    "tags": []
   },
   "outputs": [],
   "source": [
    "# repetitions = 200\n",
    "# corruptions = (0.1, 0.15, 0.20, 0.25, 0.3, 0.35, 0.4)\n",
    "# sample_size = 500\n",
    "\n",
    "# tests = (mmdfuse_test, mmd_median_test, mmd_split_test, mmdagg_test, mmdagginc_test, deep_mmd_test, scf_test, ctt_test, actt_test, deep_mmd_image_test)\n",
    "# outputs = jnp.zeros((len(tests), len(corruptions), repetitions))\n",
    "# outputs = outputs.tolist()\n",
    "# key = random.PRNGKey(42)\n",
    "# seed = 42\n",
    "# for s in tqdm(range(len(corruptions))):\n",
    "#     corruption = corruptions[s]\n",
    "#     for i in tqdm(range(repetitions)):\n",
    "#         key, subkey = random.split(key)\n",
    "#         X, Y = sampler_galaxy(subkey, m=sample_size, n=sample_size, corruption=corruption, images_list=images_list)\n",
    "#         X = jnp.array(X, dtype=jnp.float32).reshape((X.shape[0], -1))\n",
    "#         Y = jnp.array(Y, dtype=jnp.float32).reshape((Y.shape[0], -1))\n",
    "#         key, subkey = random.split(key)\n",
    "#         seed += 1\n",
    "#         for t in range(len(tests)):\n",
    "#             test = tests[t]\n",
    "#             outputs[t][s][i] = test(\n",
    "#                 X,\n",
    "#                 Y,\n",
    "#                 subkey,\n",
    "#                 seed,\n",
    "#             )\n",
    "\n",
    "# output = jnp.mean(jnp.array(outputs), -1)\n",
    "\n",
    "# jnp.save(\"results/galaxy_vary_dif.npy\", output)\n",
    "# jnp.save(\"results/galaxy_vary_dif_x_axis.npy\", corruptions)\n",
    "\n",
    "# print(\"corruptions :\", corruptions)\n",
    "# print(\"sample size :\", sample_size)\n",
    "# for t in range(len(tests)):\n",
    "#     print(\" \")\n",
    "#     print(tests[t])\n",
    "#     print(output[t])"
   ]
  },
  {
   "cell_type": "markdown",
   "id": "eeb4b638-ecf6-4496-b9a6-dc9765bb0e23",
   "metadata": {
    "tags": []
   },
   "source": [
    "## Vary sample size"
   ]
  },
  {
   "cell_type": "code",
   "execution_count": null,
   "id": "8b440bf0",
   "metadata": {},
   "outputs": [],
   "source": [
    "# Setting for C2ST\n",
    "device = 'cuda:0'\n",
    "dtype = torch.float \n",
    "lr = 0.001\n",
    "n_epoch = 50\n",
    "alpha = 0.05"
   ]
  },
  {
   "cell_type": "code",
   "execution_count": null,
   "id": "561791c2-ecd2-4bd7-b967-4340203946fa",
   "metadata": {
    "tags": []
   },
   "outputs": [],
   "source": [
    "repetitions = 50\n",
    "corruption = 0.3\n",
    "m_sample_size = 100\n",
    "sample_sizes = (10000, 7000, 5000, 3000, 1000, 100)\n",
    "\n",
    "tests = (c2st_tst, mmdfuse_test, mmd_median_test, mmdagg_test, ctt_test, actt_test)\n",
    "outputs = jnp.zeros((len(tests), len(sample_sizes), repetitions))\n",
    "outputs = outputs.tolist()\n",
    "key = random.PRNGKey(42)\n",
    "seed = 42\n",
    "for s in tqdm(range(len(sample_sizes))):\n",
    "    n_sample_size = sample_sizes[s]\n",
    "    for i in tqdm(range(repetitions)):\n",
    "        torch.manual_seed(s + i) \n",
    "        torch.cuda.manual_seed(s+i)\n",
    "        np.random.seed(seed = s+i)\n",
    "        key, subkey = random.split(key)\n",
    "        X, Y = sampler_galaxy(subkey, m=m_sample_size, n=n_sample_size, corruption=corruption, images_list=images_list)\n",
    "        Ind_tr_X = np.random.choice(len(X), int(m_sample_size/2), replace=False)\n",
    "        Ind_te_X = np.delete(np.arange(len(X)), Ind_tr_X)\n",
    "        Ind_tr_Y = np.random.choice(len(Y), int(n_sample_size/2), replace=False) \n",
    "        Ind_te_Y = np.delete(np.arange(len(Y)), Ind_tr_Y)\n",
    "        s1_tr = torch.from_numpy(np.array(X[Ind_tr_X])).to(dtype= dtype, device=device)\n",
    "        s2_tr = torch.from_numpy(np.array(Y[Ind_tr_Y])).to(dtype = dtype, device=device)\n",
    "        s1_te = torch.from_numpy(np.array(X[Ind_te_X])).to(dtype= dtype, device=device)\n",
    "        s2_te = torch.from_numpy(np.array(Y[Ind_te_Y])).to(dtype= dtype, device=device)\n",
    "        X = jnp.array(X, dtype=jnp.float32).reshape((X.shape[0], -1))\n",
    "        Y = jnp.array(Y, dtype=jnp.float32).reshape((Y.shape[0], -1))\n",
    "        \n",
    "        \n",
    "        key, subkey = random.split(key)\n",
    "        seed += 1\n",
    "        for t in range(len(tests)):\n",
    "            test = tests[t]\n",
    "            if test == c2st_tst:\n",
    "                    model = MyModel(in_channels=3, img_size = 64, device=device, dtype=dtype)\n",
    "                    outputs[t][s][i] = c2st_tst(s1_tr, s2_tr, s1_te, s2_te, model, alpha, lr, n_epoch, seed, \n",
    "                                    loss_fn=model.smooth_objective, device=device)\n",
    "            \n",
    "            else:\n",
    "                outputs[t][s][i] = test(\n",
    "                    X,\n",
    "                    Y,\n",
    "                    subkey,\n",
    "                    seed,\n",
    "                )\n",
    "\n",
    "output = jnp.mean(jnp.array(outputs), -1)\n",
    "\n",
    "jnp.save(\"results/galaxy_vary_n.npy2\", output)\n",
    "jnp.save(\"results/galaxy_vary_n_x_axis.npy2\", sample_sizes)\n",
    "\n",
    "print(\"sample_sizes :\", sample_sizes)\n",
    "print(\"corruption :\", corruption)\n",
    "for t in range(len(tests)):\n",
    "    print(\" \")\n",
    "    print(tests[t])\n",
    "    print(output[t])"
   ]
  },
  {
   "cell_type": "markdown",
   "id": "921735c5-06c0-4c9e-b5c5-f5659a6a1b55",
   "metadata": {
    "tags": []
   },
   "source": [
    "# Environment autogluon-env"
   ]
  },
  {
   "cell_type": "code",
   "execution_count": null,
   "id": "79dca59a-65fe-4b11-9bbb-3a86d7ee04a2",
   "metadata": {
    "tags": []
   },
   "outputs": [],
   "source": [
    "from sampler_galaxy import load_images_list, sampler_galaxy\n",
    "import jax\n",
    "import jax.numpy as jnp\n",
    "from jax import random\n",
    "from tqdm.auto import tqdm\n",
    "from pathlib import Path\n",
    "Path(\"results\").mkdir(exist_ok=True)"
   ]
  },
  {
   "cell_type": "code",
   "execution_count": null,
   "id": "34fd9fbd-9595-46e1-a2cc-3a1081e9e363",
   "metadata": {
    "tags": []
   },
   "outputs": [],
   "source": [
    "import autotst\n",
    "from utils import HiddenPrints\n",
    "\n",
    "def autotst_test(X, Y, key, seed, time=60):\n",
    "    with HiddenPrints():\n",
    "        tst = autotst.AutoTST(X, Y, split_ratio=0.5, model=autotst.model.AutoGluonTabularPredictor)\n",
    "        tst.split_data()\n",
    "        tst.fit_witness(time_limit=time)  # time limit adjustable to your needs (in seconds)\n",
    "        p_value = tst.p_value_evaluate(permutations=10000)  # control number of permutations in the estimation\n",
    "    return int(p_value <= 0.05)"
   ]
  },
  {
   "cell_type": "code",
   "execution_count": null,
   "id": "f6692a5f-8b1e-4962-9cb8-ec96a41838bd",
   "metadata": {
    "tags": []
   },
   "outputs": [],
   "source": [
    "images_list = load_images_list(highres=False)"
   ]
  },
  {
   "cell_type": "markdown",
   "id": "d341133b-8a52-40f7-82e5-6c4dceb835c9",
   "metadata": {
    "tags": []
   },
   "source": [
    "## Vary difficulty"
   ]
  },
  {
   "cell_type": "code",
   "execution_count": null,
   "id": "1b998d2f-161b-4b7e-834c-6ab2bf44a009",
   "metadata": {
    "tags": []
   },
   "outputs": [],
   "source": [
    "repetitions = 200\n",
    "corruptions = (0.1, 0.15, 0.20, 0.25, 0.3, 0.35, 0.4)\n",
    "sample_size = 500\n",
    "\n",
    "tests = (autotst_test, )\n",
    "outputs = jnp.zeros((len(tests), len(corruptions), repetitions))\n",
    "outputs = outputs.tolist()\n",
    "key = random.PRNGKey(42)\n",
    "seed = 42\n",
    "for s in tqdm(range(len(corruptions))):\n",
    "    corruption = corruptions[s]\n",
    "    for i in tqdm(range(repetitions)):\n",
    "        key, subkey = random.split(key)\n",
    "        X, Y = sampler_galaxy(subkey, m=sample_size, n=sample_size, corruption=corruption, images_list=images_list)\n",
    "        X = jnp.array(X, dtype=jnp.float32).reshape((X.shape[0], -1))\n",
    "        Y = jnp.array(Y, dtype=jnp.float32).reshape((Y.shape[0], -1))\n",
    "        key, subkey = random.split(key)\n",
    "        seed += 1\n",
    "        for t in range(len(tests)):\n",
    "            test = tests[t]\n",
    "            outputs[t][s][i] = test(\n",
    "                X,\n",
    "                Y,\n",
    "                subkey,\n",
    "                seed,\n",
    "            )\n",
    "\n",
    "output = jnp.mean(jnp.array(outputs), -1)\n",
    "\n",
    "jnp.save(\"results/galaxy_vary_dif_autotst.npy\", output)\n",
    "\n",
    "print(\"corruptions :\", corruptions)\n",
    "print(\"sample size :\", sample_size)\n",
    "for t in range(len(tests)):\n",
    "    print(\" \")\n",
    "    print(tests[t])\n",
    "    print(output[t])"
   ]
  },
  {
   "cell_type": "markdown",
   "id": "17c73a50-a207-4629-8b37-3562209f8050",
   "metadata": {
    "tags": []
   },
   "source": [
    "## Vary sample size"
   ]
  },
  {
   "cell_type": "code",
   "execution_count": null,
   "id": "0918e812-1c34-42ab-bd22-0a18d760e4ec",
   "metadata": {
    "tags": []
   },
   "outputs": [],
   "source": [
    "repetitions = 200\n",
    "corruption = 0.15\n",
    "sample_sizes = (500, 1000, 1500, 2000, 2500, 3000)\n",
    "\n",
    "tests = (autotst_test, )\n",
    "outputs = jnp.zeros((len(tests), len(sample_sizes), repetitions))\n",
    "outputs = outputs.tolist()\n",
    "key = random.PRNGKey(42)\n",
    "seed = 42\n",
    "for s in tqdm(range(len(sample_sizes))):\n",
    "    sample_size = sample_sizes[s]\n",
    "    for i in tqdm(range(repetitions)):\n",
    "        key, subkey = random.split(key)\n",
    "        X, Y = sampler_galaxy(subkey, m=sample_size, n=sample_size, corruption=corruption, images_list=images_list)\n",
    "        X = jnp.array(X, dtype=jnp.float32).reshape((X.shape[0], -1))\n",
    "        Y = jnp.array(Y, dtype=jnp.float32).reshape((Y.shape[0], -1))\n",
    "        key, subkey = random.split(key)\n",
    "        seed += 1\n",
    "        for t in range(len(tests)):\n",
    "            test = tests[t]\n",
    "            outputs[t][s][i] = test(\n",
    "                X,\n",
    "                Y,\n",
    "                subkey,\n",
    "                seed,\n",
    "            )\n",
    "\n",
    "output = jnp.mean(jnp.array(outputs), -1)\n",
    "\n",
    "jnp.save(\"results/galaxy_vary_n_autotst.npy\", output)\n",
    "\n",
    "print(\"sample_sizes :\", sample_sizes)\n",
    "print(\"corruption :\", corruption)\n",
    "for t in range(len(tests)):\n",
    "    print(\" \")\n",
    "    print(tests[t])\n",
    "    print(output[t])\n",
    "\n"
   ]
  },
  {
   "cell_type": "code",
   "execution_count": null,
   "id": "05cdf4f9-7e14-479b-8f9a-b66c906235b2",
   "metadata": {
    "tags": []
   },
   "outputs": [],
   "source": [
    "# increase the time limit over the recommended amount\n",
    "# in order for autotst to have higher power\n",
    "\n",
    "repetitions = 200\n",
    "corruption = 0.15\n",
    "sample_sizes = (500, 1000, 1500, 2000, 2500, 3000)\n",
    "\n",
    "tests = (autotst_test, )\n",
    "outputs = jnp.zeros((len(tests), len(sample_sizes), repetitions))\n",
    "outputs = outputs.tolist()\n",
    "key = random.PRNGKey(42)\n",
    "seed = 42\n",
    "for s in tqdm(range(len(sample_sizes))):\n",
    "    sample_size = sample_sizes[s]\n",
    "    for i in tqdm(range(repetitions)):\n",
    "        key, subkey = random.split(key)\n",
    "        X, Y = sampler_galaxy(subkey, m=sample_size, n=sample_size, corruption=corruption, images_list=images_list)\n",
    "        X = jnp.array(X, dtype=jnp.float32).reshape((X.shape[0], -1))\n",
    "        Y = jnp.array(Y, dtype=jnp.float32).reshape((Y.shape[0], -1))\n",
    "        key, subkey = random.split(key)\n",
    "        seed += 1\n",
    "        for t in range(len(tests)):\n",
    "            test = tests[t]\n",
    "            outputs[t][s][i] = test(\n",
    "                X,\n",
    "                Y,\n",
    "                subkey,\n",
    "                seed,\n",
    "                time=3 * 60,\n",
    "            )\n",
    "\n",
    "output = jnp.mean(jnp.array(outputs), -1)\n",
    "\n",
    "jnp.save(\"results/galaxy_vary_n_autotst_3min.npy\", output)\n",
    "\n",
    "print(\"sample_sizes :\", sample_sizes)\n",
    "print(\"corruption :\", corruption)\n",
    "for t in range(len(tests)):\n",
    "    print(\" \")\n",
    "    print(tests[t])\n",
    "    print(output[t])\n"
   ]
  }
 ],
 "metadata": {
  "kernelspec": {
   "display_name": "Python 3 (ipykernel)",
   "language": "python",
   "name": "python3"
  },
  "language_info": {
   "codemirror_mode": {
    "name": "ipython",
    "version": 3
   },
   "file_extension": ".py",
   "mimetype": "text/x-python",
   "name": "python",
   "nbconvert_exporter": "python",
   "pygments_lexer": "ipython3",
   "version": "3.9.18"
  }
 },
 "nbformat": 4,
 "nbformat_minor": 5
}
