{
 "cells": [
  {
   "cell_type": "code",
   "execution_count": 1,
   "metadata": {},
   "outputs": [],
   "source": [
    "%load_ext autoreload \n",
    "%autoreload 2"
   ]
  },
  {
   "cell_type": "code",
   "execution_count": 3,
   "metadata": {},
   "outputs": [
    {
     "ename": "ModuleNotFoundError",
     "evalue": "No module named 'torch'",
     "output_type": "error",
     "traceback": [
      "\u001b[0;31m---------------------------------------------------------------------------\u001b[0m",
      "\u001b[0;31mModuleNotFoundError\u001b[0m                       Traceback (most recent call last)",
      "\u001b[1;32m/home/oldrain123/C2ST/cifar10.ipynb 셀 2\u001b[0m line \u001b[0;36m1\n\u001b[0;32m----> <a href='vscode-notebook-cell://ssh-remote%2B165.132.79.140/home/oldrain123/C2ST/cifar10.ipynb#W1sdnNjb2RlLXJlbW90ZQ%3D%3D?line=0'>1</a>\u001b[0m \u001b[39mimport\u001b[39;00m \u001b[39mtorch\u001b[39;00m\n\u001b[1;32m      <a href='vscode-notebook-cell://ssh-remote%2B165.132.79.140/home/oldrain123/C2ST/cifar10.ipynb#W1sdnNjb2RlLXJlbW90ZQ%3D%3D?line=1'>2</a>\u001b[0m \u001b[39mimport\u001b[39;00m \u001b[39mnumpy\u001b[39;00m \u001b[39mas\u001b[39;00m \u001b[39mnp\u001b[39;00m \n\u001b[1;32m      <a href='vscode-notebook-cell://ssh-remote%2B165.132.79.140/home/oldrain123/C2ST/cifar10.ipynb#W1sdnNjb2RlLXJlbW90ZQ%3D%3D?line=2'>3</a>\u001b[0m \u001b[39mfrom\u001b[39;00m \u001b[39mjax\u001b[39;00m \u001b[39mimport\u001b[39;00m random \n",
      "\u001b[0;31mModuleNotFoundError\u001b[0m: No module named 'torch'"
     ]
    }
   ],
   "source": [
    "import torch\n",
    "import numpy as np \n",
    "from jax import random \n",
    "import jax.numpy as jnp\n",
    "\n",
    "from torchvision import datasets\n",
    "from torch.utils.data import DataLoader\n",
    "import torchvision.transforms as transforms \n",
    "\n",
    "from tqdm.auto import tqdm \n",
    "from pathlib import Path\n",
    "Path(\"results\").mkdir(exist_ok=True)"
   ]
  },
  {
   "cell_type": "code",
   "execution_count": null,
   "metadata": {},
   "outputs": [],
   "source": [
    "# parameters \n",
    "N1 = 1000 \n",
    "img_size = 64\n",
    "batch_size = 100 \n",
    "K = 10 \n",
    "N = 100"
   ]
  },
  {
   "cell_type": "code",
   "execution_count": null,
   "metadata": {},
   "outputs": [],
   "source": [
    "# Load the CIFAR 10 data and CIFAR 10.1\n",
    "\n",
    "# Configure data loader\n",
    "dataset_test = datasets.CIFAR10(root='./cifar_data/cifar10', download=True,train=False,\n",
    "                           transform=transforms.Compose([\n",
    "                               transforms.Resize(img_size),\n",
    "                               transforms.ToTensor(),\n",
    "                               transforms.Normalize((0.5, 0.5, 0.5), (0.5, 0.5, 0.5)),\n",
    "                           ]))\n",
    "\n",
    "dataloader_test = torch.utils.data.DataLoader(dataset_test, batch_size=10000, shuffle=True, num_workers=1)\n",
    "\n",
    "# Obtain CIFAR10 images\n",
    "for i, (imgs, Labels) in enumerate(dataloader_test):\n",
    "    data_all = imgs\n",
    "    label_all = Labels\n",
    "Ind_all = np.arange(len(data_all))\n",
    "\n",
    "# Obtain CIFAR10.1 images\n",
    "data_new = np.load('./cifar_data/cifar10.1_v4_data.npy')\n",
    "data_T = np.transpose(data_new, [0,3,1,2])\n",
    "ind_M = np.random.choice(len(data_T), len(data_T), replace=False)\n",
    "data_T = data_T[ind_M]\n",
    "TT = transforms.Compose([transforms.Resize(img_size),transforms.ToTensor(),\n",
    "                               transforms.Normalize((0.5, 0.5, 0.5), (0.5, 0.5, 0.5))])\n",
    "trans = transforms.ToPILImage()\n",
    "data_trans = torch.zeros([len(data_T),3,img_size,img_size])\n",
    "data_T_tensor = torch.from_numpy(data_T)\n",
    "for i in range(len(data_T)):\n",
    "    d0 = trans(data_T_tensor[i])\n",
    "    data_trans[i] = TT(d0)\n",
    "Ind_v4_all = np.arange(len(data_T))"
   ]
  },
  {
   "cell_type": "code",
   "execution_count": null,
   "metadata": {},
   "outputs": [],
   "source": [
    "# seed \n",
    "seed = 0\n",
    "key = random.PRNGKey(42)\n"
   ]
  }
 ],
 "metadata": {
  "kernelspec": {
   "display_name": "base",
   "language": "python",
   "name": "python3"
  },
  "language_info": {
   "codemirror_mode": {
    "name": "ipython",
    "version": 3
   },
   "file_extension": ".py",
   "mimetype": "text/x-python",
   "name": "python",
   "nbconvert_exporter": "python",
   "pygments_lexer": "ipython3",
   "version": "3.9.15"
  },
  "orig_nbformat": 4
 },
 "nbformat": 4,
 "nbformat_minor": 2
}
