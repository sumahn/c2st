{
 "cells": [
  {
   "cell_type": "code",
   "execution_count": null,
   "metadata": {},
   "outputs": [],
   "source": [
    "import os\n",
    "\n",
    "os.environ[\"CUDA_VISIBLE_DEVICES\"] = \"4\""
   ]
  },
  {
   "cell_type": "code",
   "execution_count": 39,
   "metadata": {},
   "outputs": [],
   "source": [
    "import torch\n",
    "from simclr import SimCLR\n",
    "from model.resnet_simclr import ResNetSimCLR\n",
    "import torch.backends.cudnn as cudnn\n",
    "from tqdm.auto import tqdm\n",
    "import numpy as np\n",
    "import jax.numpy as jnp\n",
    "from torch.autograd import Variable\n",
    "from torch.utils.data import DataLoader\n",
    "from torchvision import datasets\n",
    "import torchvision.transforms as transforms\n",
    "\n",
    "from utils_HD import MatConvert, MMDu, TST_MMD_u"
   ]
  },
  {
   "cell_type": "code",
   "execution_count": 40,
   "metadata": {},
   "outputs": [],
   "source": [
    "class Config:\n",
    "    def __init__(self):\n",
    "        self.cifar10 = \"/data4/oldrain123/C2ST/data/cifar_data/cifar10\"\n",
    "        self.cifar10_1 = \"/data4/oldrain123/C2ST/data/cifar_data/cifar10.1_v4_data.npy\"\n",
    "        self.arch = 'resnet18'\n",
    "        self.workers = 12\n",
    "        self.epochs = 200\n",
    "        self.batch_size = 256\n",
    "        self.lr = 0.0003\n",
    "        self.weight_decay = 1e-4\n",
    "        self.seed = None\n",
    "        self.disable_cuda = False\n",
    "        self.fp16_precision = False\n",
    "        self.out_dim = 128\n",
    "        self.log_every_n_steps = 100\n",
    "        self.temperature = 0.07\n",
    "        self.n_views = 2\n",
    "        self.gpu_index = 0\n",
    "\n",
    "# Now you can create an instance of Config and access the attributes\n",
    "args = Config()\n",
    "\n",
    "if not args.disable_cuda and torch.cuda.is_available():\n",
    "        args.device = torch.device('cuda')\n",
    "        cudnn.deterministic = True \n",
    "        cudnn.benchmark = True \n",
    "else:\n",
    "    args.device = torch.device('cpu')\n",
    "    args.gpu_index = -1"
   ]
  },
  {
   "cell_type": "code",
   "execution_count": 36,
   "metadata": {},
   "outputs": [
    {
     "name": "stderr",
     "output_type": "stream",
     "text": [
      "/home/oldrain123/anaconda3/envs/mmdenv/lib/python3.9/site-packages/torchvision/models/_utils.py:208: UserWarning: The parameter 'pretrained' is deprecated since 0.13 and may be removed in the future, please use 'weights' instead.\n",
      "  warnings.warn(\n",
      "/home/oldrain123/anaconda3/envs/mmdenv/lib/python3.9/site-packages/torchvision/models/_utils.py:223: UserWarning: Arguments other than a weight enum or `None` for 'weights' are deprecated since 0.13 and may be removed in the future. The current behavior is equivalent to passing `weights=None`.\n",
      "  warnings.warn(msg)\n"
     ]
    }
   ],
   "source": [
    "model = ResNetSimCLR(base_model=args.arch, out_dim=args.out_dim)\n",
    "optimizer = torch.optim.Adam(model.parameters(), args.lr, weight_decay=args.weight_decay)\n",
    "scheduler = torch.optim.lr_scheduler.CosineAnnealingLR(optimizer, T_max=10000, eta_min=0,\n",
    "                                                        last_epoch=-1)\n",
    "\n",
    "simclr_model = SimCLR(args = args, model = model, optimizer = optimizer, scheduler = scheduler)"
   ]
  },
  {
   "cell_type": "code",
   "execution_count": 37,
   "metadata": {},
   "outputs": [],
   "source": [
    "checkpoint_path = '/home/oldrain123/C2ST/runs/Nov09_23-18-07_brl2/checkpoint_0200.pth.tar'\n",
    "checkpoint = torch.load(checkpoint_path, map_location=args.device)"
   ]
  },
  {
   "cell_type": "code",
   "execution_count": 38,
   "metadata": {},
   "outputs": [],
   "source": [
    "simclr_model.model.load_state_dict(checkpoint['state_dict'])\n",
    "simclr_model.optimizer.load_state_dict(checkpoint['optimizer'])"
   ]
  },
  {
   "cell_type": "code",
   "execution_count": 41,
   "metadata": {},
   "outputs": [],
   "source": [
    "np.random.seed(819)\n",
    "torch.manual_seed(819)\n",
    "torch.cuda.manual_seed(819)\n",
    "torch.backends.cudnn.deterministic = True\n",
    "is_cuda = True"
   ]
  },
  {
   "cell_type": "code",
   "execution_count": 42,
   "metadata": {},
   "outputs": [],
   "source": [
    "# Parameter Settings\n",
    "n_epochs = 1000\n",
    "batch_size = 100\n",
    "lr = 0.0002\n",
    "img_size = 64\n",
    "channels = 3\n",
    "n = 1000"
   ]
  },
  {
   "cell_type": "code",
   "execution_count": 43,
   "metadata": {},
   "outputs": [],
   "source": [
    "dtype = torch.float\n",
    "device = torch.device(\"cuda:0\")\n",
    "cuda = True if torch.cuda.is_available() else False\n",
    "N_per = 100 # permutation times\n",
    "alpha = 0.05 # test threshold\n",
    "N1 = n # number of samples in one set\n",
    "K = 10 # number of trails\n",
    "J = 1 # number of test locations\n",
    "N = 100 # number of test sets\n",
    "N_f = 100.0 # number of test sets (float)"
   ]
  },
  {
   "cell_type": "code",
   "execution_count": 44,
   "metadata": {},
   "outputs": [],
   "source": [
    "# Naming variables\n",
    "ep_OPT = np.zeros([K])\n",
    "s_OPT = np.zeros([K])\n",
    "s0_OPT = np.zeros([K])\n",
    "T_org_OPT = torch.zeros([K,J,3,64,64]) # Record test locations obtained by MMD-D\n",
    "DK_Results = np.zeros([1,K])"
   ]
  },
  {
   "cell_type": "code",
   "execution_count": 45,
   "metadata": {},
   "outputs": [
    {
     "name": "stdout",
     "output_type": "stream",
     "text": [
      "Files already downloaded and verified\n"
     ]
    }
   ],
   "source": [
    "# Configure data loader\n",
    "dataset_test = datasets.CIFAR10(root='/data4/oldrain123/C2ST/data/cifar_data/cifar10', download=True,train=False,\n",
    "                           transform=transforms.Compose([\n",
    "                               transforms.Resize(img_size),\n",
    "                               transforms.ToTensor(),\n",
    "                               transforms.Normalize((0.5, 0.5, 0.5), (0.5, 0.5, 0.5)),\n",
    "                           ]))\n",
    "\n",
    "dataloader_test = torch.utils.data.DataLoader(dataset_test, batch_size=10000,\n",
    "                                             shuffle=True, num_workers=1)\n",
    "# Obtain CIFAR10 images\n",
    "for i, (imgs, Labels) in enumerate(dataloader_test):\n",
    "    data_all = imgs\n",
    "    label_all = Labels\n",
    "Ind_all = np.arange(len(data_all))\n",
    "\n",
    "# Obtain CIFAR10.1 images\n",
    "data_new = np.load('/data4/oldrain123/C2ST/data/cifar10_1/cifar10.1_v4_data.npy')\n",
    "data_T = np.transpose(data_new, [0,3,1,2])\n",
    "ind_M = np.random.choice(len(data_T), len(data_T), replace=False)\n",
    "data_T = data_T[ind_M]\n",
    "TT = transforms.Compose([transforms.Resize(img_size),transforms.ToTensor(),\n",
    "                               transforms.Normalize((0.5, 0.5, 0.5), (0.5, 0.5, 0.5))])\n",
    "trans = transforms.ToPILImage()\n",
    "data_trans = torch.zeros([len(data_T),3,img_size,img_size])\n",
    "data_T_tensor = torch.from_numpy(data_T)\n",
    "for i in range(len(data_T)):\n",
    "    d0 = trans(data_T_tensor[i])\n",
    "    data_trans[i] = TT(d0)\n",
    "Ind_v4_all = np.arange(len(data_T))"
   ]
  },
  {
   "cell_type": "code",
   "execution_count": null,
   "metadata": {},
   "outputs": [],
   "source": [
    "# Repeat experiments K times (K = 10) and report average test power (rejection rate)\n",
    "for kk in tqdm(range(K)):\n",
    "    torch.manual_seed(kk * 19 + N1)\n",
    "    torch.cuda.manual_seed(kk * 19 + N1)\n",
    "    np.random.seed(seed=1102 * (kk + 10) + N1)\n",
    "    \n",
    "    # Initialize parameters\n",
    "\n",
    "    # Collect CIFAR10 images\n",
    "    Ind_tr = np.random.choice(len(data_all), len(data_all), replace=False)\n",
    "    Ind_te = Ind_tr\n",
    "    train_data = []\n",
    "    for i in Ind_tr:\n",
    "       train_data.append([data_all[i], label_all[i]])\n",
    "\n",
    "    dataloader = torch.utils.data.DataLoader(\n",
    "        train_data,\n",
    "        batch_size=batch_size,\n",
    "        shuffle=True,\n",
    "    )\n",
    "\n",
    "    # Collect CIFAR10.1 images\n",
    "    np.random.seed(seed=819 * (kk + 9) + N1)\n",
    "    Ind_tr_v4 = np.random.choice(len(data_T), len(data_T), replace=False)\n",
    "    Ind_te_v4 = Ind_tr_v4\n",
    "    New_CIFAR_tr = data_trans[Ind_tr_v4]\n",
    "    New_CIFAR_te = data_trans[Ind_te_v4]\n",
    "\n",
    "    # Initialize optimizers\n",
    "    optimizer_F = torch.optim.Adam(list(simclr_model.model.parameters()), lr=lr)\n",
    "    Tensor = torch.cuda.FloatTensor if cuda else torch.FloatTensor\n",
    "\n",
    "    # ----------------------------------------------------------------------------------------------------\n",
    "    #  Training deep networks for MMD-D (called simclr_model)\n",
    "    # ----------------------------------------------------------------------------------------------------\n",
    "    np.random.seed(seed=1102)\n",
    "    torch.manual_seed(1102)\n",
    "    torch.cuda.manual_seed(1102)\n",
    "    for epoch in tqdm(range(n_epochs)):\n",
    "        for i, (imgs, _) in enumerate(dataloader):\n",
    "            if True:\n",
    "                ind = np.random.choice(N1, imgs.shape[0], replace=False)\n",
    "                Fake_imgs = New_CIFAR_tr[ind]\n",
    "                # Adversarial ground truths\n",
    "                valid = Variable(Tensor(imgs.shape[0], 1).fill_(1.0), requires_grad=False)\n",
    "                fake = Variable(Tensor(imgs.shape[0], 1).fill_(0.0), requires_grad=False)\n",
    "\n",
    "                # Configure input\n",
    "                real_imgs = Variable(imgs.type(Tensor))\n",
    "                Fake_imgs = Variable(Fake_imgs.type(Tensor))\n",
    "                X = torch.cat([real_imgs, Fake_imgs], 0)\n",
    "                Y = torch.cat([valid, fake], 0).squeeze().long()\n",
    "\n",
    "                # ------------------------------\n",
    "                #  Train deep network for MMD-D\n",
    "                # ------------------------------\n",
    "                # Initialize optimizer\n",
    "                optimizer_F.zero_grad()\n",
    "                # Compute output of deep network\n",
    "                modelu_output = simclr_model.model(X)\n",
    "                print(modelu_output)"
   ]
  },
  {
   "cell_type": "code",
   "execution_count": 46,
   "metadata": {},
   "outputs": [
    {
     "data": {
      "application/vnd.jupyter.widget-view+json": {
       "model_id": "2212ce51ac6b4ac3b733b48bd15442a2",
       "version_major": 2,
       "version_minor": 0
      },
      "text/plain": [
       "  0%|          | 0/10 [00:00<?, ?it/s]"
      ]
     },
     "metadata": {},
     "output_type": "display_data"
    },
    {
     "data": {
      "application/vnd.jupyter.widget-view+json": {
       "model_id": "7e3a6408880c4373a47187156c2f9da2",
       "version_major": 2,
       "version_minor": 0
      },
      "text/plain": [
       "  0%|          | 0/100 [00:00<?, ?it/s]"
      ]
     },
     "metadata": {},
     "output_type": "display_data"
    },
    {
     "name": "stderr",
     "output_type": "stream",
     "text": [
      "WARNING:jax._src.xla_bridge:CUDA backend failed to initialize: Found CUDA version 12010, but JAX was built against version 12020, which is newer. The copy of CUDA that is installed must be at least as new as the version against which JAX was built. (Set TF_CPP_MIN_LOG_LEVEL=0 and rerun for more info.)\n"
     ]
    },
    {
     "name": "stdout",
     "output_type": "stream",
     "text": [
      " MMD-DK: 5 MMD:  -7.303032134586829e-08DK Reject rate_u:  0.05\n",
      "Test Power of DK (10 times): \n",
      "[[0.05 0.   0.   0.   0.   0.   0.   0.   0.   0.  ]]\n",
      "Average Test Power of DK (10 times): \n",
      "MMD-D:  0.05\n"
     ]
    },
    {
     "data": {
      "application/vnd.jupyter.widget-view+json": {
       "model_id": "f3d1457c31254a2b84ba0a8c8dd6bfc8",
       "version_major": 2,
       "version_minor": 0
      },
      "text/plain": [
       "  0%|          | 0/100 [00:00<?, ?it/s]"
      ]
     },
     "metadata": {},
     "output_type": "display_data"
    },
    {
     "name": "stdout",
     "output_type": "stream",
     "text": [
      " MMD-DK: 0 MMD:  3.837164399556059e-0797"
     ]
    }
   ],
   "source": [
    "# Repeat experiments K times (K = 10) and report average test power (rejection rate)\n",
    "for kk in tqdm(range(K)):\n",
    "    torch.manual_seed(kk * 19 + N1)\n",
    "    torch.cuda.manual_seed(kk * 19 + N1)\n",
    "    np.random.seed(seed=1102 * (kk + 10) + N1)\n",
    "    \n",
    "    # Initialize deep networks for MMD-D (called simclr_model)\n",
    "    # simclr_model = simclr_model()\n",
    "    \n",
    "    # Initialize parameters\n",
    "    epsilonOPT = torch.log(MatConvert(np.random.rand(1) * 10 ** (-10), device, dtype))\n",
    "    epsilonOPT.requires_grad = True\n",
    "    sigmaOPT = MatConvert(np.ones(1) * np.sqrt(2 * 32 * 32), device, dtype)\n",
    "    sigmaOPT.requires_grad = True\n",
    "    sigma0OPT = MatConvert(np.ones(1) * np.sqrt(0.005), device, dtype)\n",
    "    sigma0OPT.requires_grad = True\n",
    "\n",
    "    # Collect CIFAR10 images\n",
    "    Ind_tr = np.random.choice(len(data_all), len(data_all), replace=False)\n",
    "    Ind_te = Ind_tr\n",
    "    train_data = []\n",
    "    for i in Ind_tr:\n",
    "       train_data.append([data_all[i], label_all[i]])\n",
    "\n",
    "    dataloader = torch.utils.data.DataLoader(\n",
    "        train_data,\n",
    "        batch_size=batch_size,\n",
    "        shuffle=True,\n",
    "    )\n",
    "\n",
    "    # Collect CIFAR10.1 images\n",
    "    np.random.seed(seed=819 * (kk + 9) + N1)\n",
    "    Ind_tr_v4 = np.random.choice(len(data_T), len(data_T), replace=False)\n",
    "    Ind_te_v4 = Ind_tr_v4\n",
    "    New_CIFAR_tr = data_trans[Ind_tr_v4]\n",
    "    New_CIFAR_te = data_trans[Ind_te_v4]\n",
    "\n",
    "    # Initialize optimizers\n",
    "    optimizer_F = torch.optim.Adam(list(simclr_model.model.parameters()) + [epsilonOPT] + [sigmaOPT] + [sigma0OPT], lr=lr)\n",
    "\n",
    "    Tensor = torch.cuda.FloatTensor if cuda else torch.FloatTensor\n",
    "\n",
    "    # ----------------------------------------------------------------------------------------------------\n",
    "    #  Training deep networks for MMD-D (called simclr_model)\n",
    "    # ----------------------------------------------------------------------------------------------------\n",
    "    np.random.seed(seed=1102)\n",
    "    torch.manual_seed(1102)\n",
    "    torch.cuda.manual_seed(1102)\n",
    "\n",
    "    # Run two-sample test on the training set\n",
    "    # Fetch training data\n",
    "    s1 = data_all[Ind_tr]\n",
    "    s2 = data_trans[Ind_tr_v4]\n",
    "    S = torch.cat([s1.cpu(), s2.cpu()], 0).cuda()\n",
    "    Sv = S.view(2 * N1, -1)\n",
    "    # Run two-sample test (MMD-D) on the training set\n",
    "    # dk_h_u, dk_threshold_u, dk_mmd_value_u = TST_MMD_u(featurizer(S), N_per, N1, Sv, sigma, sigma0_u, ep, alpha, device, dtype, complete=False)\n",
    "    # com_h_u, com_threshold_u, com_mmd_value_u = TST_MMD_u(featurizer(S), N_per, N1, Sv, sigma, sigma0_u, ep, alpha, device, dtype, complete=True)\n",
    "\n",
    "    # Record best epsilon, sigma and sigma_0\n",
    "    ep_OPT[kk] = epsilonOPT.item()\n",
    "    s_OPT[kk] = sigmaOPT\n",
    "    s0_OPT[kk] = sigma0OPT\n",
    "\n",
    "    # Compute test power of MMD-D and baselines\n",
    "    DK_H_u = np.zeros(N)\n",
    "\n",
    "    np.random.seed(1102)\n",
    "    dk_count_u = 0\n",
    "\n",
    "    for k in tqdm(range(N)):\n",
    "        # Fetch test data\n",
    "        np.random.seed(seed=1102 * (k + 1) + N1)\n",
    "        data_all_te = data_all[Ind_te]\n",
    "        N_te = len(data_trans)-N1\n",
    "        Ind_N_te = np.random.choice(len(Ind_te), N_te, replace=False)\n",
    "        s1 = data_all_te[Ind_N_te]\n",
    "        s2 = data_trans[Ind_te_v4]\n",
    "        S = torch.cat([s1.cpu(), s2.cpu()], 0).cuda()\n",
    "        Sv = S.view(2 * N_te, -1)\n",
    "        # MMD-D\n",
    "        dk_h_u, dk_threshold_u, dk_mmd_value_u = TST_MMD_u(simclr_model.model(S), N_per, N_te, Sv, sigmaOPT, sigma0OPT, epsilonOPT, alpha, device, dtype, complete=False)\n",
    "\n",
    "        # Gather results\n",
    "        dk_count_u = dk_count_u + dk_h_u\n",
    "        print(\"\\r\",\"MMD-DK:\", dk_count_u, \"MMD: \", dk_mmd_value_u, end=\"\")\n",
    "        DK_H_u[k] = dk_h_u\n",
    "\n",
    "    # Print test power of MMD-D and baselines\n",
    "    print(\"DK Reject rate_u: \", DK_H_u.sum() / N_f)\n",
    "    DK_Results[0, kk] = DK_H_u.sum() / N_f\n",
    "    print(f\"Test Power of DK ({K} times): \")\n",
    "    print(f\"{DK_Results}\")\n",
    "    print(f\"Average Test Power of DK ({K} times): \")\n",
    "    print(\"MMD-D: \", (DK_Results.sum(1) / (kk + 1))[0])"
   ]
  },
  {
   "cell_type": "code",
   "execution_count": null,
   "metadata": {},
   "outputs": [],
   "source": []
  }
 ],
 "metadata": {
  "kernelspec": {
   "display_name": "mmdenv",
   "language": "python",
   "name": "python3"
  },
  "language_info": {
   "codemirror_mode": {
    "name": "ipython",
    "version": 3
   },
   "file_extension": ".py",
   "mimetype": "text/x-python",
   "name": "python",
   "nbconvert_exporter": "python",
   "pygments_lexer": "ipython3",
   "version": "3.9.13"
  }
 },
 "nbformat": 4,
 "nbformat_minor": 2
}
