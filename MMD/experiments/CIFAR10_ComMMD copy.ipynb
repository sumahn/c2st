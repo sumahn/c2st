{
 "cells": [
  {
   "cell_type": "code",
   "execution_count": 1,
   "metadata": {},
   "outputs": [],
   "source": [
    "%load_ext autoreload \n",
    "%autoreload 2"
   ]
  },
  {
   "cell_type": "code",
   "execution_count": 2,
   "metadata": {},
   "outputs": [],
   "source": [
    "import os\n",
    "os.chdir('/home/oldrain123/MMD/')\n",
    "os.environ[\"CUDA_VISIBLE_DEVICES\"] = \"5\""
   ]
  },
  {
   "cell_type": "code",
   "execution_count": 3,
   "metadata": {},
   "outputs": [],
   "source": [
    "from tqdm.auto import tqdm\n",
    "\n",
    "import numpy as np\n",
    "import torch\n",
    "import torch.nn as nn\n",
    "from torch.autograd import Variable\n",
    "from torch.utils.data import DataLoader\n",
    "from torchvision import datasets\n",
    "import torchvision.transforms as transforms\n",
    "\n",
    "from utils_HD import MatConvert, MMDu, TST_MMD_u"
   ]
  },
  {
   "cell_type": "code",
   "execution_count": 4,
   "metadata": {},
   "outputs": [],
   "source": [
    "np.random.seed(819)\n",
    "torch.manual_seed(819)\n",
    "torch.cuda.manual_seed(819)\n",
    "torch.backends.cudnn.deterministic = True\n",
    "is_cuda = True"
   ]
  },
  {
   "cell_type": "code",
   "execution_count": 5,
   "metadata": {},
   "outputs": [],
   "source": [
    "# Parameter Settings\n",
    "n_epochs = 27\n",
    "batch_size = 1000\n",
    "lr = 0.0002\n",
    "img_size = 64\n",
    "channels = 3\n",
    "n = 1000"
   ]
  },
  {
   "cell_type": "code",
   "execution_count": 6,
   "metadata": {},
   "outputs": [],
   "source": [
    "dtype = torch.float\n",
    "device = torch.device(\"cuda:0\")\n",
    "cuda = True if torch.cuda.is_available() else False\n",
    "N_per = 100 # permutation times\n",
    "alpha = 0.05 # test threshold\n",
    "N1 = n # number of samples in one set\n",
    "K = 10 # number of trails\n",
    "J = 1 # number of test locations\n",
    "N = 100 # number of test sets\n",
    "N_f = 100.0 # number of test sets (float)"
   ]
  },
  {
   "cell_type": "code",
   "execution_count": 7,
   "metadata": {},
   "outputs": [],
   "source": [
    "# Naming variables\n",
    "ep_OPT = np.zeros([K])\n",
    "s_OPT = np.zeros([K])\n",
    "s0_OPT = np.zeros([K])\n",
    "T_org_OPT = torch.zeros([K,J,3,64,64]) # Record test locations obtained by MMD-D\n",
    "COM_Results = np.zeros([1,K])"
   ]
  },
  {
   "cell_type": "code",
   "execution_count": 8,
   "metadata": {},
   "outputs": [],
   "source": [
    "class Featurizer_COM(nn.Module):\n",
    "    def __init__(self):\n",
    "        super(Featurizer_COM, self).__init__()\n",
    "        \n",
    "        def discriminator_block(in_filters, out_filters, bn=True):\n",
    "            block = [nn.Conv2d(in_filters, out_filters, 3, 2, 1), nn.LeakyReLU(0.2, inplace=True), nn.Dropout2d(0)]\n",
    "            if bn:\n",
    "                block.append(nn.BatchNorm2d(out_filters, 0.8))\n",
    "            return block\n",
    "\n",
    "        self.model = nn.Sequential(\n",
    "            *discriminator_block(channels, 16, bn=False),\n",
    "            *discriminator_block(16, 32),\n",
    "            *discriminator_block(32, 64),\n",
    "            *discriminator_block(64, 128),\n",
    "        )\n",
    "        \n",
    "        ds_size = img_size // 2 ** 4\n",
    "        self.adv_layer = nn.Sequential(\n",
    "            nn.Linear(128 * ds_size ** 2, 300)\n",
    "        )\n",
    "        \n",
    "    def forward(self, img):\n",
    "        out = self.model(img)\n",
    "        out = out.view(out.shape[0], -1)\n",
    "        feature = self.adv_layer(out)\n",
    "        return feature "
   ]
  },
  {
   "cell_type": "code",
   "execution_count": 9,
   "metadata": {},
   "outputs": [
    {
     "name": "stdout",
     "output_type": "stream",
     "text": [
      "Files already downloaded and verified\n"
     ]
    }
   ],
   "source": [
    "# Configure data loader\n",
    "dataset_test = datasets.CIFAR10(root='/data4/oldrain123/C2ST/data/cifar_data/cifar10', download=True,train=False,\n",
    "                           transform=transforms.Compose([\n",
    "                               transforms.Resize(img_size),\n",
    "                               transforms.ToTensor(),\n",
    "                               transforms.Normalize((0.5, 0.5, 0.5), (0.5, 0.5, 0.5)),\n",
    "                           ]))\n",
    "\n",
    "dataloader_test = torch.utils.data.DataLoader(dataset_test, batch_size=10000,\n",
    "                                             shuffle=True, num_workers=1)\n",
    "# Obtain CIFAR10 images\n",
    "for i, (imgs, Labels) in enumerate(dataloader_test):\n",
    "    data_all = imgs\n",
    "    label_all = Labels\n",
    "Ind_all = np.arange(len(data_all))\n",
    "\n",
    "# Obtain CIFAR10.1 images\n",
    "data_new = np.load('/data4/oldrain123/C2ST/data/cifar10_1/cifar10.1_v4_data.npy')\n",
    "data_T = np.transpose(data_new, [0,3,1,2])\n",
    "ind_M = np.random.choice(len(data_T), len(data_T), replace=False)\n",
    "data_T = data_T[ind_M]\n",
    "TT = transforms.Compose([transforms.Resize(img_size),transforms.ToTensor(),\n",
    "                               transforms.Normalize((0.5, 0.5, 0.5), (0.5, 0.5, 0.5))])\n",
    "trans = transforms.ToPILImage()\n",
    "data_trans = torch.zeros([len(data_T),3,img_size,img_size])\n",
    "data_T_tensor = torch.from_numpy(data_T)\n",
    "for i in range(len(data_T)):\n",
    "    d0 = trans(data_T_tensor[i])\n",
    "    data_trans[i] = TT(d0)\n",
    "Ind_v4_all = np.arange(len(data_T))"
   ]
  },
  {
   "cell_type": "code",
   "execution_count": 10,
   "metadata": {},
   "outputs": [
    {
     "data": {
      "application/vnd.jupyter.widget-view+json": {
       "model_id": "0adb1ffadae04ec995f1854513bf3b70",
       "version_major": 2,
       "version_minor": 0
      },
      "text/plain": [
       "  0%|          | 0/10 [00:00<?, ?it/s]"
      ]
     },
     "metadata": {},
     "output_type": "display_data"
    },
    {
     "data": {
      "application/vnd.jupyter.widget-view+json": {
       "model_id": "808cf6243ff948c5a2a4ac61955920dd",
       "version_major": 2,
       "version_minor": 0
      },
      "text/plain": [
       "  0%|          | 0/27 [00:00<?, ?it/s]"
      ]
     },
     "metadata": {},
     "output_type": "display_data"
    },
    {
     "name": "stderr",
     "output_type": "stream",
     "text": [
      "/tmp/ipykernel_3713727/655087910.py:60: UserWarning: The torch.cuda.*DtypeTensor constructors are no longer recommended. It's best to use methods such as torch.tensor(data, dtype=*, device='cuda') to create tensors. (Triggered internally at /opt/conda/conda-bld/pytorch_1699449200967/work/torch/csrc/tensor/python_tensor.cpp:83.)\n",
      "  valid = Variable(Tensor(imgs.shape[0], 1).fill_(1.0), requires_grad=False)\n"
     ]
    },
    {
     "name": "stdout",
     "output_type": "stream",
     "text": [
      "==============================================================================================================\n",
      "epoch :  10\n",
      "our mmd:  0.0028620008379220963 our mmd_std:  0.003219379576146217 our statistic:  0.888991425282034\n",
      "==============================================================================================================\n",
      "epoch :  20\n",
      "our mmd:  0.010806561447679996 our mmd_std:  0.003369243959734039 our statistic:  3.207414356701271\n"
     ]
    },
    {
     "data": {
      "application/vnd.jupyter.widget-view+json": {
       "model_id": "ca6eaa05456d46b184128606adad72d7",
       "version_major": 2,
       "version_minor": 0
      },
      "text/plain": [
       "  0%|          | 0/100 [00:00<?, ?it/s]"
      ]
     },
     "metadata": {},
     "output_type": "display_data"
    },
    {
     "name": "stdout",
     "output_type": "stream",
     "text": [
      " Ours: 23 MMD:  7.189810276031494e-07Our Reject rate_u:  0.23\n",
      "Test Power of Ours (10 times): \n",
      "[[0.23 0.   0.   0.   0.   0.   0.   0.   0.   0.  ]]\n",
      "Average Test Power of Ours (10 times): \n",
      "Ours:  0.23\n"
     ]
    },
    {
     "data": {
      "application/vnd.jupyter.widget-view+json": {
       "model_id": "a9b49ecdefef408a8284359d67a84d6e",
       "version_major": 2,
       "version_minor": 0
      },
      "text/plain": [
       "  0%|          | 0/27 [00:00<?, ?it/s]"
      ]
     },
     "metadata": {},
     "output_type": "display_data"
    },
    {
     "name": "stdout",
     "output_type": "stream",
     "text": [
      "==============================================================================================================\n",
      "epoch :  10\n",
      "our mmd:  0.002383144572377205 our mmd_std:  0.003199177390327549 our statistic:  0.7449241731897854\n",
      "==============================================================================================================\n",
      "epoch :  20\n",
      "our mmd:  0.009383775293827057 our mmd_std:  0.003337348050974185 our statistic:  2.811746078173625\n"
     ]
    },
    {
     "data": {
      "application/vnd.jupyter.widget-view+json": {
       "model_id": "7509a8fe20fb4e398c92dfc775fd97d3",
       "version_major": 2,
       "version_minor": 0
      },
      "text/plain": [
       "  0%|          | 0/100 [00:00<?, ?it/s]"
      ]
     },
     "metadata": {},
     "output_type": "display_data"
    },
    {
     "name": "stdout",
     "output_type": "stream",
     "text": [
      " Ours: 85 MMD:  0.0002751350402832031Our Reject rate_u:  0.85\n",
      "Test Power of Ours (10 times): \n",
      "[[0.23 0.85 0.   0.   0.   0.   0.   0.   0.   0.  ]]\n",
      "Average Test Power of Ours (10 times): \n",
      "Ours:  0.54\n"
     ]
    },
    {
     "data": {
      "application/vnd.jupyter.widget-view+json": {
       "model_id": "fe4e6c75b74f4736814e63c52a55e9e3",
       "version_major": 2,
       "version_minor": 0
      },
      "text/plain": [
       "  0%|          | 0/27 [00:00<?, ?it/s]"
      ]
     },
     "metadata": {},
     "output_type": "display_data"
    },
    {
     "name": "stdout",
     "output_type": "stream",
     "text": [
      "==============================================================================================================\n",
      "epoch :  10\n",
      "our mmd:  0.001443241722881794 our mmd_std:  0.0031824394700845767 our statistic:  0.45350170410104873\n",
      "==============================================================================================================\n",
      "epoch :  20\n",
      "our mmd:  0.007835584692656994 our mmd_std:  0.003302781165105821 our statistic:  2.3724201819486708\n"
     ]
    },
    {
     "data": {
      "application/vnd.jupyter.widget-view+json": {
       "model_id": "e33c2322c60f4ee4a80073e34c79e278",
       "version_major": 2,
       "version_minor": 0
      },
      "text/plain": [
       "  0%|          | 0/100 [00:00<?, ?it/s]"
      ]
     },
     "metadata": {},
     "output_type": "display_data"
    },
    {
     "name": "stdout",
     "output_type": "stream",
     "text": [
      " Ours: 36 MMD:  0.0001935381442308426Our Reject rate_u:  0.36\n",
      "Test Power of Ours (10 times): \n",
      "[[0.23 0.85 0.36 0.   0.   0.   0.   0.   0.   0.  ]]\n",
      "Average Test Power of Ours (10 times): \n",
      "Ours:  0.48\n"
     ]
    },
    {
     "data": {
      "application/vnd.jupyter.widget-view+json": {
       "model_id": "eeb5dfa5824a4c4cbd31857f0c125149",
       "version_major": 2,
       "version_minor": 0
      },
      "text/plain": [
       "  0%|          | 0/27 [00:00<?, ?it/s]"
      ]
     },
     "metadata": {},
     "output_type": "display_data"
    },
    {
     "name": "stdout",
     "output_type": "stream",
     "text": [
      "==============================================================================================================\n",
      "epoch :  10\n",
      "our mmd:  0.0026806723326444626 our mmd_std:  0.0032072691081319986 our statistic:  0.8358114776984709\n",
      "==============================================================================================================\n",
      "epoch :  20\n",
      "our mmd:  0.010435696691274643 our mmd_std:  0.0033483600766098277 our statistic:  3.1166590368144202\n"
     ]
    },
    {
     "data": {
      "application/vnd.jupyter.widget-view+json": {
       "model_id": "1f26a5f2e0294b1b8c1a7b0d6b925ec2",
       "version_major": 2,
       "version_minor": 0
      },
      "text/plain": [
       "  0%|          | 0/100 [00:00<?, ?it/s]"
      ]
     },
     "metadata": {},
     "output_type": "display_data"
    },
    {
     "name": "stdout",
     "output_type": "stream",
     "text": [
      " Ours: 35 MMD:  0.00014770962297916412Our Reject rate_u:  0.35\n",
      "Test Power of Ours (10 times): \n",
      "[[0.23 0.85 0.36 0.35 0.   0.   0.   0.   0.   0.  ]]\n",
      "Average Test Power of Ours (10 times): \n",
      "Ours:  0.4475\n"
     ]
    },
    {
     "data": {
      "application/vnd.jupyter.widget-view+json": {
       "model_id": "c1c9fb4068274d1988381706d2350963",
       "version_major": 2,
       "version_minor": 0
      },
      "text/plain": [
       "  0%|          | 0/27 [00:00<?, ?it/s]"
      ]
     },
     "metadata": {},
     "output_type": "display_data"
    },
    {
     "name": "stdout",
     "output_type": "stream",
     "text": [
      "==============================================================================================================\n",
      "epoch :  10\n",
      "our mmd:  0.002257036045193672 our mmd_std:  0.003199018996274458 our statistic:  0.7055400570681798\n",
      "==============================================================================================================\n",
      "epoch :  20\n",
      "our mmd:  0.009297732263803482 our mmd_std:  0.0033126118820121435 our statistic:  2.8067677696536735\n"
     ]
    },
    {
     "data": {
      "application/vnd.jupyter.widget-view+json": {
       "model_id": "50a435fb96d14d9cba46c625951f5d9f",
       "version_major": 2,
       "version_minor": 0
      },
      "text/plain": [
       "  0%|          | 0/100 [00:00<?, ?it/s]"
      ]
     },
     "metadata": {},
     "output_type": "display_data"
    },
    {
     "name": "stdout",
     "output_type": "stream",
     "text": [
      " Ours: 71 MMD:  0.0001420937478542328Our Reject rate_u:  0.71\n",
      "Test Power of Ours (10 times): \n",
      "[[0.23 0.85 0.36 0.35 0.71 0.   0.   0.   0.   0.  ]]\n",
      "Average Test Power of Ours (10 times): \n",
      "Ours:  0.5\n"
     ]
    },
    {
     "data": {
      "application/vnd.jupyter.widget-view+json": {
       "model_id": "ca97c310357d4365a11a5118170f92ec",
       "version_major": 2,
       "version_minor": 0
      },
      "text/plain": [
       "  0%|          | 0/27 [00:00<?, ?it/s]"
      ]
     },
     "metadata": {},
     "output_type": "display_data"
    },
    {
     "name": "stdout",
     "output_type": "stream",
     "text": [
      "==============================================================================================================\n",
      "epoch :  10\n",
      "our mmd:  0.003202039748430252 our mmd_std:  0.0032313244309268158 our statistic:  0.990937250925261\n",
      "==============================================================================================================\n",
      "epoch :  20\n",
      "our mmd:  0.01054326817393303 our mmd_std:  0.003352949533850999 our statistic:  3.1444756527020123\n"
     ]
    },
    {
     "data": {
      "application/vnd.jupyter.widget-view+json": {
       "model_id": "a7fc415a77724fc5a3bbb85c4fa32bbd",
       "version_major": 2,
       "version_minor": 0
      },
      "text/plain": [
       "  0%|          | 0/100 [00:00<?, ?it/s]"
      ]
     },
     "metadata": {},
     "output_type": "display_data"
    },
    {
     "name": "stdout",
     "output_type": "stream",
     "text": [
      " Ours: 5 MMD:  -4.476122558116913e-05Our Reject rate_u:  0.05\n",
      "Test Power of Ours (10 times): \n",
      "[[0.23 0.85 0.36 0.35 0.71 0.05 0.   0.   0.   0.  ]]\n",
      "Average Test Power of Ours (10 times): \n",
      "Ours:  0.425\n"
     ]
    },
    {
     "data": {
      "application/vnd.jupyter.widget-view+json": {
       "model_id": "29b3653e806449158d7883ec0df8421f",
       "version_major": 2,
       "version_minor": 0
      },
      "text/plain": [
       "  0%|          | 0/27 [00:00<?, ?it/s]"
      ]
     },
     "metadata": {},
     "output_type": "display_data"
    },
    {
     "name": "stdout",
     "output_type": "stream",
     "text": [
      "==============================================================================================================\n",
      "epoch :  10\n",
      "our mmd:  0.0037458911538124084 our mmd_std:  0.0032449920198228004 our statistic:  1.1543606674314597\n",
      "==============================================================================================================\n",
      "epoch :  20\n",
      "our mmd:  0.011906946077942848 our mmd_std:  0.003391073104422399 our statistic:  3.511261984418633\n"
     ]
    },
    {
     "data": {
      "application/vnd.jupyter.widget-view+json": {
       "model_id": "8d41e240ce0c4d39a0a4d55c8ede6a94",
       "version_major": 2,
       "version_minor": 0
      },
      "text/plain": [
       "  0%|          | 0/100 [00:00<?, ?it/s]"
      ]
     },
     "metadata": {},
     "output_type": "display_data"
    },
    {
     "name": "stdout",
     "output_type": "stream",
     "text": [
      " Ours: 41 MMD:  0.00014532171189785004Our Reject rate_u:  0.41\n",
      "Test Power of Ours (10 times): \n",
      "[[0.23 0.85 0.36 0.35 0.71 0.05 0.41 0.   0.   0.  ]]\n",
      "Average Test Power of Ours (10 times): \n",
      "Ours:  0.4228571428571429\n"
     ]
    },
    {
     "data": {
      "application/vnd.jupyter.widget-view+json": {
       "model_id": "a8daa8ae04d045fdb3ea34562e1ab104",
       "version_major": 2,
       "version_minor": 0
      },
      "text/plain": [
       "  0%|          | 0/27 [00:00<?, ?it/s]"
      ]
     },
     "metadata": {},
     "output_type": "display_data"
    },
    {
     "name": "stdout",
     "output_type": "stream",
     "text": [
      "==============================================================================================================\n",
      "epoch :  10\n",
      "our mmd:  0.00029863929376006126 our mmd_std:  0.003163575348572462 our statistic:  0.0943992985325353\n",
      "==============================================================================================================\n",
      "epoch :  20\n",
      "our mmd:  0.004717525094747543 our mmd_std:  0.0032374109590573327 our statistic:  1.4571906855227268\n"
     ]
    },
    {
     "data": {
      "application/vnd.jupyter.widget-view+json": {
       "model_id": "a56337735b4c4b6d93a95ce1ceb6e2c0",
       "version_major": 2,
       "version_minor": 0
      },
      "text/plain": [
       "  0%|          | 0/100 [00:00<?, ?it/s]"
      ]
     },
     "metadata": {},
     "output_type": "display_data"
    },
    {
     "name": "stdout",
     "output_type": "stream",
     "text": [
      " Ours: 25 MMD:  4.734843969345093e-05Our Reject rate_u:  0.25\n",
      "Test Power of Ours (10 times): \n",
      "[[0.23 0.85 0.36 0.35 0.71 0.05 0.41 0.25 0.   0.  ]]\n",
      "Average Test Power of Ours (10 times): \n",
      "Ours:  0.40125\n"
     ]
    },
    {
     "data": {
      "application/vnd.jupyter.widget-view+json": {
       "model_id": "7aee9a55d3184445a7d54ded2e9d3883",
       "version_major": 2,
       "version_minor": 0
      },
      "text/plain": [
       "  0%|          | 0/27 [00:00<?, ?it/s]"
      ]
     },
     "metadata": {},
     "output_type": "display_data"
    },
    {
     "name": "stdout",
     "output_type": "stream",
     "text": [
      "==============================================================================================================\n",
      "epoch :  10\n",
      "our mmd:  0.0022062789648771286 our mmd_std:  0.0032003904225017927 our statistic:  0.6893780675522856\n",
      "==============================================================================================================\n",
      "epoch :  20\n",
      "our mmd:  0.009832112118601799 our mmd_std:  0.0033368942261677893 our statistic:  2.946485999316003\n"
     ]
    },
    {
     "data": {
      "application/vnd.jupyter.widget-view+json": {
       "model_id": "e153122f42a9441d8dbbd8a7699de35b",
       "version_major": 2,
       "version_minor": 0
      },
      "text/plain": [
       "  0%|          | 0/100 [00:00<?, ?it/s]"
      ]
     },
     "metadata": {},
     "output_type": "display_data"
    },
    {
     "name": "stdout",
     "output_type": "stream",
     "text": [
      " Ours: 48 MMD:  6.54757022857666e-05Our Reject rate_u:  0.48\n",
      "Test Power of Ours (10 times): \n",
      "[[0.23 0.85 0.36 0.35 0.71 0.05 0.41 0.25 0.48 0.  ]]\n",
      "Average Test Power of Ours (10 times): \n",
      "Ours:  0.41\n"
     ]
    },
    {
     "data": {
      "application/vnd.jupyter.widget-view+json": {
       "model_id": "2e5ab54df49449b1bd30a446753a5475",
       "version_major": 2,
       "version_minor": 0
      },
      "text/plain": [
       "  0%|          | 0/27 [00:00<?, ?it/s]"
      ]
     },
     "metadata": {},
     "output_type": "display_data"
    },
    {
     "name": "stdout",
     "output_type": "stream",
     "text": [
      "==============================================================================================================\n",
      "epoch :  10\n",
      "our mmd:  0.0012626005336642265 our mmd_std:  0.003175366544293894 our statistic:  0.39762355496662544\n",
      "==============================================================================================================\n",
      "epoch :  20\n",
      "our mmd:  0.006457749754190445 our mmd_std:  0.003278309662155848 our statistic:  1.9698412961830356\n"
     ]
    },
    {
     "data": {
      "application/vnd.jupyter.widget-view+json": {
       "model_id": "b62c1427ccf7466c935059085f36a563",
       "version_major": 2,
       "version_minor": 0
      },
      "text/plain": [
       "  0%|          | 0/100 [00:00<?, ?it/s]"
      ]
     },
     "metadata": {},
     "output_type": "display_data"
    },
    {
     "name": "stdout",
     "output_type": "stream",
     "text": [
      " Ours: 33 MMD:  0.0003005731850862503Our Reject rate_u:  0.33\n",
      "Test Power of Ours (10 times): \n",
      "[[0.23 0.85 0.36 0.35 0.71 0.05 0.41 0.25 0.48 0.33]]\n",
      "Average Test Power of Ours (10 times): \n",
      "Ours:  0.40199999999999997\n"
     ]
    }
   ],
   "source": [
    "from torch.cuda.amp import GradScaler, autocast\n",
    "scaler = GradScaler()\n",
    "# gamma = torch.nn.Parameter(MatConvert(np.random.rand(1) * 10 ** (2), device, dtype))\n",
    "\n",
    "# Repeat experiments K times (K = 10) and report average test power (rejection rate)\n",
    "for kk in tqdm(range(K)):\n",
    "    torch.manual_seed(kk * 19 + N1)\n",
    "    torch.cuda.manual_seed(kk * 19 + N1)\n",
    "    np.random.seed(seed=1102 * (kk + 10) + N1)\n",
    "    \n",
    "    # Initialize deep networks for MMD-D (called featurizer)\n",
    "    featurizer_com = Featurizer_COM()\n",
    "    \n",
    "    # Initialize parameters\n",
    "    epsilonOPT = torch.log(MatConvert(np.random.rand(1) * 10 ** (-10), device, dtype))\n",
    "    epsilonOPT.requires_grad = True\n",
    "    sigmaOPT = MatConvert(np.ones(1) * np.sqrt(2 * 32 * 32), device, dtype)\n",
    "    sigmaOPT.requires_grad = True\n",
    "    sigma0OPT = MatConvert(np.ones(1) * np.sqrt(0.005), device, dtype)\n",
    "    sigma0OPT.requires_grad = True\n",
    "    if cuda:\n",
    "        featurizer_com.cuda()\n",
    "\n",
    "    # Collect CIFAR10 images\n",
    "    Ind_tr = np.random.choice(len(data_all), N1, replace=False)\n",
    "    Ind_te = np.delete(Ind_all, Ind_tr)\n",
    "    train_data = []\n",
    "    for i in Ind_tr:\n",
    "       train_data.append([data_all[i], label_all[i]])\n",
    "\n",
    "    dataloader = torch.utils.data.DataLoader(\n",
    "        train_data,\n",
    "        batch_size=batch_size,\n",
    "        shuffle=True,\n",
    "    )\n",
    "\n",
    "    # Collect CIFAR10.1 images\n",
    "    np.random.seed(seed=819 * (kk + 9) + N1)\n",
    "    Ind_tr_v4 = np.random.choice(len(data_T), N1, replace=False)\n",
    "    Ind_te_v4 = np.delete(Ind_v4_all, Ind_tr_v4)\n",
    "    New_CIFAR_tr = data_trans[Ind_tr_v4]\n",
    "    New_CIFAR_te = data_trans[Ind_te_v4]\n",
    "\n",
    "    # Initialize optimizers\n",
    "    optimizer_COM = torch.optim.Adam(list(featurizer_com.parameters()) + [epsilonOPT] + [sigmaOPT] + [sigma0OPT], lr=lr, weight_decay=1e-4)\n",
    "    Tensor = torch.cuda.FloatTensor if cuda else torch.FloatTensor\n",
    "\n",
    "    # ----------------------------------------------------------------------------------------------------\n",
    "    #  Training deep networks for MMD-D (called featurizer)\n",
    "    # ----------------------------------------------------------------------------------------------------\n",
    "    np.random.seed(seed=1102)\n",
    "    torch.manual_seed(1102)\n",
    "    torch.cuda.manual_seed(1102)\n",
    "    for epoch in tqdm(range(n_epochs)):\n",
    "        for i, (imgs, _) in enumerate(dataloader):\n",
    "            if True:\n",
    "                ind = np.random.choice(N1, imgs.shape[0], replace=False)\n",
    "                Fake_imgs = New_CIFAR_tr[ind]\n",
    "                # Adversarial ground truths\n",
    "                valid = Variable(Tensor(imgs.shape[0], 1).fill_(1.0), requires_grad=False)\n",
    "                fake = Variable(Tensor(imgs.shape[0], 1).fill_(0.0), requires_grad=False)\n",
    "\n",
    "                # Configure input\n",
    "                real_imgs = Variable(imgs.type(Tensor))\n",
    "                Fake_imgs = Variable(Fake_imgs.type(Tensor))\n",
    "                X = torch.cat([real_imgs, Fake_imgs], 0)\n",
    "                Y = torch.cat([valid, fake], 0).squeeze().long()\n",
    "\n",
    "                # ------------------------------\n",
    "                #  Train deep network for MMD-D\n",
    "                # ------------------------------\n",
    "                # Initialize optimizer\n",
    "                optimizer_COM.zero_grad()\n",
    "                \n",
    "                with autocast():\n",
    "                    # Compute output of deep network\n",
    "                    com_modelu_output = featurizer_com(X)\n",
    "                \n",
    "                    # Compute epsilon, sigma and sigma_0\n",
    "                    ep = torch.exp(epsilonOPT) / (1 + torch.exp(epsilonOPT))\n",
    "                    sigma = sigmaOPT ** 2\n",
    "                    sigma0_u = sigma0OPT ** 2\n",
    "                \n",
    "                    # Compute Compute J (STAT_u)\n",
    "                    COM_TEMP = MMDu(com_modelu_output, imgs.shape[0], X.view(X.shape[0],-1), sigma, sigma0_u, ep, complete=True)\n",
    "                    com_mmd = - COM_TEMP[0]\n",
    "                    # threshold = torch.tensor(1e-5)\n",
    "                    # penalty = (-1 * com_mmd - threshold).clamp(min=0) ** 2\n",
    "                    com_mmd_std = torch.sqrt(COM_TEMP[1] + 10**(-5))\n",
    "\n",
    "                    COM_STAT_u = torch.div(com_mmd, com_mmd_std)\n",
    "                    gamma = 10 ** 2\n",
    "                    COM_STAT = com_mmd + gamma*com_mmd_std\n",
    "                \n",
    "                if (epoch+1) % 10 == 0:\n",
    "                    print(\"=\" * 110)\n",
    "                    print(\"epoch : \",epoch+1)\n",
    "                    print(\"our mmd: \", -1 * com_mmd.item(), \"our mmd_std: \", com_mmd_std.item(), \"our statistic: \",\n",
    "                    -1 * COM_STAT_u.item())\n",
    "                    \n",
    "                scaler.scale(COM_STAT).backward()\n",
    "                scaler.step(optimizer_COM)\n",
    "                scaler.update()\n",
    "            else:\n",
    "                break\n",
    "\n",
    "    # Run two-sample test on the training set\n",
    "    # Fetch training data\n",
    "    s1 = data_all[Ind_tr]\n",
    "    s2 = data_trans[Ind_tr_v4]\n",
    "    S = torch.cat([s1.cpu(), s2.cpu()], 0).cuda()\n",
    "    Sv = S.view(2 * N1, -1)\n",
    "    # Run two-sample test (MMD-D) on the training set\n",
    "    # dk_h_u, dk_threshold_u, dk_mmd_value_u = TST_MMD_u(featurizer(S), N_per, N1, Sv, sigma, sigma0_u, ep, alpha, device, dtype, complete=False)\n",
    "    # com_h_u, com_threshold_u, com_mmd_value_u = TST_MMD_u(featurizer(S), N_per, N1, Sv, sigma, sigma0_u, ep, alpha, device, dtype, complete=True)\n",
    "\n",
    "    # Record best epsilon, sigma and sigma_0\n",
    "    ep_OPT[kk] = ep.item()\n",
    "    s_OPT[kk] = sigma.item()\n",
    "    s0_OPT[kk] = sigma0_u.item()\n",
    "\n",
    "    # Compute test power of MMD-D and baselines\n",
    "    DK_H_u = np.zeros(N)\n",
    "    COM_H_u = np.zeros(N)\n",
    "\n",
    "    np.random.seed(1102)\n",
    "    dk_count_u = 0\n",
    "    com_count_u = 0\n",
    "\n",
    "    for k in tqdm(range(N)):\n",
    "        # Fetch test data\n",
    "        np.random.seed(seed=1102 * (k + 1) + N1)\n",
    "        data_all_te = data_all[Ind_te]\n",
    "        N_te = len(data_trans)-N1\n",
    "        Ind_N_te = np.random.choice(len(Ind_te), N_te, replace=False)\n",
    "        s1 = data_all_te[Ind_N_te]\n",
    "        s2 = data_trans[Ind_te_v4]\n",
    "        S = torch.cat([s1.cpu(), s2.cpu()], 0).cuda()\n",
    "        Sv = S.view(2 * N_te, -1)\n",
    "        # MMD-D\n",
    "        com_h_u, com_threshold_u, com_mmd_value_u = TST_MMD_u(featurizer_com(S), N_per, N_te, Sv, sigma, sigma0_u, ep, alpha, device, dtype, complete=True)\n",
    "\n",
    "        # Gather results\n",
    "        com_count_u = com_count_u + com_h_u\n",
    "        print(\"\\r\",\"Ours:\", com_count_u, \"MMD: \", com_mmd_value_u, end=\"\")\n",
    "        COM_H_u[k] = com_h_u\n",
    "\n",
    "    # Print test power of MMD-D and baselines\n",
    "    print(\"Our Reject rate_u: \", COM_H_u.sum() / N_f)\n",
    "    COM_Results[0, kk] = COM_H_u.sum() / N_f\n",
    "    print(f\"Test Power of Ours ({K} times): \")\n",
    "    print(f\"{COM_Results}\")\n",
    "    print(f\"Average Test Power of Ours ({K} times): \")\n",
    "    print(\"Ours: \", (COM_Results.sum(1) / (kk + 1))[0])"
   ]
  },
  {
   "cell_type": "code",
   "execution_count": null,
   "metadata": {},
   "outputs": [],
   "source": []
  },
  {
   "cell_type": "markdown",
   "metadata": {},
   "source": [
    "#### Epoch 20 / lr: 0.0005\n",
    "[[0.23 0.94 0.25 0.37 0.6  0.1  0.36 0.31 0.23 0.4 ]\n",
    " [0.   0.   0.   0.   0.   0.   0.   0.   0.   0.  ]]\n",
    "Average Test Power of Baselines (10 times): \n",
    "MMD-D:  0.379"
   ]
  },
  {
   "cell_type": "code",
   "execution_count": null,
   "metadata": {},
   "outputs": [],
   "source": []
  }
 ],
 "metadata": {
  "kernelspec": {
   "display_name": "mmdenv",
   "language": "python",
   "name": "python3"
  },
  "language_info": {
   "codemirror_mode": {
    "name": "ipython",
    "version": 3
   },
   "file_extension": ".py",
   "mimetype": "text/x-python",
   "name": "python",
   "nbconvert_exporter": "python",
   "pygments_lexer": "ipython3",
   "version": "3.9.13"
  }
 },
 "nbformat": 4,
 "nbformat_minor": 2
}
