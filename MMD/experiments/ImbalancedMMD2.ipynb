{
 "cells": [
  {
   "cell_type": "code",
   "execution_count": 1,
   "metadata": {},
   "outputs": [],
   "source": [
    "import sys \n",
    "sys.path.append('../')"
   ]
  },
  {
   "cell_type": "code",
   "execution_count": 2,
   "metadata": {},
   "outputs": [],
   "source": [
    "import os \n",
    "os.environ[\"CUDA_VISIBLE_DEVICES\"] = \"5\""
   ]
  },
  {
   "cell_type": "code",
   "execution_count": 3,
   "metadata": {},
   "outputs": [],
   "source": [
    "from sampler.sampler_perturbations import sampler_perturbations\n",
    "from all_tests import mmdfuse_test, mmd_median_test, mmdagg_test, mmdagginc_test\n",
    "\n",
    "\n",
    "import numpy as np\n",
    "import jax \n",
    "import jax.numpy as jnp\n",
    "from jax import random \n",
    "\n",
    "import itertools\n",
    "from tqdm.auto import tqdm \n",
    "from pathlib import Path \n",
    "Path(\"../results\").mkdir(exist_ok=True)\n",
    "\n",
    "%load_ext autoreload\n",
    "%autoreload 2"
   ]
  },
  {
   "cell_type": "code",
   "execution_count": 4,
   "metadata": {},
   "outputs": [
    {
     "name": "stdout",
     "output_type": "stream",
     "text": [
      "gpu\n"
     ]
    }
   ],
   "source": [
    "from jax.lib import xla_bridge\n",
    "print(xla_bridge.get_backend().platform)"
   ]
  },
  {
   "cell_type": "markdown",
   "metadata": {},
   "source": [
    "#### Unequal Sample Size"
   ]
  },
  {
   "cell_type": "code",
   "execution_count": 5,
   "metadata": {},
   "outputs": [
    {
     "data": {
      "application/vnd.jupyter.widget-view+json": {
       "model_id": "349dadb4ac1041bcad7aa4dc78a14e3e",
       "version_major": 2,
       "version_minor": 0
      },
      "text/plain": [
       "0it [00:00, ?it/s]"
      ]
     },
     "metadata": {},
     "output_type": "display_data"
    },
    {
     "data": {
      "application/vnd.jupyter.widget-view+json": {
       "model_id": "c933d9eb65404f82884b4eb6d11b215d",
       "version_major": 2,
       "version_minor": 0
      },
      "text/plain": [
       "  0%|          | 0/200 [00:00<?, ?it/s]"
      ]
     },
     "metadata": {},
     "output_type": "display_data"
    }
   ],
   "source": [
    "import itertools\n",
    "import jax.numpy as jnp\n",
    "from jax import random\n",
    "\n",
    "# Your existing parameters\n",
    "repetitions = 200\n",
    "number_perturbations = 2\n",
    "scales = [0.3, 0.5]\n",
    "sample_sizes = [5000, 10000]\n",
    "s_num = len(scales)\n",
    "ss_num = len(sample_sizes)\n",
    "d = 1\n",
    "tests = (mmdfuse_test, mmd_median_test, mmdagg_test)\n",
    "\n",
    "# Initializing the arrays\n",
    "outputs = jnp.zeros((len(tests), len(scales), len(sample_sizes), repetitions))\n",
    "scale_sample_averages = jnp.zeros((len(scales), len(sample_sizes)))  # New array for averages\n",
    "key = random.PRNGKey(42)\n",
    "seed = 42\n",
    "\n",
    "# Running the tests\n",
    "for s, ss in tqdm(itertools.product(range(s_num), range(ss_num))):\n",
    "    m = sample_sizes[ss]\n",
    "    # n = sample_sizes[0]\n",
    "    n = 500\n",
    "    scale = scales[s]\n",
    "    for i in tqdm(range(repetitions)):\n",
    "        key, subkey = random.split(key)\n",
    "        X, Y = sampler_perturbations(m, n, d, number_perturbations, seed, scale)\n",
    "        key, subkey = random.split(key)\n",
    "        seed += 1\n",
    "        for t in range(len(tests)):\n",
    "            test = tests[t]\n",
    "            test_result = test(X, Y, subkey, seed)\n",
    "            outputs = outputs.at[t, s, ss, i].set(test_result)\n",
    "\n",
    "# Compute the mean across all tests for each scale and sample size\n",
    "for s, ss in itertools.product(range(s_num), range(ss_num)):\n",
    "    scale_sample_averages[s][ss] = jnp.mean(outputs[:, s, ss, :])\n",
    "\n",
    "# Saving and printing the results\n",
    "jnp.save(\"../results/perturbations_vary_dif_mn_d1_averages.npy\", scale_sample_averages)\n",
    "\n",
    "print(\"Averages by Scale and Sample Size\")\n",
    "print(\"Scales: \", scales)\n",
    "print(\"Sample Sizes: \", sample_sizes)\n",
    "print(scale_sample_averages)"
   ]
  },
  {
   "cell_type": "code",
   "execution_count": null,
   "metadata": {},
   "outputs": [],
   "source": []
  }
 ],
 "metadata": {
  "kernelspec": {
   "display_name": "mmdenv",
   "language": "python",
   "name": "python3"
  },
  "language_info": {
   "codemirror_mode": {
    "name": "ipython",
    "version": 3
   },
   "file_extension": ".py",
   "mimetype": "text/x-python",
   "name": "python",
   "nbconvert_exporter": "python",
   "pygments_lexer": "ipython3",
   "version": "3.9.13"
  }
 },
 "nbformat": 4,
 "nbformat_minor": 2
}
