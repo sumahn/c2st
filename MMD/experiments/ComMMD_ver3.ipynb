{
 "cells": [
  {
   "cell_type": "code",
   "execution_count": 1,
   "metadata": {},
   "outputs": [],
   "source": [
    "%load_ext autoreload \n",
    "%autoreload 2"
   ]
  },
  {
   "cell_type": "code",
   "execution_count": 2,
   "metadata": {},
   "outputs": [],
   "source": [
    "import os\n",
    "import sys\n",
    "\n",
    "sys.path.append('/home/oldrain123/MMD/')\n",
    "os.environ[\"CUDA_VISIBLE_DEVICES\"] = \"6\""
   ]
  },
  {
   "cell_type": "code",
   "execution_count": 3,
   "metadata": {},
   "outputs": [],
   "source": [
    "from tqdm.auto import tqdm\n",
    "import numpy as np\n",
    "import jax.numpy as jnp\n",
    "\n",
    "import torch\n",
    "import torch.nn as nn\n",
    "from torch.autograd import Variable\n",
    "from torch.utils.data import DataLoader\n",
    "from torchvision import datasets\n",
    "import torchvision.transforms as transforms\n",
    "from utils import jnp_to_tensor\n",
    "from utils_HD import MatConvert, MMDu, TST_MMD_u"
   ]
  },
  {
   "cell_type": "code",
   "execution_count": 4,
   "metadata": {},
   "outputs": [],
   "source": [
    "np.random.seed(819)\n",
    "torch.manual_seed(819)\n",
    "torch.cuda.manual_seed(819)\n",
    "torch.backends.cudnn.deterministic = True\n",
    "is_cuda = True"
   ]
  },
  {
   "cell_type": "code",
   "execution_count": 5,
   "metadata": {},
   "outputs": [],
   "source": [
    "# Parameter Settings\n",
    "n_epochs = 1000\n",
    "batch_size = 512\n",
    "lr = 2e-5\n",
    "img_size = 64\n",
    "channels = 3\n",
    "n = 1000"
   ]
  },
  {
   "cell_type": "code",
   "execution_count": 6,
   "metadata": {},
   "outputs": [],
   "source": [
    "dtype = torch.float\n",
    "device = torch.device(\"cuda:0\")\n",
    "cuda = True if torch.cuda.is_available() else False\n",
    "N_per = 100 # permutation times\n",
    "alpha = 0.05 # test threshold\n",
    "N1 = n # number of samples in one set\n",
    "K = 10 # number of trails\n",
    "J = 1 # number of test locations\n",
    "N = 100 # number of test sets\n",
    "N_f = 100.0 # number of test sets (float)"
   ]
  },
  {
   "cell_type": "code",
   "execution_count": 7,
   "metadata": {},
   "outputs": [],
   "source": [
    "# Naming variables\n",
    "ep_OPT = np.zeros([K])\n",
    "s_OPT = np.zeros([K])\n",
    "s0_OPT = np.zeros([K])\n",
    "T_org_OPT = torch.zeros([K,J,3,64,64]) # Record test locations obtained by MMD-D\n",
    "COM_Results = np.zeros([1,K])"
   ]
  },
  {
   "cell_type": "code",
   "execution_count": 8,
   "metadata": {},
   "outputs": [],
   "source": [
    "# Define the deep network for MMD-D\n",
    "class Featurizer_COM(nn.Module):\n",
    "    def __init__(self):\n",
    "        super(Featurizer_COM, self).__init__()\n",
    "\n",
    "        def discriminator_block(in_filters, out_filters, bn=True):\n",
    "            block = [nn.Conv2d(in_filters, out_filters, 3, 2, 1), nn.LeakyReLU(0.2, inplace=True), nn.Dropout2d(0)] #0.25\n",
    "            if bn:\n",
    "                block.append(nn.BatchNorm2d(out_filters, 0.8))\n",
    "            return block\n",
    "\n",
    "        self.model = nn.Sequential(\n",
    "            *discriminator_block(channels, 16, bn=False),\n",
    "            *discriminator_block(16, 32),\n",
    "            *discriminator_block(32, 64),\n",
    "            *discriminator_block(64, 128),\n",
    "        )\n",
    "\n",
    "        # The height and width of downsampled image\n",
    "        ds_size = img_size // 2 ** 4\n",
    "        self.adv_layer = nn.Sequential(\n",
    "            nn.Linear(128 * ds_size ** 2, 300))\n",
    "\n",
    "    def forward(self, img):\n",
    "        out = self.model(img)\n",
    "        out = out.view(out.shape[0], -1)\n",
    "        feature = self.adv_layer(out)\n",
    "\n",
    "        return feature"
   ]
  },
  {
   "cell_type": "code",
   "execution_count": 9,
   "metadata": {},
   "outputs": [
    {
     "name": "stdout",
     "output_type": "stream",
     "text": [
      "Files already downloaded and verified\n"
     ]
    }
   ],
   "source": [
    "# Configure data loader\n",
    "dataset_test = datasets.CIFAR10(root='/data4/oldrain123/C2ST/data/cifar_data/cifar10', download=True,train=False,\n",
    "                           transform=transforms.Compose([\n",
    "                               transforms.Resize(img_size),\n",
    "                               transforms.ToTensor(),\n",
    "                               transforms.Normalize((0.5, 0.5, 0.5), (0.5, 0.5, 0.5)),\n",
    "                           ]))\n",
    "\n",
    "dataloader_test = torch.utils.data.DataLoader(dataset_test, batch_size=10000,\n",
    "                                             shuffle=True, num_workers=1)\n",
    "# Obtain CIFAR10 images\n",
    "for i, (imgs, Labels) in enumerate(dataloader_test):\n",
    "    data_all = imgs\n",
    "    label_all = Labels\n",
    "Ind_all = np.arange(len(data_all))\n",
    "\n",
    "# Obtain CIFAR10.1 images\n",
    "data_new = np.load('/data4/oldrain123/C2ST/data/cifar10_1/cifar10.1_v4_data.npy')\n",
    "data_T = np.transpose(data_new, [0,3,1,2])\n",
    "ind_M = np.random.choice(len(data_T), len(data_T), replace=False)\n",
    "data_T = data_T[ind_M]\n",
    "TT = transforms.Compose([transforms.Resize(img_size),transforms.ToTensor(),\n",
    "                               transforms.Normalize((0.5, 0.5, 0.5), (0.5, 0.5, 0.5))])\n",
    "trans = transforms.ToPILImage()\n",
    "data_trans = torch.zeros([len(data_T),3,img_size,img_size])\n",
    "data_T_tensor = torch.from_numpy(data_T)\n",
    "for i in range(len(data_T)):\n",
    "    d0 = trans(data_T_tensor[i])\n",
    "    data_trans[i] = TT(d0)\n",
    "Ind_v4_all = np.arange(len(data_T))"
   ]
  },
  {
   "cell_type": "code",
   "execution_count": 10,
   "metadata": {},
   "outputs": [
    {
     "data": {
      "application/vnd.jupyter.widget-view+json": {
       "model_id": "cbe2bffc22b842e5bfe85b5c99dedeb7",
       "version_major": 2,
       "version_minor": 0
      },
      "text/plain": [
       "  0%|          | 0/10 [00:00<?, ?it/s]"
      ]
     },
     "metadata": {},
     "output_type": "display_data"
    },
    {
     "data": {
      "application/vnd.jupyter.widget-view+json": {
       "model_id": "065c2a5e5c1b4dcfa88bfbfdc203bed5",
       "version_major": 2,
       "version_minor": 0
      },
      "text/plain": [
       "  0%|          | 0/1000 [00:00<?, ?it/s]"
      ]
     },
     "metadata": {},
     "output_type": "display_data"
    },
    {
     "name": "stderr",
     "output_type": "stream",
     "text": [
      "/tmp/ipykernel_3878650/4052035374.py:57: UserWarning: The torch.cuda.*DtypeTensor constructors are no longer recommended. It's best to use methods such as torch.tensor(data, dtype=*, device='cuda') to create tensors. (Triggered internally at /opt/conda/conda-bld/pytorch_1695392035629/work/torch/csrc/tensor/python_tensor.cpp:83.)\n",
      "  valid = Variable(Tensor(imgs.shape[0], 1).fill_(1.0), requires_grad=False)\n",
      "CUDA backend failed to initialize: Found cuPTI version 18, but JAX was built against version 20, which is newer. The copy of cuPTI that is installed must be at least as new as the version against which JAX was built. (Set TF_CPP_MIN_LOG_LEVEL=0 and rerun for more info.)\n"
     ]
    },
    {
     "name": "stdout",
     "output_type": "stream",
     "text": [
      "Epoch 00115: reducing learning rate of group 0 to 1.0000e-05.\n",
      "Epoch 00137: reducing learning rate of group 0 to 5.0000e-06.\n",
      "Epoch 00158: reducing learning rate of group 0 to 2.5000e-06.\n",
      "Epoch 00191: reducing learning rate of group 0 to 1.2500e-06.\n",
      "==============================================================================================================\n",
      "epoch :  100\n",
      "our mmd:  0.004952181130647659 our mmd_std:  0.00109793539726967 our statistic:  4.510448559143527\n",
      "==============================================================================================================\n",
      "epoch :  100\n",
      "our mmd:  0.00493897870182991 our mmd_std:  0.001030375246625797 our statistic:  4.793378643366815\n",
      "Epoch 00230: reducing learning rate of group 0 to 6.2500e-07.\n",
      "Epoch 00251: reducing learning rate of group 0 to 3.1250e-07.\n",
      "Epoch 00272: reducing learning rate of group 0 to 1.5625e-07.\n",
      "Epoch 00293: reducing learning rate of group 0 to 7.8125e-08.\n",
      "Epoch 00314: reducing learning rate of group 0 to 3.9063e-08.\n",
      "Epoch 00335: reducing learning rate of group 0 to 1.9531e-08.\n",
      "==============================================================================================================\n",
      "epoch :  200\n",
      "our mmd:  0.004211977124214172 our mmd_std:  0.0009826677304082057 our statistic:  4.28626787455867\n",
      "==============================================================================================================\n",
      "epoch :  200\n",
      "our mmd:  0.005936749279499054 our mmd_std:  0.001200451102269399 our statistic:  4.945431986588954\n",
      "==============================================================================================================\n",
      "epoch :  300\n",
      "our mmd:  0.005270346067845821 our mmd_std:  0.0011511195191271524 our statistic:  4.578452524062933\n",
      "==============================================================================================================\n",
      "epoch :  300\n",
      "our mmd:  0.0037915734574198723 our mmd_std:  0.0009298060289765687 our statistic:  4.077811220038261\n",
      "==============================================================================================================\n",
      "epoch :  400\n",
      "our mmd:  0.003153621219098568 our mmd_std:  0.0007751066981914878 our statistic:  4.068628521023921\n",
      "==============================================================================================================\n",
      "epoch :  400\n",
      "our mmd:  0.008073321543633938 our mmd_std:  0.0014904183875759929 our statistic:  5.4168155807339025\n",
      "==============================================================================================================\n",
      "epoch :  500\n",
      "our mmd:  0.004840729758143425 our mmd_std:  0.0009983201839999555 our statistic:  4.848874975910174\n",
      "==============================================================================================================\n",
      "epoch :  500\n",
      "our mmd:  0.0057132309302687645 our mmd_std:  0.0012223404271877313 our statistic:  4.674009632008437\n",
      "==============================================================================================================\n",
      "epoch :  600\n",
      "our mmd:  0.00591130368411541 our mmd_std:  0.0012349172594427506 our statistic:  4.786801414357795\n",
      "==============================================================================================================\n",
      "epoch :  600\n",
      "our mmd:  0.0051028854213654995 our mmd_std:  0.001046773173346003 our statistic:  4.87487217985742\n",
      "==============================================================================================================\n",
      "epoch :  700\n",
      "our mmd:  0.0048664044588804245 our mmd_std:  0.001025270162892462 our statistic:  4.746460625706172\n",
      "==============================================================================================================\n",
      "epoch :  700\n",
      "our mmd:  0.005301386117935181 our mmd_std:  0.0011532586339671426 our statistic:  4.596875290409681\n",
      "==============================================================================================================\n",
      "epoch :  800\n",
      "our mmd:  0.005164329893887043 our mmd_std:  0.0011392378955974172 our statistic:  4.53314440631284\n",
      "==============================================================================================================\n",
      "epoch :  800\n",
      "our mmd:  0.00424887053668499 our mmd_std:  0.0009864873357194731 our statistic:  4.307070534855035\n",
      "==============================================================================================================\n",
      "epoch :  900\n",
      "our mmd:  0.005867190659046173 our mmd_std:  0.0011721231814585432 our statistic:  5.005609266890597\n",
      "==============================================================================================================\n",
      "epoch :  900\n",
      "our mmd:  0.005597168579697609 our mmd_std:  0.0011182803258002073 our statistic:  5.00515698127162\n",
      "==============================================================================================================\n",
      "epoch :  1000\n",
      "our mmd:  0.004857667721807957 our mmd_std:  0.0010642119017553473 our statistic:  4.564568122002352\n",
      "==============================================================================================================\n",
      "epoch :  1000\n",
      "our mmd:  0.00468136090785265 our mmd_std:  0.001048628640441831 our statistic:  4.464269549113399\n"
     ]
    },
    {
     "data": {
      "application/vnd.jupyter.widget-view+json": {
       "model_id": "0c755a2ad6104b8eb39df22de6f19fef",
       "version_major": 2,
       "version_minor": 0
      },
      "text/plain": [
       "  0%|          | 0/100 [00:00<?, ?it/s]"
      ]
     },
     "metadata": {},
     "output_type": "display_data"
    },
    {
     "name": "stdout",
     "output_type": "stream",
     "text": [
      " Ours: 19 MMD:  5.2247196435928345e-06Our Reject rate_u:  0.19\n",
      "Test Power of Ours (10 times): \n",
      "[[0.19 0.   0.   0.   0.   0.   0.   0.   0.   0.  ]]\n",
      "Average Test Power of Ours (10 times): \n",
      "Ours:  0.19\n"
     ]
    },
    {
     "data": {
      "application/vnd.jupyter.widget-view+json": {
       "model_id": "396099a2048f4f16a0b32685dde669eb",
       "version_major": 2,
       "version_minor": 0
      },
      "text/plain": [
       "  0%|          | 0/1000 [00:00<?, ?it/s]"
      ]
     },
     "metadata": {},
     "output_type": "display_data"
    },
    {
     "name": "stdout",
     "output_type": "stream",
     "text": [
      "Epoch 00033: reducing learning rate of group 0 to 1.0000e-05.\n",
      "Epoch 00054: reducing learning rate of group 0 to 5.0000e-06.\n",
      "Epoch 00075: reducing learning rate of group 0 to 2.5000e-06.\n",
      "Epoch 00096: reducing learning rate of group 0 to 1.2500e-06.\n",
      "Epoch 00149: reducing learning rate of group 0 to 6.2500e-07.\n",
      "Epoch 00170: reducing learning rate of group 0 to 3.1250e-07.\n",
      "Epoch 00191: reducing learning rate of group 0 to 1.5625e-07.\n",
      "==============================================================================================================\n",
      "epoch :  100\n",
      "our mmd:  0.000616920180618763 our mmd_std:  0.00024225442812969894 our statistic:  2.546579583216016\n",
      "==============================================================================================================\n",
      "epoch :  100\n",
      "our mmd:  0.0008243517950177193 our mmd_std:  0.000301079738870677 our statistic:  2.7379849541180974\n",
      "Epoch 00212: reducing learning rate of group 0 to 7.8125e-08.\n",
      "Epoch 00233: reducing learning rate of group 0 to 3.9063e-08.\n",
      "Epoch 00268: reducing learning rate of group 0 to 1.9531e-08.\n",
      "==============================================================================================================\n",
      "epoch :  200\n",
      "our mmd:  0.0010300762951374054 our mmd_std:  0.0003353424941366634 our statistic:  3.0717141822104255\n",
      "==============================================================================================================\n",
      "epoch :  200\n",
      "our mmd:  0.0003950316458940506 our mmd_std:  0.00018402026953309863 our statistic:  2.1466746402248833\n",
      "==============================================================================================================\n",
      "epoch :  300\n",
      "our mmd:  0.0007822643965482712 our mmd_std:  0.0002647544650965219 our statistic:  2.954678767223359\n",
      "==============================================================================================================\n",
      "epoch :  300\n",
      "our mmd:  0.0007890956476330757 our mmd_std:  0.00026453973588667516 our statistic:  2.982900262556822\n",
      "==============================================================================================================\n",
      "epoch :  400\n",
      "our mmd:  0.0005916012451052666 our mmd_std:  0.00023826712471395356 our statistic:  2.4829327412059077\n",
      "==============================================================================================================\n",
      "epoch :  400\n",
      "our mmd:  0.0006335359066724777 our mmd_std:  0.00021110525884988202 our statistic:  3.001042750540801\n",
      "==============================================================================================================\n",
      "epoch :  500\n",
      "our mmd:  0.0006016651168465614 our mmd_std:  0.00026170756462282123 our statistic:  2.298997805866615\n",
      "==============================================================================================================\n",
      "epoch :  500\n",
      "our mmd:  0.0005142111331224442 our mmd_std:  0.00014568949929452983 our statistic:  3.52950031136356\n",
      "==============================================================================================================\n",
      "epoch :  600\n",
      "our mmd:  0.0003558546304702759 our mmd_std:  0.00014006079229558386 our statistic:  2.540715532433098\n",
      "==============================================================================================================\n",
      "epoch :  600\n",
      "our mmd:  0.000774637795984745 our mmd_std:  0.00022358730967806525 our statistic:  3.464587489782475\n",
      "==============================================================================================================\n",
      "epoch :  700\n",
      "our mmd:  0.0008861478418111801 our mmd_std:  0.00033423644922503593 our statistic:  2.65126033939689\n",
      "==============================================================================================================\n",
      "epoch :  700\n",
      "our mmd:  0.0005011735484004021 our mmd_std:  0.0002122458046661459 our statistic:  2.361288361806387\n",
      "==============================================================================================================\n",
      "epoch :  800\n",
      "our mmd:  0.0008302591741085052 our mmd_std:  0.00030519052856511463 our statistic:  2.720461798116921\n",
      "==============================================================================================================\n",
      "epoch :  800\n",
      "our mmd:  0.0007083490490913391 our mmd_std:  0.00023161454871271076 our statistic:  3.058309821331468\n",
      "==============================================================================================================\n",
      "epoch :  900\n",
      "our mmd:  0.0005965884774923325 our mmd_std:  0.00024412109115186565 our statistic:  2.44382193557049\n",
      "==============================================================================================================\n",
      "epoch :  900\n",
      "our mmd:  0.0007204320281744003 our mmd_std:  0.0002331230153517666 our statistic:  3.0903513627228865\n",
      "==============================================================================================================\n",
      "epoch :  1000\n",
      "our mmd:  0.0003153802827000618 our mmd_std:  8.161068170729557e-05 our statistic:  3.8644485758764158\n",
      "==============================================================================================================\n",
      "epoch :  1000\n",
      "our mmd:  0.001102697104215622 our mmd_std:  0.0003520860677136412 our statistic:  3.131896446162329\n"
     ]
    },
    {
     "data": {
      "application/vnd.jupyter.widget-view+json": {
       "model_id": "9846dbda79094275b20b39be1433ec41",
       "version_major": 2,
       "version_minor": 0
      },
      "text/plain": [
       "  0%|          | 0/100 [00:00<?, ?it/s]"
      ]
     },
     "metadata": {},
     "output_type": "display_data"
    },
    {
     "name": "stdout",
     "output_type": "stream",
     "text": [
      " Ours: 95 MMD:  0.00018450245261192322Our Reject rate_u:  0.95\n",
      "Test Power of Ours (10 times): \n",
      "[[0.19 0.95 0.   0.   0.   0.   0.   0.   0.   0.  ]]\n",
      "Average Test Power of Ours (10 times): \n",
      "Ours:  0.57\n"
     ]
    },
    {
     "data": {
      "application/vnd.jupyter.widget-view+json": {
       "model_id": "a0a7862339e249da84b45662bb73b891",
       "version_major": 2,
       "version_minor": 0
      },
      "text/plain": [
       "  0%|          | 0/1000 [00:00<?, ?it/s]"
      ]
     },
     "metadata": {},
     "output_type": "display_data"
    },
    {
     "name": "stdout",
     "output_type": "stream",
     "text": [
      "Epoch 00037: reducing learning rate of group 0 to 1.0000e-05.\n",
      "Epoch 00062: reducing learning rate of group 0 to 5.0000e-06.\n",
      "Epoch 00083: reducing learning rate of group 0 to 2.5000e-06.\n",
      "Epoch 00104: reducing learning rate of group 0 to 1.2500e-06.\n",
      "Epoch 00125: reducing learning rate of group 0 to 6.2500e-07.\n",
      "Epoch 00146: reducing learning rate of group 0 to 3.1250e-07.\n",
      "Epoch 00167: reducing learning rate of group 0 to 1.5625e-07.\n",
      "Epoch 00188: reducing learning rate of group 0 to 7.8125e-08.\n",
      "==============================================================================================================\n",
      "epoch :  100\n",
      "our mmd:  0.00028167199343442917 our mmd_std:  0.00012178541209041069 our statistic:  2.312854951998047\n",
      "==============================================================================================================\n",
      "epoch :  100\n",
      "our mmd:  0.0006137210875749588 our mmd_std:  0.00022831761759908712 our statistic:  2.6880145913777818\n",
      "Epoch 00209: reducing learning rate of group 0 to 3.9063e-08.\n",
      "Epoch 00230: reducing learning rate of group 0 to 1.9531e-08.\n",
      "==============================================================================================================\n",
      "epoch :  200\n",
      "our mmd:  0.00045423442497849464 our mmd_std:  0.0001892619343719301 our statistic:  2.4000305528202572\n",
      "==============================================================================================================\n",
      "epoch :  200\n",
      "our mmd:  0.0004192194901406765 our mmd_std:  0.0001492130430636219 our statistic:  2.809536495827167\n",
      "==============================================================================================================\n",
      "epoch :  300\n",
      "our mmd:  0.00021445658057928085 our mmd_std:  0.00013572865375008838 our statistic:  1.5800391048904898\n",
      "==============================================================================================================\n",
      "epoch :  300\n",
      "our mmd:  0.0003798920661211014 our mmd_std:  0.0001769484215487224 our statistic:  2.146908476470918\n",
      "==============================================================================================================\n",
      "epoch :  400\n",
      "our mmd:  0.00031095510348677635 our mmd_std:  0.0001524273063067582 our statistic:  2.040022296667651\n",
      "==============================================================================================================\n",
      "epoch :  400\n",
      "our mmd:  0.0003995760343968868 our mmd_std:  0.00018017170518426894 our statistic:  2.217751305557241\n",
      "==============================================================================================================\n",
      "epoch :  500\n",
      "our mmd:  0.00023788027465343475 our mmd_std:  0.00011258462155462379 our statistic:  2.1129020231064155\n",
      "==============================================================================================================\n",
      "epoch :  500\n",
      "our mmd:  0.000588160939514637 our mmd_std:  0.00023141721720824215 our statistic:  2.541560851046692\n",
      "==============================================================================================================\n",
      "epoch :  600\n",
      "our mmd:  0.00031010759994387627 our mmd_std:  0.00013137516740594933 our statistic:  2.360473490287884\n",
      "==============================================================================================================\n",
      "epoch :  600\n",
      "our mmd:  0.0005432730540633202 our mmd_std:  0.00020598192726575622 our statistic:  2.6374792258468074\n",
      "==============================================================================================================\n",
      "epoch :  700\n",
      "our mmd:  0.00041701411828398705 our mmd_std:  0.0001534161493083854 our statistic:  2.7181891878001525\n",
      "==============================================================================================================\n",
      "epoch :  700\n",
      "our mmd:  0.0005380683578550816 our mmd_std:  0.00019108838581215448 our statistic:  2.8158087974222497\n",
      "==============================================================================================================\n",
      "epoch :  800\n",
      "our mmd:  0.0004679257981479168 our mmd_std:  0.00023277214660756852 our statistic:  2.01023105628181\n",
      "==============================================================================================================\n",
      "epoch :  800\n",
      "our mmd:  0.00019693560898303986 our mmd_std:  8.119475198587298e-05 our statistic:  2.4254721415653138\n",
      "==============================================================================================================\n",
      "epoch :  900\n",
      "our mmd:  0.00039504049345850945 our mmd_std:  0.00018040350903141182 our statistic:  2.1897605849214665\n",
      "==============================================================================================================\n",
      "epoch :  900\n",
      "our mmd:  0.00033696461468935013 our mmd_std:  0.00014739203158242858 our statistic:  2.286179321036793\n",
      "==============================================================================================================\n",
      "epoch :  1000\n",
      "our mmd:  0.00014801044017076492 our mmd_std:  2.74098936058693e-05 our statistic:  5.399891086737795\n",
      "==============================================================================================================\n",
      "epoch :  1000\n",
      "our mmd:  0.0008134283125400543 our mmd_std:  0.0003021445742208298 our statistic:  2.6921824250451047\n"
     ]
    },
    {
     "data": {
      "application/vnd.jupyter.widget-view+json": {
       "model_id": "3ac88e98000d437396d081207784d038",
       "version_major": 2,
       "version_minor": 0
      },
      "text/plain": [
       "  0%|          | 0/100 [00:00<?, ?it/s]"
      ]
     },
     "metadata": {},
     "output_type": "display_data"
    },
    {
     "name": "stdout",
     "output_type": "stream",
     "text": [
      " Ours: 16 MMD:  6.969878450036049e-05Our Reject rate_u:  0.16\n",
      "Test Power of Ours (10 times): \n",
      "[[0.19 0.95 0.16 0.   0.   0.   0.   0.   0.   0.  ]]\n",
      "Average Test Power of Ours (10 times): \n",
      "Ours:  0.4333333333333333\n"
     ]
    },
    {
     "data": {
      "application/vnd.jupyter.widget-view+json": {
       "model_id": "8b3ceff88cd8419491e6e7050fcb5730",
       "version_major": 2,
       "version_minor": 0
      },
      "text/plain": [
       "  0%|          | 0/1000 [00:00<?, ?it/s]"
      ]
     },
     "metadata": {},
     "output_type": "display_data"
    },
    {
     "ename": "KeyboardInterrupt",
     "evalue": "",
     "output_type": "error",
     "traceback": [
      "\u001b[0;31m---------------------------------------------------------------------------\u001b[0m",
      "\u001b[0;31mKeyboardInterrupt\u001b[0m                         Traceback (most recent call last)",
      "\u001b[0;32m/tmp/ipykernel_3878650/4052035374.py\u001b[0m in \u001b[0;36m<module>\u001b[0;34m\u001b[0m\n\u001b[1;32m     79\u001b[0m \u001b[0;34m\u001b[0m\u001b[0m\n\u001b[1;32m     80\u001b[0m                 \u001b[0;31m# Compute Compute J (STAT_u)\u001b[0m\u001b[0;34m\u001b[0m\u001b[0;34m\u001b[0m\u001b[0m\n\u001b[0;32m---> 81\u001b[0;31m                 \u001b[0mCOM_TEMP\u001b[0m \u001b[0;34m=\u001b[0m \u001b[0mMMDu\u001b[0m\u001b[0;34m(\u001b[0m\u001b[0mcom_modelu_output\u001b[0m\u001b[0;34m,\u001b[0m \u001b[0mimgs\u001b[0m\u001b[0;34m.\u001b[0m\u001b[0mshape\u001b[0m\u001b[0;34m[\u001b[0m\u001b[0;36m0\u001b[0m\u001b[0;34m]\u001b[0m\u001b[0;34m,\u001b[0m \u001b[0mX\u001b[0m\u001b[0;34m.\u001b[0m\u001b[0mview\u001b[0m\u001b[0;34m(\u001b[0m\u001b[0mX\u001b[0m\u001b[0;34m.\u001b[0m\u001b[0mshape\u001b[0m\u001b[0;34m[\u001b[0m\u001b[0;36m0\u001b[0m\u001b[0;34m]\u001b[0m\u001b[0;34m,\u001b[0m\u001b[0;34m-\u001b[0m\u001b[0;36m1\u001b[0m\u001b[0;34m)\u001b[0m\u001b[0;34m,\u001b[0m \u001b[0msigma\u001b[0m\u001b[0;34m,\u001b[0m \u001b[0msigma0_u\u001b[0m\u001b[0;34m,\u001b[0m \u001b[0mep\u001b[0m\u001b[0;34m,\u001b[0m \u001b[0mcomplete\u001b[0m\u001b[0;34m=\u001b[0m\u001b[0;32mTrue\u001b[0m\u001b[0;34m)\u001b[0m\u001b[0;34m\u001b[0m\u001b[0;34m\u001b[0m\u001b[0m\n\u001b[0m\u001b[1;32m     82\u001b[0m                 \u001b[0mcom_mmd\u001b[0m \u001b[0;34m=\u001b[0m \u001b[0;34m-\u001b[0m \u001b[0mCOM_TEMP\u001b[0m\u001b[0;34m[\u001b[0m\u001b[0;36m0\u001b[0m\u001b[0;34m]\u001b[0m\u001b[0;34m\u001b[0m\u001b[0;34m\u001b[0m\u001b[0m\n\u001b[1;32m     83\u001b[0m                 \u001b[0mcom_mmd_std_tmp_tensor\u001b[0m \u001b[0;34m=\u001b[0m \u001b[0mjnp_to_tensor\u001b[0m\u001b[0;34m(\u001b[0m\u001b[0mnp\u001b[0m\u001b[0;34m.\u001b[0m\u001b[0mabs\u001b[0m\u001b[0;34m(\u001b[0m\u001b[0mCOM_TEMP\u001b[0m\u001b[0;34m[\u001b[0m\u001b[0;36m1\u001b[0m\u001b[0;34m]\u001b[0m\u001b[0;34m)\u001b[0m\u001b[0;34m)\u001b[0m\u001b[0;34m\u001b[0m\u001b[0;34m\u001b[0m\u001b[0m\n",
      "\u001b[0;32m~/MMD/utils_HD.py\u001b[0m in \u001b[0;36mMMDu\u001b[0;34m(Fea, len_s, Fea_org, sigma, sigma0, epsilon, is_smooth, is_var_computed, use_1sample_U, complete)\u001b[0m\n\u001b[1;32m    124\u001b[0m         \u001b[0mKy\u001b[0m \u001b[0;34m=\u001b[0m \u001b[0mtorch\u001b[0m\u001b[0;34m.\u001b[0m\u001b[0mexp\u001b[0m\u001b[0;34m(\u001b[0m\u001b[0;34m-\u001b[0m\u001b[0mDyy\u001b[0m \u001b[0;34m/\u001b[0m \u001b[0msigma0\u001b[0m\u001b[0;34m)\u001b[0m\u001b[0;34m\u001b[0m\u001b[0;34m\u001b[0m\u001b[0m\n\u001b[1;32m    125\u001b[0m         \u001b[0mKxy\u001b[0m \u001b[0;34m=\u001b[0m \u001b[0mtorch\u001b[0m\u001b[0;34m.\u001b[0m\u001b[0mexp\u001b[0m\u001b[0;34m(\u001b[0m\u001b[0;34m-\u001b[0m\u001b[0mDxy\u001b[0m \u001b[0;34m/\u001b[0m \u001b[0msigma0\u001b[0m\u001b[0;34m)\u001b[0m\u001b[0;34m\u001b[0m\u001b[0;34m\u001b[0m\u001b[0m\n\u001b[0;32m--> 126\u001b[0;31m     \u001b[0;32mreturn\u001b[0m \u001b[0mh1_mean_var_gram\u001b[0m\u001b[0;34m(\u001b[0m\u001b[0mKx\u001b[0m\u001b[0;34m,\u001b[0m \u001b[0mKy\u001b[0m\u001b[0;34m,\u001b[0m \u001b[0mKxy\u001b[0m\u001b[0;34m,\u001b[0m \u001b[0mis_var_computed\u001b[0m\u001b[0;34m,\u001b[0m \u001b[0muse_1sample_U\u001b[0m\u001b[0;34m,\u001b[0m \u001b[0mcomplete\u001b[0m\u001b[0;34m)\u001b[0m\u001b[0;34m\u001b[0m\u001b[0;34m\u001b[0m\u001b[0m\n\u001b[0m\u001b[1;32m    127\u001b[0m \u001b[0;34m\u001b[0m\u001b[0m\n\u001b[1;32m    128\u001b[0m \u001b[0;34m\u001b[0m\u001b[0m\n",
      "\u001b[0;32m~/MMD/utils_HD.py\u001b[0m in \u001b[0;36mh1_mean_var_gram\u001b[0;34m(Kx, Ky, Kxy, is_var_computed, use_1sample_U, complete)\u001b[0m\n\u001b[1;32m     86\u001b[0m         \u001b[0mtKyy\u001b[0m \u001b[0;34m=\u001b[0m \u001b[0mjnp\u001b[0m\u001b[0;34m.\u001b[0m\u001b[0marray\u001b[0m\u001b[0;34m(\u001b[0m\u001b[0mtKyy\u001b[0m\u001b[0;34m.\u001b[0m\u001b[0mcpu\u001b[0m\u001b[0;34m(\u001b[0m\u001b[0;34m)\u001b[0m\u001b[0;34m.\u001b[0m\u001b[0mdetach\u001b[0m\u001b[0;34m(\u001b[0m\u001b[0;34m)\u001b[0m\u001b[0;34m.\u001b[0m\u001b[0mnumpy\u001b[0m\u001b[0;34m(\u001b[0m\u001b[0;34m)\u001b[0m\u001b[0;34m)\u001b[0m\u001b[0;34m\u001b[0m\u001b[0;34m\u001b[0m\u001b[0m\n\u001b[1;32m     87\u001b[0m         \u001b[0mKxy\u001b[0m \u001b[0;34m=\u001b[0m \u001b[0mjnp\u001b[0m\u001b[0;34m.\u001b[0m\u001b[0marray\u001b[0m\u001b[0;34m(\u001b[0m\u001b[0mKxy\u001b[0m\u001b[0;34m.\u001b[0m\u001b[0mcpu\u001b[0m\u001b[0;34m(\u001b[0m\u001b[0;34m)\u001b[0m\u001b[0;34m.\u001b[0m\u001b[0mdetach\u001b[0m\u001b[0;34m(\u001b[0m\u001b[0;34m)\u001b[0m\u001b[0;34m.\u001b[0m\u001b[0mnumpy\u001b[0m\u001b[0;34m(\u001b[0m\u001b[0;34m)\u001b[0m\u001b[0;34m)\u001b[0m\u001b[0;34m\u001b[0m\u001b[0;34m\u001b[0m\u001b[0m\n\u001b[0;32m---> 88\u001b[0;31m         \u001b[0mvarEst\u001b[0m \u001b[0;34m=\u001b[0m \u001b[0mjnp_to_tensor\u001b[0m\u001b[0;34m(\u001b[0m\u001b[0mComMMDVar\u001b[0m\u001b[0;34m(\u001b[0m\u001b[0mtKxx\u001b[0m\u001b[0;34m,\u001b[0m \u001b[0mtKyy\u001b[0m\u001b[0;34m,\u001b[0m \u001b[0mKxy\u001b[0m\u001b[0;34m)\u001b[0m\u001b[0;34m)\u001b[0m\u001b[0;34m\u001b[0m\u001b[0;34m\u001b[0m\u001b[0m\n\u001b[0m\u001b[1;32m     89\u001b[0m     \u001b[0;32melse\u001b[0m\u001b[0;34m:\u001b[0m\u001b[0;34m\u001b[0m\u001b[0;34m\u001b[0m\u001b[0m\n\u001b[1;32m     90\u001b[0m         \u001b[0mV1\u001b[0m \u001b[0;34m=\u001b[0m \u001b[0mtorch\u001b[0m\u001b[0;34m.\u001b[0m\u001b[0mdot\u001b[0m\u001b[0;34m(\u001b[0m\u001b[0mhh\u001b[0m\u001b[0;34m.\u001b[0m\u001b[0msum\u001b[0m\u001b[0;34m(\u001b[0m\u001b[0;36m1\u001b[0m\u001b[0;34m)\u001b[0m\u001b[0;34m/\u001b[0m\u001b[0mny\u001b[0m\u001b[0;34m,\u001b[0m\u001b[0mhh\u001b[0m\u001b[0;34m.\u001b[0m\u001b[0msum\u001b[0m\u001b[0;34m(\u001b[0m\u001b[0;36m1\u001b[0m\u001b[0;34m)\u001b[0m\u001b[0;34m/\u001b[0m\u001b[0mny\u001b[0m\u001b[0;34m)\u001b[0m \u001b[0;34m/\u001b[0m \u001b[0mny\u001b[0m\u001b[0;34m\u001b[0m\u001b[0;34m\u001b[0m\u001b[0m\n",
      "\u001b[0;32m~/MMD/mmdvar.py\u001b[0m in \u001b[0;36mComMMDVar\u001b[0;34m(tKxx, tKyy, Kxy)\u001b[0m\n\u001b[1;32m     44\u001b[0m     \u001b[0mXi21\u001b[0m \u001b[0;34m=\u001b[0m \u001b[0mjnp\u001b[0m\u001b[0;34m.\u001b[0m\u001b[0mlinalg\u001b[0m\u001b[0;34m.\u001b[0m\u001b[0mnorm\u001b[0m\u001b[0;34m(\u001b[0m\u001b[0mtKxx\u001b[0m\u001b[0;34m,\u001b[0m \u001b[0;34m\"fro\"\u001b[0m\u001b[0;34m)\u001b[0m\u001b[0;34m**\u001b[0m\u001b[0;36m2\u001b[0m\u001b[0;34m/\u001b[0m\u001b[0mfactorial\u001b[0m\u001b[0;34m(\u001b[0m\u001b[0mm\u001b[0m\u001b[0;34m,\u001b[0m \u001b[0;36m2\u001b[0m\u001b[0;34m)\u001b[0m \u001b[0;34m-\u001b[0m \u001b[0mmxmx2\u001b[0m\u001b[0;34m(\u001b[0m\u001b[0mtKxx\u001b[0m\u001b[0;34m)\u001b[0m \u001b[0;34m+\u001b[0m \u001b[0mmyCymy\u001b[0m\u001b[0;34m(\u001b[0m\u001b[0mtKyy\u001b[0m\u001b[0;34m)\u001b[0m \u001b[0;34m-\u001b[0m \u001b[0mmymy2\u001b[0m\u001b[0;34m(\u001b[0m\u001b[0mtKyy\u001b[0m\u001b[0;34m)\u001b[0m \u001b[0;34m+\u001b[0m \u001b[0mjnp\u001b[0m\u001b[0;34m.\u001b[0m\u001b[0mlinalg\u001b[0m\u001b[0;34m.\u001b[0m\u001b[0mnorm\u001b[0m\u001b[0;34m(\u001b[0m\u001b[0mKxy\u001b[0m\u001b[0;34m,\u001b[0m \u001b[0;34m\"fro\"\u001b[0m\u001b[0;34m)\u001b[0m\u001b[0;34m**\u001b[0m\u001b[0;36m2\u001b[0m\u001b[0;34m/\u001b[0m\u001b[0mm\u001b[0m\u001b[0;34m/\u001b[0m\u001b[0mn\u001b[0m\u001b[0;31m \u001b[0m\u001b[0;31m\\\u001b[0m\u001b[0;34m\u001b[0m\u001b[0;34m\u001b[0m\u001b[0m\n\u001b[1;32m     45\u001b[0m         \u001b[0;34m-\u001b[0m \u001b[0mmxmy2\u001b[0m\u001b[0;34m(\u001b[0m\u001b[0mKxy\u001b[0m\u001b[0;34m,\u001b[0m \u001b[0mcomplete\u001b[0m\u001b[0;34m=\u001b[0m\u001b[0;32mTrue\u001b[0m\u001b[0;34m)\u001b[0m \u001b[0;34m+\u001b[0m \u001b[0;36m3\u001b[0m\u001b[0;34m*\u001b[0m\u001b[0mmyCxmy\u001b[0m\u001b[0;34m(\u001b[0m\u001b[0mKxy\u001b[0m\u001b[0;34m,\u001b[0m \u001b[0mcomplete\u001b[0m\u001b[0;34m=\u001b[0m\u001b[0;32mTrue\u001b[0m\u001b[0;34m)\u001b[0m \u001b[0;34m-\u001b[0m \u001b[0;36m3\u001b[0m\u001b[0;34m*\u001b[0m\u001b[0mmxmy2\u001b[0m\u001b[0;34m(\u001b[0m\u001b[0mKxy\u001b[0m\u001b[0;34m,\u001b[0m \u001b[0mcomplete\u001b[0m\u001b[0;34m=\u001b[0m\u001b[0;32mTrue\u001b[0m\u001b[0;34m)\u001b[0m \u001b[0;34m-\u001b[0m \u001b[0;36m4\u001b[0m\u001b[0;34m*\u001b[0m\u001b[0mmxCxmy\u001b[0m\u001b[0;34m(\u001b[0m\u001b[0mtKxx\u001b[0m\u001b[0;34m,\u001b[0m \u001b[0mKxy\u001b[0m\u001b[0;34m,\u001b[0m \u001b[0mcomplete\u001b[0m\u001b[0;34m=\u001b[0m\u001b[0;32mTrue\u001b[0m\u001b[0;34m)\u001b[0m\u001b[0;31m \u001b[0m\u001b[0;31m\\\u001b[0m\u001b[0;34m\u001b[0m\u001b[0;34m\u001b[0m\u001b[0m\n\u001b[0;32m---> 46\u001b[0;31m             \u001b[0;34m+\u001b[0m \u001b[0;36m4\u001b[0m\u001b[0;34m*\u001b[0m\u001b[0mmxmxmxmy\u001b[0m\u001b[0;34m(\u001b[0m\u001b[0mtKxx\u001b[0m\u001b[0;34m,\u001b[0m \u001b[0mKxy\u001b[0m\u001b[0;34m,\u001b[0m \u001b[0mcomplete\u001b[0m\u001b[0;34m=\u001b[0m\u001b[0;32mTrue\u001b[0m\u001b[0;34m)\u001b[0m \u001b[0;34m-\u001b[0m \u001b[0;36m2\u001b[0m\u001b[0;34m*\u001b[0m\u001b[0mmyCymx\u001b[0m\u001b[0;34m(\u001b[0m\u001b[0mtKyy\u001b[0m\u001b[0;34m,\u001b[0m \u001b[0mKxy\u001b[0m\u001b[0;34m,\u001b[0m \u001b[0mcomplete\u001b[0m\u001b[0;34m=\u001b[0m\u001b[0;32mTrue\u001b[0m\u001b[0;34m)\u001b[0m \u001b[0;34m+\u001b[0m \u001b[0;36m2\u001b[0m\u001b[0;34m*\u001b[0m\u001b[0mmymymxmy\u001b[0m\u001b[0;34m(\u001b[0m\u001b[0mtKyy\u001b[0m\u001b[0;34m,\u001b[0m \u001b[0mKxy\u001b[0m\u001b[0;34m,\u001b[0m \u001b[0mcomplete\u001b[0m\u001b[0;34m=\u001b[0m\u001b[0;32mTrue\u001b[0m\u001b[0;34m)\u001b[0m\u001b[0;34m\u001b[0m\u001b[0;34m\u001b[0m\u001b[0m\n\u001b[0m\u001b[1;32m     47\u001b[0m     \u001b[0mXi12\u001b[0m \u001b[0;34m=\u001b[0m \u001b[0mmxCxmx\u001b[0m\u001b[0;34m(\u001b[0m\u001b[0mtKxx\u001b[0m\u001b[0;34m)\u001b[0m \u001b[0;34m-\u001b[0m \u001b[0mmxmx2\u001b[0m\u001b[0;34m(\u001b[0m\u001b[0mtKxx\u001b[0m\u001b[0;34m)\u001b[0m \u001b[0;34m+\u001b[0m \u001b[0mjnp\u001b[0m\u001b[0;34m.\u001b[0m\u001b[0mlinalg\u001b[0m\u001b[0;34m.\u001b[0m\u001b[0mnorm\u001b[0m\u001b[0;34m(\u001b[0m\u001b[0mtKyy\u001b[0m\u001b[0;34m,\u001b[0m \u001b[0;34m\"fro\"\u001b[0m\u001b[0;34m)\u001b[0m\u001b[0;34m**\u001b[0m\u001b[0;36m2\u001b[0m\u001b[0;34m/\u001b[0m\u001b[0mfactorial\u001b[0m\u001b[0;34m(\u001b[0m\u001b[0mn\u001b[0m\u001b[0;34m,\u001b[0m \u001b[0;36m2\u001b[0m\u001b[0;34m)\u001b[0m \u001b[0;34m-\u001b[0m \u001b[0mmymy2\u001b[0m\u001b[0;34m(\u001b[0m\u001b[0mtKyy\u001b[0m\u001b[0;34m)\u001b[0m \u001b[0;34m+\u001b[0m \u001b[0mjnp\u001b[0m\u001b[0;34m.\u001b[0m\u001b[0mlinalg\u001b[0m\u001b[0;34m.\u001b[0m\u001b[0mnorm\u001b[0m\u001b[0;34m(\u001b[0m\u001b[0mKxy\u001b[0m\u001b[0;34m,\u001b[0m \u001b[0;34m\"fro\"\u001b[0m\u001b[0;34m)\u001b[0m\u001b[0;34m**\u001b[0m\u001b[0;36m2\u001b[0m\u001b[0;34m/\u001b[0m\u001b[0mm\u001b[0m\u001b[0;34m/\u001b[0m\u001b[0mn\u001b[0m\u001b[0;31m \u001b[0m\u001b[0;31m\\\u001b[0m\u001b[0;34m\u001b[0m\u001b[0;34m\u001b[0m\u001b[0m\n\u001b[1;32m     48\u001b[0m         \u001b[0;34m-\u001b[0m \u001b[0mmxmy2\u001b[0m\u001b[0;34m(\u001b[0m\u001b[0mKxy\u001b[0m\u001b[0;34m,\u001b[0m \u001b[0mcomplete\u001b[0m\u001b[0;34m=\u001b[0m\u001b[0;32mTrue\u001b[0m\u001b[0;34m)\u001b[0m \u001b[0;34m+\u001b[0m \u001b[0;36m3\u001b[0m\u001b[0;34m*\u001b[0m\u001b[0mmxCymx\u001b[0m\u001b[0;34m(\u001b[0m\u001b[0mKxy\u001b[0m\u001b[0;34m,\u001b[0m \u001b[0mcomplete\u001b[0m\u001b[0;34m=\u001b[0m\u001b[0;32mTrue\u001b[0m\u001b[0;34m)\u001b[0m \u001b[0;34m-\u001b[0m \u001b[0;36m3\u001b[0m\u001b[0;34m*\u001b[0m\u001b[0mmxmy2\u001b[0m\u001b[0;34m(\u001b[0m\u001b[0mKxy\u001b[0m\u001b[0;34m,\u001b[0m \u001b[0mcomplete\u001b[0m\u001b[0;34m=\u001b[0m\u001b[0;32mTrue\u001b[0m\u001b[0;34m)\u001b[0m \u001b[0;34m-\u001b[0m \u001b[0;36m2\u001b[0m\u001b[0;34m*\u001b[0m\u001b[0mmxCxmy\u001b[0m\u001b[0;34m(\u001b[0m\u001b[0mtKxx\u001b[0m\u001b[0;34m,\u001b[0m \u001b[0mKxy\u001b[0m\u001b[0;34m,\u001b[0m \u001b[0mcomplete\u001b[0m\u001b[0;34m=\u001b[0m\u001b[0;32mTrue\u001b[0m\u001b[0;34m)\u001b[0m\u001b[0;31m \u001b[0m\u001b[0;31m\\\u001b[0m\u001b[0;34m\u001b[0m\u001b[0;34m\u001b[0m\u001b[0m\n",
      "\u001b[0;32m~/MMD/sub_expressions.py\u001b[0m in \u001b[0;36mmymymxmy\u001b[0;34m(tKyy, Kxy, complete)\u001b[0m\n\u001b[1;32m     78\u001b[0m         \u001b[0;31m# Adjusting calculations for the 'complete' scenario.\u001b[0m\u001b[0;34m\u001b[0m\u001b[0;34m\u001b[0m\u001b[0m\n\u001b[1;32m     79\u001b[0m         \u001b[0;31m# Assuming tKyy is n x n and Kxy is m x n for the 'complete' flag being True.\u001b[0m\u001b[0;34m\u001b[0m\u001b[0;34m\u001b[0m\u001b[0m\n\u001b[0;32m---> 80\u001b[0;31m         \u001b[0mterm1\u001b[0m \u001b[0;34m=\u001b[0m  \u001b[0;34m(\u001b[0m\u001b[0mone_n\u001b[0m\u001b[0;34m.\u001b[0m\u001b[0mT\u001b[0m \u001b[0;34m@\u001b[0m \u001b[0mtKyy\u001b[0m \u001b[0;34m@\u001b[0m \u001b[0mone_n\u001b[0m\u001b[0;34m)\u001b[0m \u001b[0;34m*\u001b[0m \u001b[0;34m(\u001b[0m\u001b[0mone_m\u001b[0m\u001b[0;34m.\u001b[0m\u001b[0mT\u001b[0m \u001b[0;34m@\u001b[0m \u001b[0mKxy\u001b[0m \u001b[0;34m@\u001b[0m \u001b[0mone_n\u001b[0m\u001b[0;34m)\u001b[0m  \u001b[0;31m# Scalar result\u001b[0m\u001b[0;34m\u001b[0m\u001b[0;34m\u001b[0m\u001b[0m\n\u001b[0m\u001b[1;32m     81\u001b[0m         \u001b[0mterm2\u001b[0m \u001b[0;34m=\u001b[0m \u001b[0mone_m\u001b[0m\u001b[0;34m.\u001b[0m\u001b[0mT\u001b[0m \u001b[0;34m@\u001b[0m \u001b[0mKxy\u001b[0m \u001b[0;34m@\u001b[0m \u001b[0mtKyy\u001b[0m \u001b[0;34m@\u001b[0m \u001b[0mone_n\u001b[0m  \u001b[0;31m# Scalar result\u001b[0m\u001b[0;34m\u001b[0m\u001b[0;34m\u001b[0m\u001b[0m\n\u001b[1;32m     82\u001b[0m         \u001b[0mres\u001b[0m \u001b[0;34m=\u001b[0m \u001b[0;34m(\u001b[0m\u001b[0mterm1\u001b[0m \u001b[0;34m-\u001b[0m \u001b[0;36m2\u001b[0m \u001b[0;34m*\u001b[0m \u001b[0mterm2\u001b[0m\u001b[0;34m)\u001b[0m \u001b[0;34m/\u001b[0m \u001b[0;34m(\u001b[0m\u001b[0mm\u001b[0m \u001b[0;34m*\u001b[0m \u001b[0mfactorial\u001b[0m\u001b[0;34m(\u001b[0m\u001b[0mn\u001b[0m\u001b[0;34m,\u001b[0m \u001b[0;36m3\u001b[0m\u001b[0;34m)\u001b[0m\u001b[0;34m)\u001b[0m\u001b[0;34m\u001b[0m\u001b[0;34m\u001b[0m\u001b[0m\n",
      "\u001b[0;32m~/anaconda3/envs/mmdenv/lib/python3.9/site-packages/jax/_src/numpy/array_methods.py\u001b[0m in \u001b[0;36mdeferring_binary_op\u001b[0;34m(self, other)\u001b[0m\n\u001b[1;32m    254\u001b[0m     \u001b[0margs\u001b[0m \u001b[0;34m=\u001b[0m \u001b[0;34m(\u001b[0m\u001b[0mother\u001b[0m\u001b[0;34m,\u001b[0m \u001b[0mself\u001b[0m\u001b[0;34m)\u001b[0m \u001b[0;32mif\u001b[0m \u001b[0mswap\u001b[0m \u001b[0;32melse\u001b[0m \u001b[0;34m(\u001b[0m\u001b[0mself\u001b[0m\u001b[0;34m,\u001b[0m \u001b[0mother\u001b[0m\u001b[0;34m)\u001b[0m\u001b[0;34m\u001b[0m\u001b[0;34m\u001b[0m\u001b[0m\n\u001b[1;32m    255\u001b[0m     \u001b[0;32mif\u001b[0m \u001b[0misinstance\u001b[0m\u001b[0;34m(\u001b[0m\u001b[0mother\u001b[0m\u001b[0;34m,\u001b[0m \u001b[0m_accepted_binop_types\u001b[0m\u001b[0;34m)\u001b[0m\u001b[0;34m:\u001b[0m\u001b[0;34m\u001b[0m\u001b[0;34m\u001b[0m\u001b[0m\n\u001b[0;32m--> 256\u001b[0;31m       \u001b[0;32mreturn\u001b[0m \u001b[0mbinary_op\u001b[0m\u001b[0;34m(\u001b[0m\u001b[0;34m*\u001b[0m\u001b[0margs\u001b[0m\u001b[0;34m)\u001b[0m\u001b[0;34m\u001b[0m\u001b[0;34m\u001b[0m\u001b[0m\n\u001b[0m\u001b[1;32m    257\u001b[0m     \u001b[0;31m# Note: don't use isinstance here, because we don't want to raise for\u001b[0m\u001b[0;34m\u001b[0m\u001b[0;34m\u001b[0m\u001b[0m\n\u001b[1;32m    258\u001b[0m     \u001b[0;31m# subclasses, e.g. NamedTuple objects that may override operators.\u001b[0m\u001b[0;34m\u001b[0m\u001b[0;34m\u001b[0m\u001b[0m\n",
      "\u001b[0;31mKeyboardInterrupt\u001b[0m: "
     ]
    }
   ],
   "source": [
    "# Repeat experiments K times (K = 10) and report average test power (rejection rate)\n",
    "for kk in tqdm(range(K)):\n",
    "    torch.manual_seed(kk * 19 + N1)\n",
    "    torch.cuda.manual_seed(kk * 19 + N1)\n",
    "    np.random.seed(seed=1102 * (kk + 10) + N1)\n",
    "    \n",
    "    # Initialize deep networks for MMD-D (called featurizer)\n",
    "    featurizer_com = Featurizer_COM()\n",
    "    \n",
    "    # Initialize parameters\n",
    "    epsilonOPT = torch.log(MatConvert(np.random.rand(1) * 10 ** (-10), device, dtype))\n",
    "    epsilonOPT.requires_grad = True\n",
    "    sigmaOPT = MatConvert(np.ones(1) * np.sqrt(2 * 32 * 32), device, dtype)\n",
    "    sigmaOPT.requires_grad = True\n",
    "    sigma0OPT = MatConvert(np.ones(1) * np.sqrt(0.005), device, dtype)\n",
    "    sigma0OPT.requires_grad = True\n",
    "    if cuda:\n",
    "        featurizer_com.cuda()\n",
    "\n",
    "    # Collect CIFAR10 images\n",
    "    Ind_tr = np.random.choice(len(data_all), N1, replace=False)\n",
    "    Ind_te = np.delete(Ind_all, Ind_tr)\n",
    "    train_data = []\n",
    "    for i in Ind_tr:\n",
    "       train_data.append([data_all[i], label_all[i]])\n",
    "\n",
    "    dataloader = torch.utils.data.DataLoader(\n",
    "        train_data,\n",
    "        batch_size=batch_size,\n",
    "        shuffle=True,\n",
    "    )\n",
    "\n",
    "    # Collect CIFAR10.1 images\n",
    "    np.random.seed(seed=819 * (kk + 9) + N1)\n",
    "    Ind_tr_v4 = np.random.choice(len(data_T), N1, replace=False)\n",
    "    Ind_te_v4 = np.delete(Ind_v4_all, Ind_tr_v4)\n",
    "    New_CIFAR_tr = data_trans[Ind_tr_v4]\n",
    "    New_CIFAR_te = data_trans[Ind_te_v4]\n",
    "\n",
    "    # Initialize optimizers\n",
    "    optimizer_COM = torch.optim.Adam(list(featurizer_com.parameters()) + [epsilonOPT] + [sigmaOPT] + [sigma0OPT], lr=lr, weight_decay=1e-4)\n",
    "    scheduler_COM = torch.optim.lr_scheduler.ReduceLROnPlateau(optimizer_COM, 'min', factor=0.5, patience=20, verbose=True)\n",
    "    Tensor = torch.cuda.FloatTensor if cuda else torch.FloatTensor\n",
    "\n",
    "    # ----------------------------------------------------------------------------------------------------\n",
    "    #  Training deep networks for MMD-D (called featurizer)\n",
    "    # ----------------------------------------------------------------------------------------------------\n",
    "    np.random.seed(seed=1102)\n",
    "    torch.manual_seed(1102)\n",
    "    torch.cuda.manual_seed(1102)\n",
    "    for epoch in tqdm(range(n_epochs)):\n",
    "        for i, (imgs, _) in enumerate(dataloader):\n",
    "            if True:\n",
    "                ind = np.random.choice(N1, imgs.shape[0], replace=False)\n",
    "                Fake_imgs = New_CIFAR_tr[ind]\n",
    "                # Adversarial ground truths\n",
    "                valid = Variable(Tensor(imgs.shape[0], 1).fill_(1.0), requires_grad=False)\n",
    "                fake = Variable(Tensor(imgs.shape[0], 1).fill_(0.0), requires_grad=False)\n",
    "\n",
    "                # Configure input\n",
    "                real_imgs = Variable(imgs.type(Tensor))\n",
    "                Fake_imgs = Variable(Fake_imgs.type(Tensor))\n",
    "                X = torch.cat([real_imgs, Fake_imgs], 0)\n",
    "                Y = torch.cat([valid, fake], 0).squeeze().long()\n",
    "\n",
    "                # ------------------------------\n",
    "                #  Train deep network for MMD-D\n",
    "                # ------------------------------\n",
    "                # Initialize optimizer\n",
    "                optimizer_COM.zero_grad()\n",
    "                \n",
    "                # Compute output of deep network\n",
    "                com_modelu_output = featurizer_com(X)\n",
    "                \n",
    "                # Compute epsilon, sigma and sigma_0\n",
    "                ep = torch.exp(epsilonOPT) / (1 + torch.exp(epsilonOPT))\n",
    "                sigma = sigmaOPT ** 2\n",
    "                sigma0_u = sigma0OPT ** 2\n",
    "                \n",
    "                # Compute Compute J (STAT_u)\n",
    "                COM_TEMP = MMDu(com_modelu_output, imgs.shape[0], X.view(X.shape[0],-1), sigma, sigma0_u, ep, complete=True)\n",
    "                com_mmd = - COM_TEMP[0]\n",
    "                com_mmd_std_tmp_tensor = jnp_to_tensor(np.abs(COM_TEMP[1]))\n",
    "                com_mmd_std = torch.sqrt(com_mmd_std_tmp_tensor)\n",
    "                COM_STAT_u = torch.div(com_mmd, com_mmd_std)\n",
    "                # COM_LOSS = - torch.log(com_mmd) + torch.log(com_mmd_std)\n",
    "                \n",
    "                if (epoch+1) % 100 == 0:\n",
    "                    print(\"=\" * 110)\n",
    "                    print(\"epoch : \",epoch+1)\n",
    "                    print(\"our mmd: \", -1 * com_mmd.item(), \"our mmd_std: \", com_mmd_std.item(), \"our statistic: \",\n",
    "                    -1 * COM_STAT_u.item())\n",
    "                    \n",
    "                # Compute gradient\n",
    "                COM_STAT_u.backward()\n",
    "                # COM_LOSS.backward()\n",
    "                \n",
    "                # Update weights using gradient descent\n",
    "                optimizer_COM.step()\n",
    "                scheduler_COM.step(COM_STAT_u.item())\n",
    "            else:\n",
    "                break\n",
    "\n",
    "    # Compute test power of MMD-D and baselines\n",
    "    DK_H_u = np.zeros(N)\n",
    "    COM_H_u = np.zeros(N)\n",
    "\n",
    "    np.random.seed(1102)\n",
    "    dk_count_u = 0\n",
    "    com_count_u = 0\n",
    "\n",
    "    for k in tqdm(range(N)):\n",
    "        # Fetch test data\n",
    "        np.random.seed(seed=1102 * (k + 1) + N1)\n",
    "        data_all_te = data_all[Ind_te]\n",
    "        N_te = len(data_trans)-N1\n",
    "        Ind_N_te = np.random.choice(len(Ind_te), N_te, replace=False)\n",
    "        s1 = data_all_te[Ind_N_te]\n",
    "        s2 = data_trans[Ind_te_v4]\n",
    "        S = torch.cat([s1.cpu(), s2.cpu()], 0).cuda()\n",
    "        Sv = S.view(2 * N_te, -1)\n",
    "        # MMD-D\n",
    "        com_h_u, com_threshold_u, com_mmd_value_u = TST_MMD_u(featurizer_com(S), N_per, N_te, Sv, sigma, sigma0_u, ep, alpha, device, dtype, complete=True)\n",
    "\n",
    "        # Gather results\n",
    "        com_count_u = com_count_u + com_h_u\n",
    "        print(\"\\r\",\"Ours:\", com_count_u, \"MMD: \", com_mmd_value_u, end=\"\")\n",
    "        COM_H_u[k] = com_h_u\n",
    "\n",
    "    # Print test power of MMD-D and baselines\n",
    "    print(\"Our Reject rate_u: \", COM_H_u.sum() / N_f)\n",
    "    COM_Results[0, kk] = COM_H_u.sum() / N_f\n",
    "    print(f\"Test Power of Ours ({K} times): \")\n",
    "    print(f\"{COM_Results}\")\n",
    "    print(f\"Average Test Power of Ours ({K} times): \")\n",
    "    print(\"Ours: \", (COM_Results.sum(1) / (kk + 1))[0])"
   ]
  },
  {
   "cell_type": "code",
   "execution_count": null,
   "metadata": {},
   "outputs": [],
   "source": []
  },
  {
   "cell_type": "markdown",
   "metadata": {},
   "source": [
    "#### Epoch 20 / lr: 0.0005\n",
    "[[0.23 0.94 0.25 0.37 0.6  0.1  0.36 0.31 0.23 0.4 ]\n",
    " [0.   0.   0.   0.   0.   0.   0.   0.   0.   0.  ]]\n",
    "Average Test Power of Baselines (10 times): \n",
    "MMD-D:  0.379"
   ]
  },
  {
   "cell_type": "code",
   "execution_count": null,
   "metadata": {},
   "outputs": [],
   "source": []
  }
 ],
 "metadata": {
  "kernelspec": {
   "display_name": "mmdenv",
   "language": "python",
   "name": "python3"
  },
  "language_info": {
   "codemirror_mode": {
    "name": "ipython",
    "version": 3
   },
   "file_extension": ".py",
   "mimetype": "text/x-python",
   "name": "python",
   "nbconvert_exporter": "python",
   "pygments_lexer": "ipython3",
   "version": "3.9.13"
  }
 },
 "nbformat": 4,
 "nbformat_minor": 2
}
