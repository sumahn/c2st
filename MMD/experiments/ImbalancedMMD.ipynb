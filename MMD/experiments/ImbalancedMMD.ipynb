{
 "cells": [
  {
   "cell_type": "code",
   "execution_count": 1,
   "metadata": {},
   "outputs": [],
   "source": [
    "import sys \n",
    "sys.path.append('../')"
   ]
  },
  {
   "cell_type": "code",
   "execution_count": 2,
   "metadata": {},
   "outputs": [],
   "source": [
    "from sampler.sampler_perturbations import sampler_perturbations\n",
    "from all_tests import mmdfuse_test, mmd_median_test, mmdagg_test, mmdagginc_test\n",
    "\n",
    "\n",
    "import numpy as np\n",
    "import jax \n",
    "import jax.numpy as jnp\n",
    "from jax import random \n",
    "\n",
    "import itertools\n",
    "from tqdm.auto import tqdm \n",
    "from pathlib import Path \n",
    "Path(\"../results\").mkdir(exist_ok=True)\n",
    "\n",
    "%load_ext autoreload\n",
    "%autoreload 2"
   ]
  },
  {
   "cell_type": "code",
   "execution_count": 4,
   "metadata": {},
   "outputs": [],
   "source": [
    "import os \n",
    "os.environ[\"CUDA_VISIBLE_DEVICES\"] = \"4\""
   ]
  },
  {
   "cell_type": "code",
   "execution_count": 5,
   "metadata": {},
   "outputs": [
    {
     "name": "stdout",
     "output_type": "stream",
     "text": [
      "cpu\n"
     ]
    }
   ],
   "source": [
    "from jax.lib import xla_bridge\n",
    "print(xla_bridge.get_backend().platform)"
   ]
  },
  {
   "cell_type": "markdown",
   "metadata": {},
   "source": [
    "#### Unequal Sample Size"
   ]
  },
  {
   "cell_type": "code",
   "execution_count": 6,
   "metadata": {},
   "outputs": [
    {
     "data": {
      "application/vnd.jupyter.widget-view+json": {
       "model_id": "25497308d4604a5cb8ddd800c380ee8e",
       "version_major": 2,
       "version_minor": 0
      },
      "text/plain": [
       "0it [00:00, ?it/s]"
      ]
     },
     "metadata": {},
     "output_type": "display_data"
    },
    {
     "data": {
      "application/vnd.jupyter.widget-view+json": {
       "model_id": "fff327fef58f4f47b46bd185ee714469",
       "version_major": 2,
       "version_minor": 0
      },
      "text/plain": [
       "  0%|          | 0/200 [00:00<?, ?it/s]"
      ]
     },
     "metadata": {},
     "output_type": "display_data"
    },
    {
     "data": {
      "application/vnd.jupyter.widget-view+json": {
       "model_id": "0431876a320745538de54e45e1441c0b",
       "version_major": 2,
       "version_minor": 0
      },
      "text/plain": [
       "  0%|          | 0/200 [00:00<?, ?it/s]"
      ]
     },
     "metadata": {},
     "output_type": "display_data"
    },
    {
     "data": {
      "application/vnd.jupyter.widget-view+json": {
       "model_id": "6ca37fb5f07f4b8694446e52b62831b7",
       "version_major": 2,
       "version_minor": 0
      },
      "text/plain": [
       "  0%|          | 0/200 [00:00<?, ?it/s]"
      ]
     },
     "metadata": {},
     "output_type": "display_data"
    },
    {
     "data": {
      "application/vnd.jupyter.widget-view+json": {
       "model_id": "49c635efcfc44e3db56475176f5b9a92",
       "version_major": 2,
       "version_minor": 0
      },
      "text/plain": [
       "  0%|          | 0/200 [00:00<?, ?it/s]"
      ]
     },
     "metadata": {},
     "output_type": "display_data"
    },
    {
     "data": {
      "application/vnd.jupyter.widget-view+json": {
       "model_id": "a271ad5e2cf84539a9f429a201d5c6e9",
       "version_major": 2,
       "version_minor": 0
      },
      "text/plain": [
       "  0%|          | 0/200 [00:00<?, ?it/s]"
      ]
     },
     "metadata": {},
     "output_type": "display_data"
    },
    {
     "data": {
      "application/vnd.jupyter.widget-view+json": {
       "model_id": "24107d34ffeb4669a529bd10eb94b967",
       "version_major": 2,
       "version_minor": 0
      },
      "text/plain": [
       "  0%|          | 0/200 [00:00<?, ?it/s]"
      ]
     },
     "metadata": {},
     "output_type": "display_data"
    },
    {
     "data": {
      "application/vnd.jupyter.widget-view+json": {
       "model_id": "efc700e4b0e14b08b36b19faa8a9b6a5",
       "version_major": 2,
       "version_minor": 0
      },
      "text/plain": [
       "  0%|          | 0/200 [00:00<?, ?it/s]"
      ]
     },
     "metadata": {},
     "output_type": "display_data"
    },
    {
     "data": {
      "application/vnd.jupyter.widget-view+json": {
       "model_id": "d0315c857d714d8d86a85b48eddc3d8e",
       "version_major": 2,
       "version_minor": 0
      },
      "text/plain": [
       "  0%|          | 0/200 [00:00<?, ?it/s]"
      ]
     },
     "metadata": {},
     "output_type": "display_data"
    },
    {
     "data": {
      "application/vnd.jupyter.widget-view+json": {
       "model_id": "7736c1fbd2af473f93c4ed31e5c64344",
       "version_major": 2,
       "version_minor": 0
      },
      "text/plain": [
       "  0%|          | 0/200 [00:00<?, ?it/s]"
      ]
     },
     "metadata": {},
     "output_type": "display_data"
    },
    {
     "data": {
      "application/vnd.jupyter.widget-view+json": {
       "model_id": "49e132b2d61a434bb3287763606dc52f",
       "version_major": 2,
       "version_minor": 0
      },
      "text/plain": [
       "  0%|          | 0/200 [00:00<?, ?it/s]"
      ]
     },
     "metadata": {},
     "output_type": "display_data"
    },
    {
     "data": {
      "application/vnd.jupyter.widget-view+json": {
       "model_id": "8ba9c64ee20d4ec49cbeed9efabeb84b",
       "version_major": 2,
       "version_minor": 0
      },
      "text/plain": [
       "  0%|          | 0/200 [00:00<?, ?it/s]"
      ]
     },
     "metadata": {},
     "output_type": "display_data"
    },
    {
     "data": {
      "application/vnd.jupyter.widget-view+json": {
       "model_id": "976d0cd923d741b798cb09a6b4aef7c6",
       "version_major": 2,
       "version_minor": 0
      },
      "text/plain": [
       "  0%|          | 0/200 [00:00<?, ?it/s]"
      ]
     },
     "metadata": {},
     "output_type": "display_data"
    }
   ],
   "source": [
    "import itertools\n",
    "import jax.numpy as jnp\n",
    "from jax import random\n",
    "\n",
    "# Your existing parameters\n",
    "repetitions = 200\n",
    "number_perturbations = 2\n",
    "scales = [0, 0.1, 0.2, 0.3, 0.4, 0.5]\n",
    "sample_sizes = [500, 1000, 1500, 2000, 2500, 3000]\n",
    "s_num = len(scales)\n",
    "ss_num = len(sample_sizes)\n",
    "d = 1\n",
    "tests = (mmdfuse_test, mmd_median_test, mmdagg_test, mmdagginc_test)\n",
    "\n",
    "# Initializing the arrays\n",
    "outputs = jnp.zeros((len(tests), len(scales), len(sample_sizes), repetitions))\n",
    "scale_sample_averages = jnp.zeros((len(scales), len(sample_sizes)))  # New array for averages\n",
    "key = random.PRNGKey(42)\n",
    "seed = 42\n",
    "\n",
    "# Running the tests\n",
    "for s, ss in tqdm(itertools.product(range(s_num), range(ss_num))):\n",
    "    m = sample_sizes[ss]\n",
    "    n = sample_sizes[0]\n",
    "    scale = scales[s]\n",
    "    for i in tqdm(range(repetitions)):\n",
    "        key, subkey = random.split(key)\n",
    "        X, Y = sampler_perturbations(m, n, d, number_perturbations, seed, scale)\n",
    "        key, subkey = random.split(key)\n",
    "        seed += 1\n",
    "        for t in range(len(tests)):\n",
    "            test = tests[t]\n",
    "            test_result = test(X, Y, subkey, seed)\n",
    "            outputs = outputs.at[t, s, ss, i].set(test_result)\n",
    "\n",
    "# Compute the mean across all tests for each scale and sample size\n",
    "for s, ss in itertools.product(range(s_num), range(ss_num)):\n",
    "    scale_sample_averages[s][ss] = jnp.mean(outputs[:, s, ss, :])\n",
    "\n",
    "# Saving and printing the results\n",
    "jnp.save(\"../results/perturbations_vary_dif_mn_d1_averages.npy\", scale_sample_averages`wui`)\n",
    "\n",
    "print(\"Averages by Scale and Sample Size\")\n",
    "print(\"Scales: \", scales)\n",
    "print(\"Sample Sizes: \", sample_sizes)\n",
    "print(scale_sample_averages)"
   ]
  },
  {
   "cell_type": "code",
   "execution_count": null,
   "metadata": {},
   "outputs": [],
   "source": []
  }
 ],
 "metadata": {
  "kernelspec": {
   "display_name": "mmdenv",
   "language": "python",
   "name": "python3"
  },
  "language_info": {
   "codemirror_mode": {
    "name": "ipython",
    "version": 3
   },
   "file_extension": ".py",
   "mimetype": "text/x-python",
   "name": "python",
   "nbconvert_exporter": "python",
   "pygments_lexer": "ipython3",
   "version": "3.9.13"
  }
 },
 "nbformat": 4,
 "nbformat_minor": 2
}
